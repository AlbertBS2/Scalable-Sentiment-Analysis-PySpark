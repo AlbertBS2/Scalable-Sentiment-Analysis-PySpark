{
 "cells": [
  {
   "cell_type": "code",
   "execution_count": 1,
   "id": "16a8c061-1eee-4db9-a5f9-c9f9c7760aaa",
   "metadata": {},
   "outputs": [],
   "source": [
    "from pyspark.sql import SparkSession\n",
    "import pyspark.sql.functions as F"
   ]
  },
  {
   "cell_type": "code",
   "execution_count": 2,
   "id": "07a8fb69-5e2c-49b9-81b3-5d2e4b89642a",
   "metadata": {},
   "outputs": [
    {
     "name": "stderr",
     "output_type": "stream",
     "text": [
      "Setting default log level to \"WARN\".\n",
      "To adjust logging level use sc.setLogLevel(newLevel). For SparkR, use setLogLevel(newLevel).\n",
      "25/03/19 22:41:36 WARN NativeCodeLoader: Unable to load native-hadoop library for your platform... using builtin-java classes where applicable\n",
      "25/03/19 22:41:38 WARN StandaloneSchedulerBackend: Dynamic allocation enabled without spark.executor.cores explicitly set, you may get more executors allocated than expected. It's recommended to set spark.executor.cores explicitly. Please check SPARK-30299 for more details.\n"
     ]
    }
   ],
   "source": [
    "spark_session = SparkSession.builder \\\n",
    "    .master(\"spark://192.168.2.47:7077\") \\\n",
    "    .appName(\"Group40_Project\") \\\n",
    "    .config(\"spark.dynamicAllocation.enabled\", True) \\\n",
    "    .config(\"spark.dynamicAllocation.shuffleTracking.enabled\", True) \\\n",
    "    .config(\"spark.shuffle.service.enabled\", False) \\\n",
    "    .config(\"spark.dynamicAllocation.executorIdleTimeout\", \"30s\") \\\n",
    "    .config(\"spark.executor.memory\", \"5G\") \\\n",
    "    .config(\"spark.cores.max\", 12) \\\n",
    "    .getOrCreate()\n",
    "\n",
    "# RDD API\n",
    "spark_context = spark_session.sparkContext\n",
    "spark_context.setLogLevel(\"ERROR\")"
   ]
  },
  {
   "cell_type": "markdown",
   "id": "97b415ed-b32f-4a04-a9d9-39cf82c94e66",
   "metadata": {},
   "source": [
    "## Loading the data as a DataFrame"
   ]
  },
  {
   "cell_type": "code",
   "execution_count": 4,
   "id": "51741c95-afd2-4f5b-bba1-9e2cfdda0a48",
   "metadata": {},
   "outputs": [
    {
     "name": "stderr",
     "output_type": "stream",
     "text": [
      "                                                                                "
     ]
    }
   ],
   "source": [
    "# Loading the dataset without the corrupted values\n",
    "df = spark_session.read.option(\"mode\", \"DROPMALFORMED\").json(\"hdfs://192.168.2.47:9000/data-project/reddit_50k.json\")"
   ]
  },
  {
   "cell_type": "code",
   "execution_count": 5,
   "id": "d7767fb4-349a-417d-a005-18e0f3d83dd7",
   "metadata": {},
   "outputs": [
    {
     "name": "stdout",
     "output_type": "stream",
     "text": [
      "root\n",
      " |-- author: string (nullable = true)\n",
      " |-- body: string (nullable = true)\n",
      " |-- content: string (nullable = true)\n",
      " |-- content_len: long (nullable = true)\n",
      " |-- id: string (nullable = true)\n",
      " |-- normalizedBody: string (nullable = true)\n",
      " |-- subreddit: string (nullable = true)\n",
      " |-- subreddit_id: string (nullable = true)\n",
      " |-- summary: string (nullable = true)\n",
      " |-- summary_len: long (nullable = true)\n",
      " |-- title: string (nullable = true)\n",
      "\n"
     ]
    }
   ],
   "source": [
    "df.printSchema()"
   ]
  },
  {
   "cell_type": "code",
   "execution_count": 6,
   "id": "a3e6da23-8b65-4430-b61b-aa2c31c5a4bc",
   "metadata": {},
   "outputs": [
    {
     "name": "stdout",
     "output_type": "stream",
     "text": [
      "+---------------+--------------------+--------------------+-----------+-------+--------------------+---------------+------------+--------------------+-----------+--------------------+\n",
      "|         author|                body|             content|content_len|     id|      normalizedBody|      subreddit|subreddit_id|             summary|summary_len|               title|\n",
      "+---------------+--------------------+--------------------+-----------+-------+--------------------+---------------+------------+--------------------+-----------+--------------------+\n",
      "|       SickSean|There was a inter...|There was a inter...|        201|c6jejpr|There was a inter...|        answers|    t5_2qkeh|Japan got lazy, a...|          9|                NULL|\n",
      "|       debee1jp|A few months ago:...|A few months ago:...|         55|c6r75ss|A few months ago:...|leagueoflegends|    t5_2rfxx|       Brand is fine|          3|How to bring Bran...|\n",
      "|EveningCrickets|I voted for Obama...|I voted for Obama...|        425|c6st5gy|I voted for Obama...|      AskReddit|    t5_2qh1i|2008 my vote was ...|         46|                NULL|\n",
      "|        Carnagh|&gt; Overall musi...|Overall music sal...|         59|c6x6cdp|> Overall music s...|     technology|    t5_2qh16|I'm talking about...|         13|                NULL|\n",
      "|      ArmyofWon|\"Contributing to ...|Contributing to t...|        230|c71xjv6|\"Contributing to ...|            mwo|    t5_2t1w0|Bad team =/= Bad ...|         20|                NULL|\n",
      "|        axis-_-|I don't know what...|I don't know what...|         87|c7906iv|I don't know what...|      AskReddit|    t5_2qh1i|Minimum comment k...|          5|                NULL|\n",
      "|      Recruit42|I remember some t...|I remember some t...|        192|c7pzv09|I remember some t...|           pics|    t5_2qh0u|Brother caught me...|         15|                NULL|\n",
      "|       badjuice|Are you being sar...|Are you being sar...|        474|c810028|Are you being sar...|  relationships|    t5_2qjvn|I started my post...|         87|My (F/24) boyfrie...|\n",
      "|       haskell3|          **Morsi...|Morsi's aid is wr...|        114|c87szia|      **Morsi's a...|      worldnews|    t5_2qh13|Jews went to amer...|         21|                NULL|\n",
      "|     hudsoneezy|I think there are...|I think there are...|        157|c94tl14|I think there are...|      AskReddit|    t5_2qh1i|When you have fri...|         24|                NULL|\n",
      "+---------------+--------------------+--------------------+-----------+-------+--------------------+---------------+------------+--------------------+-----------+--------------------+\n",
      "only showing top 10 rows\n",
      "\n"
     ]
    }
   ],
   "source": [
    "df.show(10)"
   ]
  },
  {
   "cell_type": "code",
   "execution_count": 7,
   "id": "4e6bc83d-c1ea-40e8-a38f-28ed117dedfd",
   "metadata": {},
   "outputs": [],
   "source": [
    "df_prep = df.drop('body', 'content', 'id', 'subreddit_id', 'title', 'author', 'content_len', 'summary', 'summary_len')\n",
    "#df_prep = df_prep.withColumn(\"content_len\", F.col(\"content_len\").cast(\"int\"))\n",
    "#df_prep = df_prep.withColumn(\"summary_len\", F.col(\"summary_len\").cast(\"int\"))"
   ]
  },
  {
   "cell_type": "code",
   "execution_count": 8,
   "id": "3e2d5cb7-2554-4e2f-8cb8-97f1d2ae7d96",
   "metadata": {},
   "outputs": [
    {
     "name": "stdout",
     "output_type": "stream",
     "text": [
      "root\n",
      " |-- normalizedBody: string (nullable = true)\n",
      " |-- subreddit: string (nullable = true)\n",
      "\n"
     ]
    }
   ],
   "source": [
    "df_prep.printSchema()"
   ]
  },
  {
   "cell_type": "code",
   "execution_count": 9,
   "id": "14f33371-d100-4238-b6e9-0bd410ca88c3",
   "metadata": {},
   "outputs": [
    {
     "name": "stdout",
     "output_type": "stream",
     "text": [
      "+--------------------+---------------+\n",
      "|      normalizedBody|      subreddit|\n",
      "+--------------------+---------------+\n",
      "|There was a inter...|        answers|\n",
      "|A few months ago:...|leagueoflegends|\n",
      "|I voted for Obama...|      AskReddit|\n",
      "|> Overall music s...|     technology|\n",
      "|\"Contributing to ...|            mwo|\n",
      "|I don't know what...|      AskReddit|\n",
      "|I remember some t...|           pics|\n",
      "|Are you being sar...|  relationships|\n",
      "|      **Morsi's a...|      worldnews|\n",
      "|I think there are...|      AskReddit|\n",
      "+--------------------+---------------+\n",
      "only showing top 10 rows\n",
      "\n"
     ]
    }
   ],
   "source": [
    "df_prep.show(10)"
   ]
  },
  {
   "cell_type": "markdown",
   "id": "f16a8819-564d-4804-8f0c-e3337c396c73",
   "metadata": {},
   "source": [
    "## Preprocessing texts"
   ]
  },
  {
   "cell_type": "code",
   "execution_count": 10,
   "id": "ae32511c-e940-4b02-a285-88317bef3ee4",
   "metadata": {},
   "outputs": [
    {
     "name": "stderr",
     "output_type": "stream",
     "text": [
      "[nltk_data] Downloading package stopwords to /home/ubuntu/nltk_data...\n",
      "[nltk_data]   Package stopwords is already up-to-date!\n",
      "[nltk_data] Downloading package wordnet to /home/ubuntu/nltk_data...\n",
      "[nltk_data]   Package wordnet is already up-to-date!\n"
     ]
    },
    {
     "data": {
      "text/plain": [
       "True"
      ]
     },
     "execution_count": 10,
     "metadata": {},
     "output_type": "execute_result"
    }
   ],
   "source": [
    "import re\n",
    "import nltk\n",
    "from nltk.corpus import stopwords\n",
    "from nltk.stem import WordNetLemmatizer\n",
    "\n",
    "nltk.download('stopwords')\n",
    "nltk.download('wordnet')"
   ]
  },
  {
   "cell_type": "code",
   "execution_count": 11,
   "id": "5e7e7730-627f-4fd1-9aa3-180db13e8613",
   "metadata": {},
   "outputs": [],
   "source": [
    "def preprocess_text(text):\n",
    "    # Lowercase the text\n",
    "    text = text.lower()\n",
    "    \n",
    "    # Remove special characters and extra spaces\n",
    "    text = re.sub(r'\\W+', ' ', text)\n",
    "    \n",
    "    # Split text into words\n",
    "    words = text.split()\n",
    "\n",
    "    # Remove stopwords\n",
    "    stop_words = stopwords.words('english')\n",
    "    words = [w for w in words if w not in stop_words]\n",
    "\n",
    "    # Lemmatize words\n",
    "    lemmatizer = WordNetLemmatizer()\n",
    "    words = [lemmatizer.lemmatize(w) for w in words]\n",
    "\n",
    "    out_text = ' '.join(words)\n",
    "\n",
    "    return out_text"
   ]
  },
  {
   "cell_type": "code",
   "execution_count": 12,
   "id": "ea236cd4-7925-4396-b236-e512037dc611",
   "metadata": {},
   "outputs": [
    {
     "data": {
      "text/plain": [
       "'sample text check word removed'"
      ]
     },
     "execution_count": 12,
     "metadata": {},
     "output_type": "execute_result"
    }
   ],
   "source": [
    "t = preprocess_text(\"This is a sample text to check which words are removed or not.\")\n",
    "t"
   ]
  },
  {
   "cell_type": "code",
   "execution_count": 32,
   "id": "94c251ed-090b-4310-a917-c9837834d1be",
   "metadata": {},
   "outputs": [],
   "source": [
    "df_top = df_prep.select('subreddit') \\\n",
    "                .groupBy('subreddit').count() \\\n",
    "                .sort('count', ascending=False) \\\n",
    "                .limit(25)"
   ]
  },
  {
   "cell_type": "code",
   "execution_count": 56,
   "id": "7a835e63-3e94-4e90-8b7c-19f131f0259b",
   "metadata": {},
   "outputs": [
    {
     "name": "stdout",
     "output_type": "stream",
     "text": [
      "['AskReddit', 'relationships', 'leagueoflegends', 'relationship_advice', 'trees', 'tifu', 'gaming', 'funny', 'atheism', 'AdviceAnimals', 'politics', 'pics', 'sex', 'todayilearned', 'WTF', 'Fitness', 'explainlikeimfive', 'worldnews', 'TwoXChromosomes', 'DotA2', 'videos', 'DestinyTheGame', 'IAmA', 'reddit.com', 'offmychest']\n"
     ]
    }
   ],
   "source": [
    "top25_subreddits = []\n",
    "for i in range(25):\n",
    "    top25_subreddits.append(df_top.collect()[i][0])\n",
    "\n",
    "print(top25_subreddits)"
   ]
  },
  {
   "cell_type": "code",
   "execution_count": 13,
   "id": "75977473-f36c-4625-8f44-670c2fbb1aa4",
   "metadata": {},
   "outputs": [],
   "source": [
    "top10_subreddits = ['AskReddit', 'relationships', 'leagueoflegends', 'tifu', 'relationship_advice', 'trees', 'gaming', 'atheism', 'AdviceAnimals', 'funny']"
   ]
  },
  {
   "cell_type": "code",
   "execution_count": 57,
   "id": "96694bfd-6f6f-43b0-ba62-bc29b2ee6251",
   "metadata": {},
   "outputs": [],
   "source": [
    "df_top10_sr = df_prep.filter(df_prep['subreddit'].isin(top25_subreddits))"
   ]
  },
  {
   "cell_type": "code",
   "execution_count": 58,
   "id": "a9bfb0ca-b6c8-4b84-b977-9c57cba32302",
   "metadata": {},
   "outputs": [
    {
     "name": "stdout",
     "output_type": "stream",
     "text": [
      "+--------------------+---------------+\n",
      "|      normalizedBody|      subreddit|\n",
      "+--------------------+---------------+\n",
      "|A few months ago:...|leagueoflegends|\n",
      "|I voted for Obama...|      AskReddit|\n",
      "|I don't know what...|      AskReddit|\n",
      "|I remember some t...|           pics|\n",
      "|Are you being sar...|  relationships|\n",
      "|      **Morsi's a...|      worldnews|\n",
      "|I think there are...|      AskReddit|\n",
      "|The original Mari...|      AskReddit|\n",
      "|Ate some acid wit...|      AskReddit|\n",
      "|I had a teacher i...|            WTF|\n",
      "+--------------------+---------------+\n",
      "only showing top 10 rows\n",
      "\n"
     ]
    }
   ],
   "source": [
    "df_top10_sr.show(10)"
   ]
  },
  {
   "cell_type": "code",
   "execution_count": 59,
   "id": "5e3c8163-2da7-4fbf-8727-7bb5b37d71df",
   "metadata": {},
   "outputs": [],
   "source": [
    "from pyspark.sql.functions import udf"
   ]
  },
  {
   "cell_type": "code",
   "execution_count": 60,
   "id": "0e702d7d-4995-43a7-bb4c-7eb5f013b670",
   "metadata": {},
   "outputs": [],
   "source": [
    "preprocess_text_udf = udf(preprocess_text, \"string\")"
   ]
  },
  {
   "cell_type": "code",
   "execution_count": 61,
   "id": "0f809ffd-0566-4a2c-96ac-f19acf93724e",
   "metadata": {},
   "outputs": [],
   "source": [
    "df_top10_sr = df_top10_sr.withColumn(\"clean_text\", preprocess_text_udf(df_top10_sr['normalizedBody']))"
   ]
  },
  {
   "cell_type": "markdown",
   "id": "f979f6bc-4600-4aac-b919-339e49c1c45e",
   "metadata": {},
   "source": [
    "## Rule based sentiment analysis with VADER"
   ]
  },
  {
   "cell_type": "code",
   "execution_count": 62,
   "id": "84bbf5d3-a00f-4721-888c-d1de060dc93e",
   "metadata": {},
   "outputs": [
    {
     "name": "stderr",
     "output_type": "stream",
     "text": [
      "[nltk_data] Downloading package vader_lexicon to\n",
      "[nltk_data]     /home/ubuntu/nltk_data...\n",
      "[nltk_data]   Package vader_lexicon is already up-to-date!\n"
     ]
    },
    {
     "data": {
      "text/plain": [
       "True"
      ]
     },
     "execution_count": 62,
     "metadata": {},
     "output_type": "execute_result"
    }
   ],
   "source": [
    "from nltk.sentiment import SentimentIntensityAnalyzer\n",
    "nltk.download('vader_lexicon')"
   ]
  },
  {
   "cell_type": "code",
   "execution_count": 63,
   "id": "d458a8cc-6af2-44d3-a744-cc1df41e4e3c",
   "metadata": {},
   "outputs": [],
   "source": [
    "sia = SentimentIntensityAnalyzer()"
   ]
  },
  {
   "cell_type": "code",
   "execution_count": 64,
   "id": "16a428a4-092f-4ba3-b30c-6d0a8c56b332",
   "metadata": {},
   "outputs": [],
   "source": [
    "def sentiment_score(text):\n",
    "    return sia.polarity_scores(text)['compound']\n",
    "\n",
    "def sentiment_label(score):\n",
    "    if score > 0.05:\n",
    "        return 'positive'\n",
    "    elif score < -0.05:\n",
    "        return 'negative'\n",
    "    else:\n",
    "        return 'neutral'"
   ]
  },
  {
   "cell_type": "code",
   "execution_count": 65,
   "id": "3cd9820c-1753-4f5d-8dc1-c10469b9e563",
   "metadata": {},
   "outputs": [],
   "source": [
    "sentiment_score_udf = udf(sentiment_score, \"float\")\n",
    "sentiment_label_udf = udf(sentiment_label, \"string\")"
   ]
  },
  {
   "cell_type": "code",
   "execution_count": 66,
   "id": "1ee4a871-a404-442f-bd3c-9b300d1e3736",
   "metadata": {},
   "outputs": [],
   "source": [
    "df_vader = df_top10_sr.withColumn(\"sentiment_score\", sentiment_score_udf(df_top10_sr['clean_text']))\n",
    "df_vader = df_vader.withColumn(\"sentiment_label\", sentiment_label_udf(df_vader['sentiment_score']))"
   ]
  },
  {
   "cell_type": "code",
   "execution_count": 67,
   "id": "78d69743-a2dd-441d-9e16-991a58cacaab",
   "metadata": {},
   "outputs": [
    {
     "name": "stderr",
     "output_type": "stream",
     "text": [
      "[Stage 260:>                                                        (0 + 1) / 1]"
     ]
    },
    {
     "name": "stdout",
     "output_type": "stream",
     "text": [
      "+--------------------+---------------+--------------------+---------------+---------------+\n",
      "|      normalizedBody|      subreddit|          clean_text|sentiment_score|sentiment_label|\n",
      "+--------------------+---------------+--------------------+---------------+---------------+\n",
      "|A few months ago:...|leagueoflegends|month ago brand g...|         0.8779|       positive|\n",
      "|I voted for Obama...|      AskReddit|voted obama 2008 ...|          0.956|       positive|\n",
      "+--------------------+---------------+--------------------+---------------+---------------+\n",
      "only showing top 2 rows\n",
      "\n"
     ]
    },
    {
     "name": "stderr",
     "output_type": "stream",
     "text": [
      "                                                                                "
     ]
    }
   ],
   "source": [
    "df_vader.show(2)"
   ]
  },
  {
   "cell_type": "code",
   "execution_count": 68,
   "id": "07f44c53-cda1-4f27-bd2c-8f2e4c177cd9",
   "metadata": {},
   "outputs": [],
   "source": [
    "df_avg = df_vader.groupBy(\"subreddit\") \\\n",
    "                 .agg(F.round(F.avg(\"sentiment_score\"), 4).alias(\"avg_sentiment_score\")) \\\n",
    "                 .limit(25)"
   ]
  },
  {
   "cell_type": "code",
   "execution_count": 69,
   "id": "72e3dc67-72d4-42c5-b239-51a2e3e79b83",
   "metadata": {},
   "outputs": [],
   "source": [
    "df_avg = df_avg.withColumn(\"sentiment_label\", sentiment_label_udf(df_avg['avg_sentiment_score']))"
   ]
  },
  {
   "cell_type": "code",
   "execution_count": 72,
   "id": "3517e214-6207-451f-9f35-93349b6cbf16",
   "metadata": {},
   "outputs": [
    {
     "name": "stderr",
     "output_type": "stream",
     "text": [
      "[Stage 267:==========================================>              (3 + 1) / 4]"
     ]
    },
    {
     "name": "stdout",
     "output_type": "stream",
     "text": [
      "+-------------------+-------------------+---------------+\n",
      "|          subreddit|avg_sentiment_score|sentiment_label|\n",
      "+-------------------+-------------------+---------------+\n",
      "|         offmychest|             0.2412|       positive|\n",
      "|          AskReddit|             0.1281|       positive|\n",
      "|             videos|             0.0718|       positive|\n",
      "|              DotA2|             0.3839|       positive|\n",
      "|      todayilearned|             0.1156|       positive|\n",
      "|      AdviceAnimals|              0.074|       positive|\n",
      "|     DestinyTheGame|              0.377|       positive|\n",
      "|      relationships|             0.4971|       positive|\n",
      "|               pics|             0.0994|       positive|\n",
      "|            Fitness|             0.3721|       positive|\n",
      "|         reddit.com|              0.242|       positive|\n",
      "|          worldnews|            -0.1374|       negative|\n",
      "|    TwoXChromosomes|             0.3153|       positive|\n",
      "|           politics|             0.0821|       positive|\n",
      "|               IAmA|             0.2157|       positive|\n",
      "|              trees|             0.3952|       positive|\n",
      "|relationship_advice|             0.5735|       positive|\n",
      "|    leagueoflegends|             0.3298|       positive|\n",
      "|  explainlikeimfive|             0.2446|       positive|\n",
      "|                WTF|            -0.0267|        neutral|\n",
      "|            atheism|             0.2459|       positive|\n",
      "|             gaming|             0.3748|       positive|\n",
      "|               tifu|             0.1153|       positive|\n",
      "|                sex|             0.5439|       positive|\n",
      "|              funny|             0.0727|       positive|\n",
      "+-------------------+-------------------+---------------+\n",
      "\n"
     ]
    },
    {
     "name": "stderr",
     "output_type": "stream",
     "text": [
      "25/03/19 23:47:12 ERROR StandaloneSchedulerBackend: Application has been killed. Reason: Master removed our application: KILLED\n",
      "25/03/19 23:47:12 ERROR Inbox: Ignoring error\n",
      "org.apache.spark.SparkException: Exiting due to error from cluster scheduler: Master removed our application: KILLED\n",
      "\tat org.apache.spark.errors.SparkCoreErrors$.clusterSchedulerError(SparkCoreErrors.scala:291)\n",
      "\tat org.apache.spark.scheduler.TaskSchedulerImpl.error(TaskSchedulerImpl.scala:981)\n",
      "\tat org.apache.spark.scheduler.cluster.StandaloneSchedulerBackend.dead(StandaloneSchedulerBackend.scala:165)\n",
      "\tat org.apache.spark.deploy.client.StandaloneAppClient$ClientEndpoint.markDead(StandaloneAppClient.scala:263)\n",
      "\tat org.apache.spark.deploy.client.StandaloneAppClient$ClientEndpoint$$anonfun$receive$1.applyOrElse(StandaloneAppClient.scala:170)\n",
      "\tat org.apache.spark.rpc.netty.Inbox.$anonfun$process$1(Inbox.scala:115)\n",
      "\tat org.apache.spark.rpc.netty.Inbox.safelyCall(Inbox.scala:213)\n",
      "\tat org.apache.spark.rpc.netty.Inbox.process(Inbox.scala:100)\n",
      "\tat org.apache.spark.rpc.netty.MessageLoop.org$apache$spark$rpc$netty$MessageLoop$$receiveLoop(MessageLoop.scala:75)\n",
      "\tat org.apache.spark.rpc.netty.MessageLoop$$anon$1.run(MessageLoop.scala:41)\n",
      "\tat java.util.concurrent.ThreadPoolExecutor.runWorker(ThreadPoolExecutor.java:1149)\n",
      "\tat java.util.concurrent.ThreadPoolExecutor$Worker.run(ThreadPoolExecutor.java:624)\n",
      "\tat java.lang.Thread.run(Thread.java:750)\n"
     ]
    }
   ],
   "source": [
    "df_avg.show(25)"
   ]
  },
  {
   "cell_type": "code",
   "execution_count": null,
   "id": "3ebb814b-0012-4a89-8788-cee96c817748",
   "metadata": {},
   "outputs": [],
   "source": []
  }
 ],
 "metadata": {
  "kernelspec": {
   "display_name": "Python 3 (ipykernel)",
   "language": "python",
   "name": "python3"
  },
  "language_info": {
   "codemirror_mode": {
    "name": "ipython",
    "version": 3
   },
   "file_extension": ".py",
   "mimetype": "text/x-python",
   "name": "python",
   "nbconvert_exporter": "python",
   "pygments_lexer": "ipython3",
   "version": "3.8.10"
  }
 },
 "nbformat": 4,
 "nbformat_minor": 5
}
