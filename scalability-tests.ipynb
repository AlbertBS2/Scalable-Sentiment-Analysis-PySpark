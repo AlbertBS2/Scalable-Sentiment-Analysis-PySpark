{
 "cells": [
  {
   "cell_type": "code",
   "execution_count": 1,
   "id": "16a8c061-1eee-4db9-a5f9-c9f9c7760aaa",
   "metadata": {},
   "outputs": [
    {
     "name": "stderr",
     "output_type": "stream",
     "text": [
      "[nltk_data] Downloading package stopwords to /home/ubuntu/nltk_data...\n",
      "[nltk_data]   Package stopwords is already up-to-date!\n",
      "[nltk_data] Downloading package wordnet to /home/ubuntu/nltk_data...\n",
      "[nltk_data]   Package wordnet is already up-to-date!\n",
      "[nltk_data] Downloading package vader_lexicon to\n",
      "[nltk_data]     /home/ubuntu/nltk_data...\n",
      "[nltk_data]   Package vader_lexicon is already up-to-date!\n"
     ]
    },
    {
     "data": {
      "text/plain": [
       "True"
      ]
     },
     "execution_count": 1,
     "metadata": {},
     "output_type": "execute_result"
    }
   ],
   "source": [
    "from pyspark.sql import SparkSession\n",
    "import pyspark.sql.functions as F\n",
    "from pyspark.sql.functions import udf, pandas_udf\n",
    "import re\n",
    "import nltk\n",
    "import pandas as pd\n",
    "from nltk.corpus import stopwords\n",
    "from nltk.stem import WordNetLemmatizer\n",
    "from nltk.sentiment import SentimentIntensityAnalyzer\n",
    "from time import perf_counter\n",
    "\n",
    "nltk.download('stopwords')\n",
    "nltk.download('wordnet')\n",
    "nltk.download('vader_lexicon')"
   ]
  },
  {
   "cell_type": "markdown",
   "id": "ad4bd53b-be62-4b68-bd5e-d2d1e8a08f40",
   "metadata": {
    "jp-MarkdownHeadingCollapsed": true
   },
   "source": [
    "# Tests with 50k dataset"
   ]
  },
  {
   "cell_type": "markdown",
   "id": "ba79764c-3639-438a-849a-8b829de3d988",
   "metadata": {
    "jp-MarkdownHeadingCollapsed": true
   },
   "source": [
    "## Test using:\n",
    "- 1 node\n",
    "- 4 cores per node\n",
    "- 5 GiB per executor"
   ]
  },
  {
   "cell_type": "code",
   "execution_count": 53,
   "id": "07a8fb69-5e2c-49b9-81b3-5d2e4b89642a",
   "metadata": {},
   "outputs": [],
   "source": [
    "spark_session = SparkSession.builder \\\n",
    "    .master(\"spark://192.168.2.47:7077\") \\\n",
    "    .appName(\"manual_test\") \\\n",
    "    .config(\"spark.dynamicAllocation.enabled\", False) \\\n",
    "    .config(\"spark.dynamicAllocation.shuffleTracking.enabled\", True) \\\n",
    "    .config(\"spark.shuffle.service.enabled\", False) \\\n",
    "    .config(\"spark.dynamicAllocation.executorIdleTimeout\", \"30s\") \\\n",
    "    .config(\"spark.executor.instances\", \"1\") \\\n",
    "    .config(\"spark.executor.memory\", \"5G\") \\\n",
    "    .config(\"spark.cores.max\", \"4\") \\\n",
    "    .getOrCreate()\n",
    "\n",
    "# RDD API\n",
    "spark_context = spark_session.sparkContext\n",
    "spark_context.setLogLevel(\"ERROR\")"
   ]
  },
  {
   "cell_type": "code",
   "execution_count": 54,
   "id": "51741c95-afd2-4f5b-bba1-9e2cfdda0a48",
   "metadata": {
    "scrolled": true
   },
   "outputs": [
    {
     "name": "stderr",
     "output_type": "stream",
     "text": [
      "                                                                                "
     ]
    }
   ],
   "source": [
    "# Loading the dataset without the corrupted values\n",
    "df = spark_session.read.option(\"mode\", \"DROPMALFORMED\").json(\"hdfs://192.168.2.47:9000/data-project/reddit_50k.json\")"
   ]
  },
  {
   "cell_type": "code",
   "execution_count": 55,
   "id": "ac8728d8-b82c-488b-94f3-26d1ba342d26",
   "metadata": {},
   "outputs": [],
   "source": [
    "lemmatizer = WordNetLemmatizer()\n",
    "stop_words = set(stopwords.words('english'))\n",
    "sia = SentimentIntensityAnalyzer()\n",
    "\n",
    "@pandas_udf(\"string\")\n",
    "def preprocess_text_udf(text_series: pd.Series) -> pd.Series:\n",
    "    def preprocess(text):\n",
    "        # Lowercase the text\n",
    "        text = text.lower()\n",
    "        \n",
    "        # Remove special characters and extra spaces\n",
    "        text = re.sub(r'\\W+', ' ', text)\n",
    "        \n",
    "        # Split text into words\n",
    "        words = text.split()\n",
    "    \n",
    "        # Remove stopwords\n",
    "        words = [w for w in words if w not in stop_words]\n",
    "    \n",
    "        # Lemmatize words\n",
    "        words = [lemmatizer.lemmatize(w) for w in words]\n",
    "    \n",
    "        out_text = ' '.join(words)\n",
    "    \n",
    "        return out_text\n",
    "\n",
    "    return text_series.apply(preprocess)\n",
    "\n",
    "@pandas_udf(\"float\")\n",
    "def sentiment_score_udf(text_series: pd.Series) -> pd.Series:\n",
    "    return text_series.apply(lambda text: sia.polarity_scores(text)['compound'])\n",
    "\n",
    "@pandas_udf(\"string\")\n",
    "def sentiment_label_udf(score_series: pd.Series) -> pd.Series:\n",
    "    def label(score):\n",
    "        if score > 0.05:\n",
    "            return 'positive'\n",
    "        elif score < -0.05:\n",
    "            return 'negative'\n",
    "        else:\n",
    "            return 'neutral'\n",
    "    return score_series.apply(label)"
   ]
  },
  {
   "cell_type": "code",
   "execution_count": 56,
   "id": "4e6bc83d-c1ea-40e8-a38f-28ed117dedfd",
   "metadata": {},
   "outputs": [
    {
     "name": "stderr",
     "output_type": "stream",
     "text": [
      "[Stage 52:=============================>                            (1 + 1) / 2]"
     ]
    },
    {
     "name": "stdout",
     "output_type": "stream",
     "text": [
      "+-------------------+-------------------+---------------+\n",
      "|          subreddit|avg_sentiment_score|sentiment_label|\n",
      "+-------------------+-------------------+---------------+\n",
      "|         offmychest|             0.2412|       positive|\n",
      "|          AskReddit|             0.1281|       positive|\n",
      "|             videos|             0.0718|       positive|\n",
      "|              DotA2|             0.3839|       positive|\n",
      "|      todayilearned|             0.1156|       positive|\n",
      "|      AdviceAnimals|              0.074|       positive|\n",
      "|     DestinyTheGame|              0.377|       positive|\n",
      "|      relationships|             0.4971|       positive|\n",
      "|               pics|             0.0994|       positive|\n",
      "|            Fitness|             0.3721|       positive|\n",
      "|         reddit.com|              0.242|       positive|\n",
      "|          worldnews|            -0.1374|       negative|\n",
      "|    TwoXChromosomes|             0.3153|       positive|\n",
      "|           politics|             0.0821|       positive|\n",
      "|               IAmA|             0.2157|       positive|\n",
      "|              trees|             0.3952|       positive|\n",
      "|relationship_advice|             0.5735|       positive|\n",
      "|    leagueoflegends|             0.3298|       positive|\n",
      "|  explainlikeimfive|             0.2446|       positive|\n",
      "|                WTF|            -0.0267|        neutral|\n",
      "|            atheism|             0.2459|       positive|\n",
      "|             gaming|             0.3748|       positive|\n",
      "|               tifu|             0.1153|       positive|\n",
      "|                sex|             0.5439|       positive|\n",
      "|              funny|             0.0727|       positive|\n",
      "+-------------------+-------------------+---------------+\n",
      "\n"
     ]
    },
    {
     "name": "stderr",
     "output_type": "stream",
     "text": [
      "                                                                                "
     ]
    }
   ],
   "source": [
    "init_time = perf_counter()\n",
    "\n",
    "df_prep = df.drop('body', 'content', 'id', 'subreddit_id', 'title', 'author', 'content_len', 'summary', 'summary_len')\n",
    "\n",
    "k = 25 # number of subreddits to consider\n",
    "df_top = df_prep.select('subreddit') \\\n",
    "                .groupBy('subreddit').count() \\\n",
    "                .sort('count', ascending=False) \\\n",
    "                .limit(k)\n",
    "\n",
    "topk_subreddits = [df_top.collect()[i][0] for i in range(k)]\n",
    "\n",
    "df_topk = df_prep.filter(df_prep['subreddit'].isin(topk_subreddits))\n",
    "\n",
    "df_topk = df_topk.withColumn(\"clean_text\", preprocess_text_udf(df_topk['normalizedBody']))\n",
    "\n",
    "df_vader = df_topk.withColumn(\"sentiment_score\", sentiment_score_udf(df_topk['clean_text']))\n",
    "df_vader = df_vader.withColumn(\"sentiment_label\", sentiment_label_udf(df_vader['sentiment_score']))\n",
    "\n",
    "df_avg = df_vader.groupBy(\"subreddit\") \\\n",
    "                 .agg(F.round(F.avg(\"sentiment_score\"), 4).alias(\"avg_sentiment_score\")) \\\n",
    "                 .limit(k)\n",
    "\n",
    "df_avg = df_avg.withColumn(\"sentiment_label\", sentiment_label_udf(df_avg['avg_sentiment_score']))\n",
    "\n",
    "df_avg.show(k)\n",
    "\n",
    "end_time = perf_counter()\n",
    "\n",
    "elapsed_time_1 = end_time - init_time"
   ]
  },
  {
   "cell_type": "code",
   "execution_count": 57,
   "id": "d9635554-d555-4ce0-9d96-5b1ed37369be",
   "metadata": {},
   "outputs": [
    {
     "name": "stdout",
     "output_type": "stream",
     "text": [
      "Processing time using 1 node: 79.780364643957\n"
     ]
    }
   ],
   "source": [
    "print(f\"Processing time using 1 node: {elapsed_time_1}\")"
   ]
  },
  {
   "cell_type": "code",
   "execution_count": 58,
   "id": "9b2d504a-a505-4e3d-8f40-52a0bf305953",
   "metadata": {},
   "outputs": [],
   "source": [
    "spark_session.stop()"
   ]
  },
  {
   "cell_type": "code",
   "execution_count": null,
   "id": "970e5526-1699-449d-8103-8369bd5332ae",
   "metadata": {},
   "outputs": [],
   "source": []
  },
  {
   "cell_type": "code",
   "execution_count": null,
   "id": "5a767046-ba42-4d85-ad0e-9815f22f81d5",
   "metadata": {},
   "outputs": [],
   "source": []
  },
  {
   "cell_type": "markdown",
   "id": "c70a0002-f10c-48e3-b75d-348bd80453db",
   "metadata": {
    "jp-MarkdownHeadingCollapsed": true
   },
   "source": [
    "## Test using:\n",
    "- 2 nodes\n",
    "- 4 cores per node\n",
    "- 5 GiB per executor"
   ]
  },
  {
   "cell_type": "code",
   "execution_count": 59,
   "id": "992a5921-a955-4bbc-ba44-39876519204b",
   "metadata": {},
   "outputs": [],
   "source": [
    "spark_session = SparkSession.builder \\\n",
    "    .master(\"spark://192.168.2.47:7077\") \\\n",
    "    .appName(\"manual_test\") \\\n",
    "    .config(\"spark.dynamicAllocation.enabled\", True) \\\n",
    "    .config(\"spark.dynamicAllocation.shuffleTracking.enabled\", True) \\\n",
    "    .config(\"spark.shuffle.service.enabled\", False) \\\n",
    "    .config(\"spark.dynamicAllocation.executorIdleTimeout\", \"30s\") \\\n",
    "    .config(\"spark.executor.instances\", \"2\") \\\n",
    "    .config(\"spark.executor.memory\", \"5G\") \\\n",
    "    .config(\"spark.cores.max\", \"8\") \\\n",
    "    .getOrCreate()\n",
    "\n",
    "# RDD API\n",
    "spark_context = spark_session.sparkContext\n",
    "spark_context.setLogLevel(\"ERROR\")"
   ]
  },
  {
   "cell_type": "code",
   "execution_count": 61,
   "id": "5f5c71fc-bc11-4929-916d-015056da6a16",
   "metadata": {},
   "outputs": [
    {
     "name": "stderr",
     "output_type": "stream",
     "text": [
      "                                                                                "
     ]
    }
   ],
   "source": [
    "df = spark_session.read.option(\"mode\", \"DROPMALFORMED\").json(\"hdfs://192.168.2.47:9000/data-project/reddit_50k.json\")"
   ]
  },
  {
   "cell_type": "code",
   "execution_count": 62,
   "id": "62353740-e2bd-46fe-834b-60d1e89ff04b",
   "metadata": {
    "scrolled": true
   },
   "outputs": [
    {
     "name": "stderr",
     "output_type": "stream",
     "text": [
      "25/03/20 21:41:03 ERROR DAGScheduler: Failed to update accumulator 9566 (org.apache.spark.api.python.PythonAccumulatorV2) for task 1\n",
      "org.apache.spark.SparkException: EOF reached before Python server acknowledged\n",
      "\tat org.apache.spark.api.python.PythonAccumulatorV2.merge(PythonRDD.scala:751)\n",
      "\tat org.apache.spark.scheduler.DAGScheduler.$anonfun$updateAccumulators$1(DAGScheduler.scala:1694)\n",
      "\tat org.apache.spark.scheduler.DAGScheduler.$anonfun$updateAccumulators$1$adapted(DAGScheduler.scala:1685)\n",
      "\tat scala.collection.mutable.ResizableArray.foreach(ResizableArray.scala:62)\n",
      "\tat scala.collection.mutable.ResizableArray.foreach$(ResizableArray.scala:55)\n",
      "\tat scala.collection.mutable.ArrayBuffer.foreach(ArrayBuffer.scala:49)\n",
      "\tat org.apache.spark.scheduler.DAGScheduler.updateAccumulators(DAGScheduler.scala:1685)\n",
      "\tat org.apache.spark.scheduler.DAGScheduler.handleTaskCompletion(DAGScheduler.scala:1838)\n",
      "\tat org.apache.spark.scheduler.DAGSchedulerEventProcessLoop.doOnReceive(DAGScheduler.scala:3054)\n",
      "\tat org.apache.spark.scheduler.DAGSchedulerEventProcessLoop.onReceive(DAGScheduler.scala:2994)\n",
      "\tat org.apache.spark.scheduler.DAGSchedulerEventProcessLoop.onReceive(DAGScheduler.scala:2983)\n",
      "\tat org.apache.spark.util.EventLoop$$anon$1.run(EventLoop.scala:49)\n",
      "25/03/20 21:41:06 ERROR DAGScheduler: Failed to update accumulator 9566 (org.apache.spark.api.python.PythonAccumulatorV2) for task 0\n",
      "java.net.SocketException: Broken pipe (Write failed)\n",
      "\tat java.net.SocketOutputStream.socketWrite0(Native Method)\n",
      "\tat java.net.SocketOutputStream.socketWrite(SocketOutputStream.java:111)\n",
      "\tat java.net.SocketOutputStream.write(SocketOutputStream.java:155)\n",
      "\tat java.io.BufferedOutputStream.flushBuffer(BufferedOutputStream.java:82)\n",
      "\tat java.io.BufferedOutputStream.flush(BufferedOutputStream.java:140)\n",
      "\tat java.io.DataOutputStream.flush(DataOutputStream.java:123)\n",
      "\tat org.apache.spark.api.python.PythonAccumulatorV2.merge(PythonRDD.scala:747)\n",
      "\tat org.apache.spark.scheduler.DAGScheduler.$anonfun$updateAccumulators$1(DAGScheduler.scala:1694)\n",
      "\tat org.apache.spark.scheduler.DAGScheduler.$anonfun$updateAccumulators$1$adapted(DAGScheduler.scala:1685)\n",
      "\tat scala.collection.mutable.ResizableArray.foreach(ResizableArray.scala:62)\n",
      "\tat scala.collection.mutable.ResizableArray.foreach$(ResizableArray.scala:55)\n",
      "\tat scala.collection.mutable.ArrayBuffer.foreach(ArrayBuffer.scala:49)\n",
      "\tat org.apache.spark.scheduler.DAGScheduler.updateAccumulators(DAGScheduler.scala:1685)\n",
      "\tat org.apache.spark.scheduler.DAGScheduler.handleTaskCompletion(DAGScheduler.scala:1838)\n",
      "\tat org.apache.spark.scheduler.DAGSchedulerEventProcessLoop.doOnReceive(DAGScheduler.scala:3054)\n",
      "\tat org.apache.spark.scheduler.DAGSchedulerEventProcessLoop.onReceive(DAGScheduler.scala:2994)\n",
      "\tat org.apache.spark.scheduler.DAGSchedulerEventProcessLoop.onReceive(DAGScheduler.scala:2983)\n",
      "\tat org.apache.spark.util.EventLoop$$anon$1.run(EventLoop.scala:49)\n"
     ]
    },
    {
     "name": "stdout",
     "output_type": "stream",
     "text": [
      "+-------------------+-------------------+---------------+\n",
      "|          subreddit|avg_sentiment_score|sentiment_label|\n",
      "+-------------------+-------------------+---------------+\n",
      "|         offmychest|             0.2412|       positive|\n",
      "|          AskReddit|             0.1281|       positive|\n",
      "|             videos|             0.0718|       positive|\n",
      "|              DotA2|             0.3839|       positive|\n",
      "|      todayilearned|             0.1156|       positive|\n",
      "|      AdviceAnimals|              0.074|       positive|\n",
      "|     DestinyTheGame|              0.377|       positive|\n",
      "|      relationships|             0.4971|       positive|\n",
      "|               pics|             0.0994|       positive|\n",
      "|            Fitness|             0.3721|       positive|\n",
      "|         reddit.com|              0.242|       positive|\n",
      "|          worldnews|            -0.1374|       negative|\n",
      "|    TwoXChromosomes|             0.3153|       positive|\n",
      "|           politics|             0.0821|       positive|\n",
      "|               IAmA|             0.2157|       positive|\n",
      "|              trees|             0.3952|       positive|\n",
      "|relationship_advice|             0.5735|       positive|\n",
      "|    leagueoflegends|             0.3298|       positive|\n",
      "|  explainlikeimfive|             0.2446|       positive|\n",
      "|                WTF|            -0.0267|        neutral|\n",
      "|            atheism|             0.2459|       positive|\n",
      "|             gaming|             0.3748|       positive|\n",
      "|               tifu|             0.1153|       positive|\n",
      "|                sex|             0.5439|       positive|\n",
      "|              funny|             0.0727|       positive|\n",
      "+-------------------+-------------------+---------------+\n",
      "\n"
     ]
    },
    {
     "name": "stderr",
     "output_type": "stream",
     "text": [
      "25/03/20 21:41:07 ERROR DAGScheduler: Failed to update accumulator 9566 (org.apache.spark.api.python.PythonAccumulatorV2) for task 0\n",
      "java.net.SocketException: Broken pipe (Write failed)\n",
      "\tat java.net.SocketOutputStream.socketWrite0(Native Method)\n",
      "\tat java.net.SocketOutputStream.socketWrite(SocketOutputStream.java:111)\n",
      "\tat java.net.SocketOutputStream.write(SocketOutputStream.java:155)\n",
      "\tat java.io.BufferedOutputStream.flushBuffer(BufferedOutputStream.java:82)\n",
      "\tat java.io.BufferedOutputStream.flush(BufferedOutputStream.java:140)\n",
      "\tat java.io.DataOutputStream.flush(DataOutputStream.java:123)\n",
      "\tat org.apache.spark.api.python.PythonAccumulatorV2.merge(PythonRDD.scala:747)\n",
      "\tat org.apache.spark.scheduler.DAGScheduler.$anonfun$updateAccumulators$1(DAGScheduler.scala:1694)\n",
      "\tat org.apache.spark.scheduler.DAGScheduler.$anonfun$updateAccumulators$1$adapted(DAGScheduler.scala:1685)\n",
      "\tat scala.collection.mutable.ResizableArray.foreach(ResizableArray.scala:62)\n",
      "\tat scala.collection.mutable.ResizableArray.foreach$(ResizableArray.scala:55)\n",
      "\tat scala.collection.mutable.ArrayBuffer.foreach(ArrayBuffer.scala:49)\n",
      "\tat org.apache.spark.scheduler.DAGScheduler.updateAccumulators(DAGScheduler.scala:1685)\n",
      "\tat org.apache.spark.scheduler.DAGScheduler.handleTaskCompletion(DAGScheduler.scala:1833)\n",
      "\tat org.apache.spark.scheduler.DAGSchedulerEventProcessLoop.doOnReceive(DAGScheduler.scala:3054)\n",
      "\tat org.apache.spark.scheduler.DAGSchedulerEventProcessLoop.onReceive(DAGScheduler.scala:2994)\n",
      "\tat org.apache.spark.scheduler.DAGSchedulerEventProcessLoop.onReceive(DAGScheduler.scala:2983)\n",
      "\tat org.apache.spark.util.EventLoop$$anon$1.run(EventLoop.scala:49)\n",
      "                                                                                "
     ]
    }
   ],
   "source": [
    "init_time = perf_counter()\n",
    "\n",
    "df_prep = df.drop('body', 'content', 'id', 'subreddit_id', 'title', 'author', 'content_len', 'summary', 'summary_len')\n",
    "\n",
    "k = 25 # number of subreddits to consider\n",
    "df_top = df_prep.select('subreddit') \\\n",
    "                .groupBy('subreddit').count() \\\n",
    "                .sort('count', ascending=False) \\\n",
    "                .limit(k)\n",
    "\n",
    "topk_subreddits = [df_top.collect()[i][0] for i in range(k)]\n",
    "\n",
    "df_topk = df_prep.filter(df_prep['subreddit'].isin(topk_subreddits))\n",
    "\n",
    "df_topk = df_topk.withColumn(\"clean_text\", preprocess_text_udf(df_topk['normalizedBody']))\n",
    "\n",
    "df_vader = df_topk.withColumn(\"sentiment_score\", sentiment_score_udf(df_topk['clean_text']))\n",
    "df_vader = df_vader.withColumn(\"sentiment_label\", sentiment_label_udf(df_vader['sentiment_score']))\n",
    "\n",
    "df_avg = df_vader.groupBy(\"subreddit\") \\\n",
    "                 .agg(F.round(F.avg(\"sentiment_score\"), 4).alias(\"avg_sentiment_score\")) \\\n",
    "                 .limit(k)\n",
    "\n",
    "df_avg = df_avg.withColumn(\"sentiment_label\", sentiment_label_udf(df_avg['avg_sentiment_score']))\n",
    "\n",
    "df_avg.show(k)\n",
    "\n",
    "end_time = perf_counter()\n",
    "\n",
    "elapsed_time_2 = end_time - init_time"
   ]
  },
  {
   "cell_type": "code",
   "execution_count": 63,
   "id": "ca92a01f-5735-4efe-8a21-4aea90518676",
   "metadata": {},
   "outputs": [
    {
     "name": "stdout",
     "output_type": "stream",
     "text": [
      "Processing time using 2 nodes: 48.312987883982714\n"
     ]
    }
   ],
   "source": [
    "print(f\"Processing time using 2 nodes: {elapsed_time_2}\")"
   ]
  },
  {
   "cell_type": "code",
   "execution_count": 64,
   "id": "ac8429ac-99e6-4d4c-abdd-b6728c0a8afd",
   "metadata": {},
   "outputs": [],
   "source": [
    "spark_session.stop()"
   ]
  },
  {
   "cell_type": "markdown",
   "id": "8ddb506f-bf3c-4bb8-9005-c8917b987653",
   "metadata": {
    "jp-MarkdownHeadingCollapsed": true
   },
   "source": [
    "## Test using:\n",
    "- 3 nodes\n",
    "- 4 cores per node\n",
    "- 5 GiB per executor"
   ]
  },
  {
   "cell_type": "code",
   "execution_count": 65,
   "id": "35157ff8-ccb2-4572-bbba-e82bd519c1ba",
   "metadata": {},
   "outputs": [],
   "source": [
    "spark_session = SparkSession.builder \\\n",
    "    .master(\"spark://192.168.2.47:7077\") \\\n",
    "    .appName(\"manual_test\") \\\n",
    "    .config(\"spark.dynamicAllocation.enabled\", True) \\\n",
    "    .config(\"spark.dynamicAllocation.shuffleTracking.enabled\", True) \\\n",
    "    .config(\"spark.shuffle.service.enabled\", False) \\\n",
    "    .config(\"spark.dynamicAllocation.executorIdleTimeout\", \"30s\") \\\n",
    "    .config(\"spark.executor.instances\", \"3\") \\\n",
    "    .config(\"spark.executor.memory\", \"5G\") \\\n",
    "    .config(\"spark.cores.max\", \"12\") \\\n",
    "    .getOrCreate()\n",
    "\n",
    "# RDD API\n",
    "spark_context = spark_session.sparkContext\n",
    "spark_context.setLogLevel(\"ERROR\")"
   ]
  },
  {
   "cell_type": "code",
   "execution_count": 66,
   "id": "c8be6039-df72-4511-bd84-c71b28ffaac3",
   "metadata": {},
   "outputs": [
    {
     "name": "stderr",
     "output_type": "stream",
     "text": [
      "                                                                                "
     ]
    }
   ],
   "source": [
    "df = spark_session.read.option(\"mode\", \"DROPMALFORMED\").json(\"hdfs://192.168.2.47:9000/data-project/reddit_50k.json\")"
   ]
  },
  {
   "cell_type": "code",
   "execution_count": 67,
   "id": "a915a485-60bf-42b6-a3fd-1e7c5f9be2fc",
   "metadata": {
    "scrolled": true
   },
   "outputs": [
    {
     "name": "stderr",
     "output_type": "stream",
     "text": [
      "25/03/20 21:41:47 ERROR DAGScheduler: Failed to update accumulator 9566 (org.apache.spark.api.python.PythonAccumulatorV2) for task 3\n",
      "java.net.SocketException: Broken pipe (Write failed)\n",
      "\tat java.net.SocketOutputStream.socketWrite0(Native Method)\n",
      "\tat java.net.SocketOutputStream.socketWrite(SocketOutputStream.java:111)\n",
      "\tat java.net.SocketOutputStream.write(SocketOutputStream.java:155)\n",
      "\tat java.io.BufferedOutputStream.flushBuffer(BufferedOutputStream.java:82)\n",
      "\tat java.io.BufferedOutputStream.flush(BufferedOutputStream.java:140)\n",
      "\tat java.io.DataOutputStream.flush(DataOutputStream.java:123)\n",
      "\tat org.apache.spark.api.python.PythonAccumulatorV2.merge(PythonRDD.scala:747)\n",
      "\tat org.apache.spark.scheduler.DAGScheduler.$anonfun$updateAccumulators$1(DAGScheduler.scala:1694)\n",
      "\tat org.apache.spark.scheduler.DAGScheduler.$anonfun$updateAccumulators$1$adapted(DAGScheduler.scala:1685)\n",
      "\tat scala.collection.mutable.ResizableArray.foreach(ResizableArray.scala:62)\n",
      "\tat scala.collection.mutable.ResizableArray.foreach$(ResizableArray.scala:55)\n",
      "\tat scala.collection.mutable.ArrayBuffer.foreach(ArrayBuffer.scala:49)\n",
      "\tat org.apache.spark.scheduler.DAGScheduler.updateAccumulators(DAGScheduler.scala:1685)\n",
      "\tat org.apache.spark.scheduler.DAGScheduler.handleTaskCompletion(DAGScheduler.scala:1838)\n",
      "\tat org.apache.spark.scheduler.DAGSchedulerEventProcessLoop.doOnReceive(DAGScheduler.scala:3054)\n",
      "\tat org.apache.spark.scheduler.DAGSchedulerEventProcessLoop.onReceive(DAGScheduler.scala:2994)\n",
      "\tat org.apache.spark.scheduler.DAGSchedulerEventProcessLoop.onReceive(DAGScheduler.scala:2983)\n",
      "\tat org.apache.spark.util.EventLoop$$anon$1.run(EventLoop.scala:49)\n",
      "25/03/20 21:41:49 ERROR DAGScheduler: Failed to update accumulator 9566 (org.apache.spark.api.python.PythonAccumulatorV2) for task 2\n",
      "java.net.SocketException: Broken pipe (Write failed)\n",
      "\tat java.net.SocketOutputStream.socketWrite0(Native Method)\n",
      "\tat java.net.SocketOutputStream.socketWrite(SocketOutputStream.java:111)\n",
      "\tat java.net.SocketOutputStream.write(SocketOutputStream.java:155)\n",
      "\tat java.io.BufferedOutputStream.flushBuffer(BufferedOutputStream.java:82)\n",
      "\tat java.io.BufferedOutputStream.flush(BufferedOutputStream.java:140)\n",
      "\tat java.io.DataOutputStream.flush(DataOutputStream.java:123)\n",
      "\tat org.apache.spark.api.python.PythonAccumulatorV2.merge(PythonRDD.scala:747)\n",
      "\tat org.apache.spark.scheduler.DAGScheduler.$anonfun$updateAccumulators$1(DAGScheduler.scala:1694)\n",
      "\tat org.apache.spark.scheduler.DAGScheduler.$anonfun$updateAccumulators$1$adapted(DAGScheduler.scala:1685)\n",
      "\tat scala.collection.mutable.ResizableArray.foreach(ResizableArray.scala:62)\n",
      "\tat scala.collection.mutable.ResizableArray.foreach$(ResizableArray.scala:55)\n",
      "\tat scala.collection.mutable.ArrayBuffer.foreach(ArrayBuffer.scala:49)\n",
      "\tat org.apache.spark.scheduler.DAGScheduler.updateAccumulators(DAGScheduler.scala:1685)\n",
      "\tat org.apache.spark.scheduler.DAGScheduler.handleTaskCompletion(DAGScheduler.scala:1838)\n",
      "\tat org.apache.spark.scheduler.DAGSchedulerEventProcessLoop.doOnReceive(DAGScheduler.scala:3054)\n",
      "\tat org.apache.spark.scheduler.DAGSchedulerEventProcessLoop.onReceive(DAGScheduler.scala:2994)\n",
      "\tat org.apache.spark.scheduler.DAGSchedulerEventProcessLoop.onReceive(DAGScheduler.scala:2983)\n",
      "\tat org.apache.spark.util.EventLoop$$anon$1.run(EventLoop.scala:49)\n",
      "25/03/20 21:41:50 ERROR DAGScheduler: Failed to update accumulator 9566 (org.apache.spark.api.python.PythonAccumulatorV2) for task 0\n",
      "java.net.SocketException: Broken pipe (Write failed)\n",
      "\tat java.net.SocketOutputStream.socketWrite0(Native Method)\n",
      "\tat java.net.SocketOutputStream.socketWrite(SocketOutputStream.java:111)\n",
      "\tat java.net.SocketOutputStream.write(SocketOutputStream.java:155)\n",
      "\tat java.io.BufferedOutputStream.flushBuffer(BufferedOutputStream.java:82)\n",
      "\tat java.io.BufferedOutputStream.flush(BufferedOutputStream.java:140)\n",
      "\tat java.io.DataOutputStream.flush(DataOutputStream.java:123)\n",
      "\tat org.apache.spark.api.python.PythonAccumulatorV2.merge(PythonRDD.scala:747)\n",
      "\tat org.apache.spark.scheduler.DAGScheduler.$anonfun$updateAccumulators$1(DAGScheduler.scala:1694)\n",
      "\tat org.apache.spark.scheduler.DAGScheduler.$anonfun$updateAccumulators$1$adapted(DAGScheduler.scala:1685)\n",
      "\tat scala.collection.mutable.ResizableArray.foreach(ResizableArray.scala:62)\n",
      "\tat scala.collection.mutable.ResizableArray.foreach$(ResizableArray.scala:55)\n",
      "\tat scala.collection.mutable.ArrayBuffer.foreach(ArrayBuffer.scala:49)\n",
      "\tat org.apache.spark.scheduler.DAGScheduler.updateAccumulators(DAGScheduler.scala:1685)\n",
      "\tat org.apache.spark.scheduler.DAGScheduler.handleTaskCompletion(DAGScheduler.scala:1838)\n",
      "\tat org.apache.spark.scheduler.DAGSchedulerEventProcessLoop.doOnReceive(DAGScheduler.scala:3054)\n",
      "\tat org.apache.spark.scheduler.DAGSchedulerEventProcessLoop.onReceive(DAGScheduler.scala:2994)\n",
      "\tat org.apache.spark.scheduler.DAGSchedulerEventProcessLoop.onReceive(DAGScheduler.scala:2983)\n",
      "\tat org.apache.spark.util.EventLoop$$anon$1.run(EventLoop.scala:49)\n",
      "25/03/20 21:41:50 ERROR DAGScheduler: Failed to update accumulator 9566 (org.apache.spark.api.python.PythonAccumulatorV2) for task 1\n",
      "java.net.SocketException: Broken pipe (Write failed)\n",
      "\tat java.net.SocketOutputStream.socketWrite0(Native Method)\n",
      "\tat java.net.SocketOutputStream.socketWrite(SocketOutputStream.java:111)\n",
      "\tat java.net.SocketOutputStream.write(SocketOutputStream.java:155)\n",
      "\tat java.io.BufferedOutputStream.flushBuffer(BufferedOutputStream.java:82)\n",
      "\tat java.io.BufferedOutputStream.flush(BufferedOutputStream.java:140)\n",
      "\tat java.io.DataOutputStream.flush(DataOutputStream.java:123)\n",
      "\tat org.apache.spark.api.python.PythonAccumulatorV2.merge(PythonRDD.scala:747)\n",
      "\tat org.apache.spark.scheduler.DAGScheduler.$anonfun$updateAccumulators$1(DAGScheduler.scala:1694)\n",
      "\tat org.apache.spark.scheduler.DAGScheduler.$anonfun$updateAccumulators$1$adapted(DAGScheduler.scala:1685)\n",
      "\tat scala.collection.mutable.ResizableArray.foreach(ResizableArray.scala:62)\n",
      "\tat scala.collection.mutable.ResizableArray.foreach$(ResizableArray.scala:55)\n",
      "\tat scala.collection.mutable.ArrayBuffer.foreach(ArrayBuffer.scala:49)\n",
      "\tat org.apache.spark.scheduler.DAGScheduler.updateAccumulators(DAGScheduler.scala:1685)\n",
      "\tat org.apache.spark.scheduler.DAGScheduler.handleTaskCompletion(DAGScheduler.scala:1838)\n",
      "\tat org.apache.spark.scheduler.DAGSchedulerEventProcessLoop.doOnReceive(DAGScheduler.scala:3054)\n",
      "\tat org.apache.spark.scheduler.DAGSchedulerEventProcessLoop.onReceive(DAGScheduler.scala:2994)\n",
      "\tat org.apache.spark.scheduler.DAGSchedulerEventProcessLoop.onReceive(DAGScheduler.scala:2983)\n",
      "\tat org.apache.spark.util.EventLoop$$anon$1.run(EventLoop.scala:49)\n"
     ]
    },
    {
     "name": "stdout",
     "output_type": "stream",
     "text": [
      "+-------------------+-------------------+---------------+\n",
      "|          subreddit|avg_sentiment_score|sentiment_label|\n",
      "+-------------------+-------------------+---------------+\n",
      "|         offmychest|             0.2412|       positive|\n",
      "|          AskReddit|             0.1281|       positive|\n",
      "|             videos|             0.0718|       positive|\n",
      "|              DotA2|             0.3839|       positive|\n",
      "|      todayilearned|             0.1156|       positive|\n",
      "|      AdviceAnimals|              0.074|       positive|\n",
      "|     DestinyTheGame|              0.377|       positive|\n",
      "|      relationships|             0.4971|       positive|\n",
      "|               pics|             0.0994|       positive|\n",
      "|            Fitness|             0.3721|       positive|\n",
      "|         reddit.com|              0.242|       positive|\n",
      "|          worldnews|            -0.1374|       negative|\n",
      "|    TwoXChromosomes|             0.3153|       positive|\n",
      "|           politics|             0.0821|       positive|\n",
      "|               IAmA|             0.2157|       positive|\n",
      "|              trees|             0.3952|       positive|\n",
      "|relationship_advice|             0.5735|       positive|\n",
      "|    leagueoflegends|             0.3298|       positive|\n",
      "|  explainlikeimfive|             0.2446|       positive|\n",
      "|                WTF|            -0.0267|        neutral|\n",
      "|            atheism|             0.2459|       positive|\n",
      "|             gaming|             0.3748|       positive|\n",
      "|               tifu|             0.1153|       positive|\n",
      "|                sex|             0.5439|       positive|\n",
      "|              funny|             0.0727|       positive|\n",
      "+-------------------+-------------------+---------------+\n",
      "\n"
     ]
    },
    {
     "name": "stderr",
     "output_type": "stream",
     "text": [
      "25/03/20 21:41:50 ERROR DAGScheduler: Failed to update accumulator 9566 (org.apache.spark.api.python.PythonAccumulatorV2) for task 0\n",
      "java.net.SocketException: Broken pipe (Write failed)\n",
      "\tat java.net.SocketOutputStream.socketWrite0(Native Method)\n",
      "\tat java.net.SocketOutputStream.socketWrite(SocketOutputStream.java:111)\n",
      "\tat java.net.SocketOutputStream.write(SocketOutputStream.java:155)\n",
      "\tat java.io.BufferedOutputStream.flushBuffer(BufferedOutputStream.java:82)\n",
      "\tat java.io.BufferedOutputStream.flush(BufferedOutputStream.java:140)\n",
      "\tat java.io.DataOutputStream.flush(DataOutputStream.java:123)\n",
      "\tat org.apache.spark.api.python.PythonAccumulatorV2.merge(PythonRDD.scala:747)\n",
      "\tat org.apache.spark.scheduler.DAGScheduler.$anonfun$updateAccumulators$1(DAGScheduler.scala:1694)\n",
      "\tat org.apache.spark.scheduler.DAGScheduler.$anonfun$updateAccumulators$1$adapted(DAGScheduler.scala:1685)\n",
      "\tat scala.collection.mutable.ResizableArray.foreach(ResizableArray.scala:62)\n",
      "\tat scala.collection.mutable.ResizableArray.foreach$(ResizableArray.scala:55)\n",
      "\tat scala.collection.mutable.ArrayBuffer.foreach(ArrayBuffer.scala:49)\n",
      "\tat org.apache.spark.scheduler.DAGScheduler.updateAccumulators(DAGScheduler.scala:1685)\n",
      "\tat org.apache.spark.scheduler.DAGScheduler.handleTaskCompletion(DAGScheduler.scala:1833)\n",
      "\tat org.apache.spark.scheduler.DAGSchedulerEventProcessLoop.doOnReceive(DAGScheduler.scala:3054)\n",
      "\tat org.apache.spark.scheduler.DAGSchedulerEventProcessLoop.onReceive(DAGScheduler.scala:2994)\n",
      "\tat org.apache.spark.scheduler.DAGSchedulerEventProcessLoop.onReceive(DAGScheduler.scala:2983)\n",
      "\tat org.apache.spark.util.EventLoop$$anon$1.run(EventLoop.scala:49)\n",
      "                                                                                "
     ]
    }
   ],
   "source": [
    "init_time = perf_counter()\n",
    "\n",
    "df_prep = df.drop('body', 'content', 'id', 'subreddit_id', 'title', 'author', 'content_len', 'summary', 'summary_len')\n",
    "\n",
    "k = 25 # number of subreddits to consider\n",
    "df_top = df_prep.select('subreddit') \\\n",
    "                .groupBy('subreddit').count() \\\n",
    "                .sort('count', ascending=False) \\\n",
    "                .limit(k)\n",
    "\n",
    "topk_subreddits = [df_top.collect()[i][0] for i in range(k)]\n",
    "\n",
    "df_topk = df_prep.filter(df_prep['subreddit'].isin(topk_subreddits))\n",
    "\n",
    "df_topk = df_topk.withColumn(\"clean_text\", preprocess_text_udf(df_topk['normalizedBody']))\n",
    "\n",
    "df_vader = df_topk.withColumn(\"sentiment_score\", sentiment_score_udf(df_topk['clean_text']))\n",
    "df_vader = df_vader.withColumn(\"sentiment_label\", sentiment_label_udf(df_vader['sentiment_score']))\n",
    "\n",
    "df_avg = df_vader.groupBy(\"subreddit\") \\\n",
    "                 .agg(F.round(F.avg(\"sentiment_score\"), 4).alias(\"avg_sentiment_score\")) \\\n",
    "                 .limit(k)\n",
    "\n",
    "df_avg = df_avg.withColumn(\"sentiment_label\", sentiment_label_udf(df_avg['avg_sentiment_score']))\n",
    "\n",
    "df_avg.show(k)\n",
    "\n",
    "end_time = perf_counter()\n",
    "\n",
    "elapsed_time_3 = end_time - init_time"
   ]
  },
  {
   "cell_type": "code",
   "execution_count": 68,
   "id": "c70a463f-adcd-447b-bc95-991706754318",
   "metadata": {},
   "outputs": [
    {
     "name": "stdout",
     "output_type": "stream",
     "text": [
      "Processing time using 3 nodes: 32.2671153509873\n"
     ]
    }
   ],
   "source": [
    "print(f\"Processing time using 3 nodes: {elapsed_time_3}\")"
   ]
  },
  {
   "cell_type": "code",
   "execution_count": 69,
   "id": "b72e4a18-f1f8-42d5-a27d-2c688779179b",
   "metadata": {},
   "outputs": [],
   "source": [
    "spark_session.stop()"
   ]
  },
  {
   "cell_type": "markdown",
   "id": "995334fa-aab8-400b-b0c5-e39fa4b17e57",
   "metadata": {},
   "source": [
    "## Append results from 50k test to a list"
   ]
  },
  {
   "cell_type": "code",
   "execution_count": 70,
   "id": "558e0efc-7964-447d-a534-10e836986362",
   "metadata": {},
   "outputs": [],
   "source": [
    "times_50k = [elapsed_time_1, elapsed_time_2, elapsed_time_3]"
   ]
  },
  {
   "cell_type": "code",
   "execution_count": 71,
   "id": "3461d482-0962-4690-ae72-adb267b6c65e",
   "metadata": {},
   "outputs": [
    {
     "data": {
      "text/plain": [
       "[79.780364643957, 48.312987883982714, 32.2671153509873]"
      ]
     },
     "execution_count": 71,
     "metadata": {},
     "output_type": "execute_result"
    }
   ],
   "source": [
    "print(times_50k)"
   ]
  },
  {
   "cell_type": "markdown",
   "id": "6a0d5df5-66a1-4359-93ee-97a979ac15e0",
   "metadata": {
    "jp-MarkdownHeadingCollapsed": true
   },
   "source": [
    "# Tests with 100k dataset"
   ]
  },
  {
   "cell_type": "markdown",
   "id": "56348865-1bbb-40c4-a2a5-fe0ea75d50d1",
   "metadata": {
    "jp-MarkdownHeadingCollapsed": true
   },
   "source": [
    "## Test using:\n",
    "- 1 node\n",
    "- 4 cores per node\n",
    "- 5 GiB per executor"
   ]
  },
  {
   "cell_type": "code",
   "execution_count": 72,
   "id": "9149d2d8-d831-44f4-b0ac-5e0dc55d933b",
   "metadata": {},
   "outputs": [],
   "source": [
    "spark_session = SparkSession.builder \\\n",
    "    .master(\"spark://192.168.2.47:7077\") \\\n",
    "    .appName(\"manual_test\") \\\n",
    "    .config(\"spark.dynamicAllocation.enabled\", False) \\\n",
    "    .config(\"spark.dynamicAllocation.shuffleTracking.enabled\", True) \\\n",
    "    .config(\"spark.shuffle.service.enabled\", False) \\\n",
    "    .config(\"spark.dynamicAllocation.executorIdleTimeout\", \"30s\") \\\n",
    "    .config(\"spark.executor.instances\", \"1\") \\\n",
    "    .config(\"spark.executor.memory\", \"5G\") \\\n",
    "    .config(\"spark.cores.max\", \"4\") \\\n",
    "    .getOrCreate()\n",
    "\n",
    "# RDD API\n",
    "spark_context = spark_session.sparkContext\n",
    "spark_context.setLogLevel(\"ERROR\")"
   ]
  },
  {
   "cell_type": "code",
   "execution_count": 73,
   "id": "57d940f9-d13f-40eb-b347-cb38f95be28e",
   "metadata": {},
   "outputs": [
    {
     "name": "stderr",
     "output_type": "stream",
     "text": [
      "                                                                                "
     ]
    }
   ],
   "source": [
    "# Loading the dataset without the corrupted values\n",
    "df = spark_session.read.option(\"mode\", \"DROPMALFORMED\").json(\"hdfs://192.168.2.47:9000/data-project/reddit_100k.json\")"
   ]
  },
  {
   "cell_type": "code",
   "execution_count": 74,
   "id": "4243cccf-2e50-475d-be2a-934749b3760a",
   "metadata": {},
   "outputs": [],
   "source": [
    "lemmatizer = WordNetLemmatizer()\n",
    "stop_words = set(stopwords.words('english'))\n",
    "sia = SentimentIntensityAnalyzer()\n",
    "\n",
    "@pandas_udf(\"string\")\n",
    "def preprocess_text_udf(text_series: pd.Series) -> pd.Series:\n",
    "    def preprocess(text):\n",
    "        # Lowercase the text\n",
    "        text = text.lower()\n",
    "        \n",
    "        # Remove special characters and extra spaces\n",
    "        text = re.sub(r'\\W+', ' ', text)\n",
    "        \n",
    "        # Split text into words\n",
    "        words = text.split()\n",
    "    \n",
    "        # Remove stopwords\n",
    "        words = [w for w in words if w not in stop_words]\n",
    "    \n",
    "        # Lemmatize words\n",
    "        words = [lemmatizer.lemmatize(w) for w in words]\n",
    "    \n",
    "        out_text = ' '.join(words)\n",
    "    \n",
    "        return out_text\n",
    "\n",
    "    return text_series.apply(preprocess)\n",
    "\n",
    "@pandas_udf(\"float\")\n",
    "def sentiment_score_udf(text_series: pd.Series) -> pd.Series:\n",
    "    return text_series.apply(lambda text: sia.polarity_scores(text)['compound'])\n",
    "\n",
    "@pandas_udf(\"string\")\n",
    "def sentiment_label_udf(score_series: pd.Series) -> pd.Series:\n",
    "    def label(score):\n",
    "        if score > 0.05:\n",
    "            return 'positive'\n",
    "        elif score < -0.05:\n",
    "            return 'negative'\n",
    "        else:\n",
    "            return 'neutral'\n",
    "    return score_series.apply(label)"
   ]
  },
  {
   "cell_type": "code",
   "execution_count": 75,
   "id": "62295ebe-6a73-4404-9bcb-106d513efcd2",
   "metadata": {},
   "outputs": [
    {
     "name": "stderr",
     "output_type": "stream",
     "text": [
      "[Stage 52:===========================================>              (3 + 1) / 4]"
     ]
    },
    {
     "name": "stdout",
     "output_type": "stream",
     "text": [
      "+-------------------+-------------------+---------------+\n",
      "|          subreddit|avg_sentiment_score|sentiment_label|\n",
      "+-------------------+-------------------+---------------+\n",
      "|         offmychest|             0.2605|       positive|\n",
      "|          AskReddit|             0.1265|       positive|\n",
      "|             videos|             0.0379|        neutral|\n",
      "|              DotA2|             0.3994|       positive|\n",
      "|      todayilearned|             0.1025|       positive|\n",
      "|      AdviceAnimals|             0.0996|       positive|\n",
      "|     DestinyTheGame|             0.3594|       positive|\n",
      "|      relationships|             0.4942|       positive|\n",
      "|               pics|             0.1113|       positive|\n",
      "|            Fitness|             0.3716|       positive|\n",
      "|         reddit.com|             0.2248|       positive|\n",
      "|          worldnews|            -0.1353|       negative|\n",
      "|    TwoXChromosomes|             0.3303|       positive|\n",
      "|           politics|              0.084|       positive|\n",
      "|               IAmA|             0.2184|       positive|\n",
      "|              trees|             0.4251|       positive|\n",
      "|relationship_advice|             0.5716|       positive|\n",
      "|    leagueoflegends|             0.3136|       positive|\n",
      "|  explainlikeimfive|             0.2599|       positive|\n",
      "|                WTF|            -0.0656|       negative|\n",
      "|            atheism|             0.2737|       positive|\n",
      "|             gaming|             0.3467|       positive|\n",
      "|               tifu|             0.0792|       positive|\n",
      "|                sex|             0.4856|       positive|\n",
      "|              funny|             0.0792|       positive|\n",
      "+-------------------+-------------------+---------------+\n",
      "\n"
     ]
    },
    {
     "name": "stderr",
     "output_type": "stream",
     "text": [
      "                                                                                "
     ]
    }
   ],
   "source": [
    "init_time = perf_counter()\n",
    "\n",
    "df_prep = df.drop('body', 'content', 'id', 'subreddit_id', 'title', 'author', 'content_len', 'summary', 'summary_len')\n",
    "\n",
    "k = 25 # number of subreddits to consider\n",
    "df_top = df_prep.select('subreddit') \\\n",
    "                .groupBy('subreddit').count() \\\n",
    "                .sort('count', ascending=False) \\\n",
    "                .limit(k)\n",
    "\n",
    "topk_subreddits = [df_top.collect()[i][0] for i in range(k)]\n",
    "\n",
    "df_topk = df_prep.filter(df_prep['subreddit'].isin(topk_subreddits))\n",
    "\n",
    "df_topk = df_topk.withColumn(\"clean_text\", preprocess_text_udf(df_topk['normalizedBody']))\n",
    "\n",
    "df_vader = df_topk.withColumn(\"sentiment_score\", sentiment_score_udf(df_topk['clean_text']))\n",
    "df_vader = df_vader.withColumn(\"sentiment_label\", sentiment_label_udf(df_vader['sentiment_score']))\n",
    "\n",
    "df_avg = df_vader.groupBy(\"subreddit\") \\\n",
    "                 .agg(F.round(F.avg(\"sentiment_score\"), 4).alias(\"avg_sentiment_score\")) \\\n",
    "                 .limit(k)\n",
    "\n",
    "df_avg = df_avg.withColumn(\"sentiment_label\", sentiment_label_udf(df_avg['avg_sentiment_score']))\n",
    "\n",
    "df_avg.show(k)\n",
    "\n",
    "end_time = perf_counter()\n",
    "\n",
    "elapsed_time_11 = end_time - init_time"
   ]
  },
  {
   "cell_type": "code",
   "execution_count": 76,
   "id": "60c9f72b-6137-4412-bc45-6b711b83dd4f",
   "metadata": {},
   "outputs": [
    {
     "name": "stdout",
     "output_type": "stream",
     "text": [
      "Processing time using 1 node: 149.1443244840484\n"
     ]
    }
   ],
   "source": [
    "print(f\"Processing time using 1 node: {elapsed_time_11}\")"
   ]
  },
  {
   "cell_type": "code",
   "execution_count": 77,
   "id": "6c6070a5-8e46-46d0-b4cb-9c83831b6c13",
   "metadata": {},
   "outputs": [],
   "source": [
    "spark_session.stop()"
   ]
  },
  {
   "cell_type": "markdown",
   "id": "e085a6e9-e0c8-4608-8d59-58c3c259c7e6",
   "metadata": {
    "jp-MarkdownHeadingCollapsed": true
   },
   "source": [
    "## Test using:\n",
    "- 2 nodes\n",
    "- 4 cores per node\n",
    "- 5 GiB per executor"
   ]
  },
  {
   "cell_type": "code",
   "execution_count": 78,
   "id": "b65b07df-62b0-4f0c-99cd-50ac8d8c98c0",
   "metadata": {},
   "outputs": [],
   "source": [
    "spark_session = SparkSession.builder \\\n",
    "    .master(\"spark://192.168.2.47:7077\") \\\n",
    "    .appName(\"manual_test\") \\\n",
    "    .config(\"spark.dynamicAllocation.enabled\", False) \\\n",
    "    .config(\"spark.dynamicAllocation.shuffleTracking.enabled\", True) \\\n",
    "    .config(\"spark.shuffle.service.enabled\", False) \\\n",
    "    .config(\"spark.dynamicAllocation.executorIdleTimeout\", \"30s\") \\\n",
    "    .config(\"spark.executor.instances\", \"2\") \\\n",
    "    .config(\"spark.executor.memory\", \"5G\") \\\n",
    "    .config(\"spark.cores.max\", \"8\") \\\n",
    "    .getOrCreate()\n",
    "\n",
    "# RDD API\n",
    "spark_context = spark_session.sparkContext\n",
    "spark_context.setLogLevel(\"ERROR\")"
   ]
  },
  {
   "cell_type": "code",
   "execution_count": 79,
   "id": "a8fab558-d588-41c6-82c0-2169c8cbd824",
   "metadata": {},
   "outputs": [
    {
     "name": "stderr",
     "output_type": "stream",
     "text": [
      "                                                                                "
     ]
    }
   ],
   "source": [
    "# Loading the dataset without the corrupted values\n",
    "df = spark_session.read.option(\"mode\", \"DROPMALFORMED\").json(\"hdfs://192.168.2.47:9000/data-project/reddit_100k.json\")"
   ]
  },
  {
   "cell_type": "code",
   "execution_count": 80,
   "id": "4199c077-22f7-4d99-860c-6130821ee14b",
   "metadata": {},
   "outputs": [],
   "source": [
    "lemmatizer = WordNetLemmatizer()\n",
    "stop_words = set(stopwords.words('english'))\n",
    "sia = SentimentIntensityAnalyzer()\n",
    "\n",
    "@pandas_udf(\"string\")\n",
    "def preprocess_text_udf(text_series: pd.Series) -> pd.Series:\n",
    "    def preprocess(text):\n",
    "        # Lowercase the text\n",
    "        text = text.lower()\n",
    "        \n",
    "        # Remove special characters and extra spaces\n",
    "        text = re.sub(r'\\W+', ' ', text)\n",
    "        \n",
    "        # Split text into words\n",
    "        words = text.split()\n",
    "    \n",
    "        # Remove stopwords\n",
    "        words = [w for w in words if w not in stop_words]\n",
    "    \n",
    "        # Lemmatize words\n",
    "        words = [lemmatizer.lemmatize(w) for w in words]\n",
    "    \n",
    "        out_text = ' '.join(words)\n",
    "    \n",
    "        return out_text\n",
    "\n",
    "    return text_series.apply(preprocess)\n",
    "\n",
    "@pandas_udf(\"float\")\n",
    "def sentiment_score_udf(text_series: pd.Series) -> pd.Series:\n",
    "    return text_series.apply(lambda text: sia.polarity_scores(text)['compound'])\n",
    "\n",
    "@pandas_udf(\"string\")\n",
    "def sentiment_label_udf(score_series: pd.Series) -> pd.Series:\n",
    "    def label(score):\n",
    "        if score > 0.05:\n",
    "            return 'positive'\n",
    "        elif score < -0.05:\n",
    "            return 'negative'\n",
    "        else:\n",
    "            return 'neutral'\n",
    "    return score_series.apply(label)"
   ]
  },
  {
   "cell_type": "code",
   "execution_count": 81,
   "id": "013593dd-1110-4087-9abb-a85aba24e3a1",
   "metadata": {},
   "outputs": [
    {
     "name": "stderr",
     "output_type": "stream",
     "text": [
      "[Stage 52:===========================================>              (3 + 1) / 4]"
     ]
    },
    {
     "name": "stdout",
     "output_type": "stream",
     "text": [
      "+-------------------+-------------------+---------------+\n",
      "|          subreddit|avg_sentiment_score|sentiment_label|\n",
      "+-------------------+-------------------+---------------+\n",
      "|         offmychest|             0.2605|       positive|\n",
      "|          AskReddit|             0.1265|       positive|\n",
      "|             videos|             0.0379|        neutral|\n",
      "|              DotA2|             0.3994|       positive|\n",
      "|      todayilearned|             0.1025|       positive|\n",
      "|      AdviceAnimals|             0.0996|       positive|\n",
      "|     DestinyTheGame|             0.3594|       positive|\n",
      "|      relationships|             0.4942|       positive|\n",
      "|               pics|             0.1113|       positive|\n",
      "|            Fitness|             0.3716|       positive|\n",
      "|         reddit.com|             0.2248|       positive|\n",
      "|          worldnews|            -0.1353|       negative|\n",
      "|    TwoXChromosomes|             0.3303|       positive|\n",
      "|           politics|              0.084|       positive|\n",
      "|               IAmA|             0.2184|       positive|\n",
      "|              trees|             0.4251|       positive|\n",
      "|relationship_advice|             0.5716|       positive|\n",
      "|    leagueoflegends|             0.3136|       positive|\n",
      "|  explainlikeimfive|             0.2599|       positive|\n",
      "|                WTF|            -0.0656|       negative|\n",
      "|            atheism|             0.2737|       positive|\n",
      "|             gaming|             0.3467|       positive|\n",
      "|               tifu|             0.0792|       positive|\n",
      "|                sex|             0.4856|       positive|\n",
      "|              funny|             0.0792|       positive|\n",
      "+-------------------+-------------------+---------------+\n",
      "\n"
     ]
    },
    {
     "name": "stderr",
     "output_type": "stream",
     "text": [
      "                                                                                "
     ]
    }
   ],
   "source": [
    "init_time = perf_counter()\n",
    "\n",
    "df_prep = df.drop('body', 'content', 'id', 'subreddit_id', 'title', 'author', 'content_len', 'summary', 'summary_len')\n",
    "\n",
    "k = 25 # number of subreddits to consider\n",
    "df_top = df_prep.select('subreddit') \\\n",
    "                .groupBy('subreddit').count() \\\n",
    "                .sort('count', ascending=False) \\\n",
    "                .limit(k)\n",
    "\n",
    "topk_subreddits = [df_top.collect()[i][0] for i in range(k)]\n",
    "\n",
    "df_topk = df_prep.filter(df_prep['subreddit'].isin(topk_subreddits))\n",
    "\n",
    "df_topk = df_topk.withColumn(\"clean_text\", preprocess_text_udf(df_topk['normalizedBody']))\n",
    "\n",
    "df_vader = df_topk.withColumn(\"sentiment_score\", sentiment_score_udf(df_topk['clean_text']))\n",
    "df_vader = df_vader.withColumn(\"sentiment_label\", sentiment_label_udf(df_vader['sentiment_score']))\n",
    "\n",
    "df_avg = df_vader.groupBy(\"subreddit\") \\\n",
    "                 .agg(F.round(F.avg(\"sentiment_score\"), 4).alias(\"avg_sentiment_score\")) \\\n",
    "                 .limit(k)\n",
    "\n",
    "df_avg = df_avg.withColumn(\"sentiment_label\", sentiment_label_udf(df_avg['avg_sentiment_score']))\n",
    "\n",
    "df_avg.show(k)\n",
    "\n",
    "end_time = perf_counter()\n",
    "\n",
    "elapsed_time_21 = end_time - init_time"
   ]
  },
  {
   "cell_type": "code",
   "execution_count": 82,
   "id": "82df5ea4-eb7b-4b77-84a7-9de10313febb",
   "metadata": {},
   "outputs": [
    {
     "name": "stdout",
     "output_type": "stream",
     "text": [
      "Processing time using 2 nodes: 86.01410643401323\n"
     ]
    }
   ],
   "source": [
    "print(f\"Processing time using 2 nodes: {elapsed_time_21}\")"
   ]
  },
  {
   "cell_type": "code",
   "execution_count": 83,
   "id": "b181fc64-c8e7-4313-bc9f-673bc577300e",
   "metadata": {},
   "outputs": [],
   "source": [
    "spark_session.stop()"
   ]
  },
  {
   "cell_type": "markdown",
   "id": "a106aadc-af90-402b-88cf-4eafa379d0db",
   "metadata": {
    "jp-MarkdownHeadingCollapsed": true
   },
   "source": [
    "## Test using:\n",
    "- 3 nodes\n",
    "- 4 cores per node\n",
    "- 5 GiB per executor"
   ]
  },
  {
   "cell_type": "code",
   "execution_count": 84,
   "id": "08c7ba14-7c25-4250-9a82-ecf71394fddc",
   "metadata": {},
   "outputs": [],
   "source": [
    "spark_session = SparkSession.builder \\\n",
    "    .master(\"spark://192.168.2.47:7077\") \\\n",
    "    .appName(\"manual_test\") \\\n",
    "    .config(\"spark.dynamicAllocation.enabled\", False) \\\n",
    "    .config(\"spark.dynamicAllocation.shuffleTracking.enabled\", True) \\\n",
    "    .config(\"spark.shuffle.service.enabled\", False) \\\n",
    "    .config(\"spark.dynamicAllocation.executorIdleTimeout\", \"30s\") \\\n",
    "    .config(\"spark.executor.instances\", \"3\") \\\n",
    "    .config(\"spark.executor.memory\", \"5G\") \\\n",
    "    .config(\"spark.cores.max\", \"12\") \\\n",
    "    .getOrCreate()\n",
    "\n",
    "# RDD API\n",
    "spark_context = spark_session.sparkContext\n",
    "spark_context.setLogLevel(\"ERROR\")"
   ]
  },
  {
   "cell_type": "code",
   "execution_count": 85,
   "id": "20537d4e-bd0b-4caf-95b8-33e719ac6860",
   "metadata": {},
   "outputs": [
    {
     "name": "stderr",
     "output_type": "stream",
     "text": [
      "                                                                                "
     ]
    }
   ],
   "source": [
    "# Loading the dataset without the corrupted values\n",
    "df = spark_session.read.option(\"mode\", \"DROPMALFORMED\").json(\"hdfs://192.168.2.47:9000/data-project/reddit_100k.json\")"
   ]
  },
  {
   "cell_type": "code",
   "execution_count": 86,
   "id": "929765d5-1d12-4af7-96b3-5b9cdd0d7b64",
   "metadata": {},
   "outputs": [],
   "source": [
    "lemmatizer = WordNetLemmatizer()\n",
    "stop_words = set(stopwords.words('english'))\n",
    "sia = SentimentIntensityAnalyzer()\n",
    "\n",
    "@pandas_udf(\"string\")\n",
    "def preprocess_text_udf(text_series: pd.Series) -> pd.Series:\n",
    "    def preprocess(text):\n",
    "        # Lowercase the text\n",
    "        text = text.lower()\n",
    "        \n",
    "        # Remove special characters and extra spaces\n",
    "        text = re.sub(r'\\W+', ' ', text)\n",
    "        \n",
    "        # Split text into words\n",
    "        words = text.split()\n",
    "    \n",
    "        # Remove stopwords\n",
    "        words = [w for w in words if w not in stop_words]\n",
    "    \n",
    "        # Lemmatize words\n",
    "        words = [lemmatizer.lemmatize(w) for w in words]\n",
    "    \n",
    "        out_text = ' '.join(words)\n",
    "    \n",
    "        return out_text\n",
    "\n",
    "    return text_series.apply(preprocess)\n",
    "\n",
    "@pandas_udf(\"float\")\n",
    "def sentiment_score_udf(text_series: pd.Series) -> pd.Series:\n",
    "    return text_series.apply(lambda text: sia.polarity_scores(text)['compound'])\n",
    "\n",
    "@pandas_udf(\"string\")\n",
    "def sentiment_label_udf(score_series: pd.Series) -> pd.Series:\n",
    "    def label(score):\n",
    "        if score > 0.05:\n",
    "            return 'positive'\n",
    "        elif score < -0.05:\n",
    "            return 'negative'\n",
    "        else:\n",
    "            return 'neutral'\n",
    "    return score_series.apply(label)"
   ]
  },
  {
   "cell_type": "code",
   "execution_count": 87,
   "id": "12ae8bfb-71a1-438a-871a-0bf19d6e0854",
   "metadata": {},
   "outputs": [
    {
     "name": "stderr",
     "output_type": "stream",
     "text": [
      "[Stage 52:===========================================>              (3 + 1) / 4]"
     ]
    },
    {
     "name": "stdout",
     "output_type": "stream",
     "text": [
      "+-------------------+-------------------+---------------+\n",
      "|          subreddit|avg_sentiment_score|sentiment_label|\n",
      "+-------------------+-------------------+---------------+\n",
      "|         offmychest|             0.2605|       positive|\n",
      "|          AskReddit|             0.1265|       positive|\n",
      "|             videos|             0.0379|        neutral|\n",
      "|              DotA2|             0.3994|       positive|\n",
      "|      todayilearned|             0.1025|       positive|\n",
      "|      AdviceAnimals|             0.0996|       positive|\n",
      "|     DestinyTheGame|             0.3594|       positive|\n",
      "|      relationships|             0.4942|       positive|\n",
      "|               pics|             0.1113|       positive|\n",
      "|            Fitness|             0.3716|       positive|\n",
      "|         reddit.com|             0.2248|       positive|\n",
      "|          worldnews|            -0.1353|       negative|\n",
      "|    TwoXChromosomes|             0.3303|       positive|\n",
      "|           politics|              0.084|       positive|\n",
      "|               IAmA|             0.2184|       positive|\n",
      "|              trees|             0.4251|       positive|\n",
      "|relationship_advice|             0.5716|       positive|\n",
      "|    leagueoflegends|             0.3136|       positive|\n",
      "|  explainlikeimfive|             0.2599|       positive|\n",
      "|                WTF|            -0.0656|       negative|\n",
      "|            atheism|             0.2737|       positive|\n",
      "|             gaming|             0.3467|       positive|\n",
      "|               tifu|             0.0792|       positive|\n",
      "|                sex|             0.4856|       positive|\n",
      "|              funny|             0.0792|       positive|\n",
      "+-------------------+-------------------+---------------+\n",
      "\n"
     ]
    },
    {
     "name": "stderr",
     "output_type": "stream",
     "text": [
      "                                                                                "
     ]
    }
   ],
   "source": [
    "init_time = perf_counter()\n",
    "\n",
    "df_prep = df.drop('body', 'content', 'id', 'subreddit_id', 'title', 'author', 'content_len', 'summary', 'summary_len')\n",
    "\n",
    "k = 25 # number of subreddits to consider\n",
    "df_top = df_prep.select('subreddit') \\\n",
    "                .groupBy('subreddit').count() \\\n",
    "                .sort('count', ascending=False) \\\n",
    "                .limit(k)\n",
    "\n",
    "topk_subreddits = [df_top.collect()[i][0] for i in range(k)]\n",
    "\n",
    "df_topk = df_prep.filter(df_prep['subreddit'].isin(topk_subreddits))\n",
    "\n",
    "df_topk = df_topk.withColumn(\"clean_text\", preprocess_text_udf(df_topk['normalizedBody']))\n",
    "\n",
    "df_vader = df_topk.withColumn(\"sentiment_score\", sentiment_score_udf(df_topk['clean_text']))\n",
    "df_vader = df_vader.withColumn(\"sentiment_label\", sentiment_label_udf(df_vader['sentiment_score']))\n",
    "\n",
    "df_avg = df_vader.groupBy(\"subreddit\") \\\n",
    "                 .agg(F.round(F.avg(\"sentiment_score\"), 4).alias(\"avg_sentiment_score\")) \\\n",
    "                 .limit(k)\n",
    "\n",
    "df_avg = df_avg.withColumn(\"sentiment_label\", sentiment_label_udf(df_avg['avg_sentiment_score']))\n",
    "\n",
    "df_avg.show(k)\n",
    "\n",
    "end_time = perf_counter()\n",
    "\n",
    "elapsed_time_31 = end_time - init_time"
   ]
  },
  {
   "cell_type": "code",
   "execution_count": 88,
   "id": "bf3ff17b-8809-4051-95e8-4af619d5599a",
   "metadata": {},
   "outputs": [
    {
     "name": "stdout",
     "output_type": "stream",
     "text": [
      "Processing time using 3 nodes: 50.22396920697065\n"
     ]
    }
   ],
   "source": [
    "print(f\"Processing time using 3 nodes: {elapsed_time_31}\")"
   ]
  },
  {
   "cell_type": "code",
   "execution_count": 89,
   "id": "de12ed11-8d63-4354-bcb7-18502d86d02a",
   "metadata": {},
   "outputs": [],
   "source": [
    "spark_session.stop()"
   ]
  },
  {
   "cell_type": "markdown",
   "id": "5f690b53-80df-4721-ab3a-8add6fc175ba",
   "metadata": {},
   "source": [
    "## Append results from 100k dataset to a list"
   ]
  },
  {
   "cell_type": "code",
   "execution_count": 90,
   "id": "b5d11437-2725-42b6-9629-dab6244cc066",
   "metadata": {},
   "outputs": [],
   "source": [
    "times_100k = [elapsed_time_11, elapsed_time_21, elapsed_time_31]"
   ]
  },
  {
   "cell_type": "code",
   "execution_count": 91,
   "id": "1092d63d-44c9-40f1-944a-b7f5fe1f7951",
   "metadata": {},
   "outputs": [
    {
     "data": {
      "text/plain": [
       "[149.1443244840484, 86.01410643401323, 50.22396920697065]"
      ]
     },
     "execution_count": 91,
     "metadata": {},
     "output_type": "execute_result"
    }
   ],
   "source": [
    "print(times_100k)"
   ]
  },
  {
   "cell_type": "markdown",
   "id": "2cc84db3-fd2c-482d-93e5-dd2323c93de1",
   "metadata": {
    "jp-MarkdownHeadingCollapsed": true
   },
   "source": [
    "# Tests with 200k dataset"
   ]
  },
  {
   "cell_type": "markdown",
   "id": "79cee231-45c3-46aa-9607-cb9683e52662",
   "metadata": {
    "jp-MarkdownHeadingCollapsed": true
   },
   "source": [
    "## Test using:\n",
    "- 1 node\n",
    "- 4 cores per node\n",
    "- 5 GiB per executor"
   ]
  },
  {
   "cell_type": "code",
   "execution_count": 92,
   "id": "15d89386-a284-4c75-a43b-e7d31933504d",
   "metadata": {},
   "outputs": [],
   "source": [
    "spark_session = SparkSession.builder \\\n",
    "    .master(\"spark://192.168.2.47:7077\") \\\n",
    "    .appName(\"manual_test\") \\\n",
    "    .config(\"spark.dynamicAllocation.enabled\", False) \\\n",
    "    .config(\"spark.dynamicAllocation.shuffleTracking.enabled\", True) \\\n",
    "    .config(\"spark.shuffle.service.enabled\", False) \\\n",
    "    .config(\"spark.dynamicAllocation.executorIdleTimeout\", \"30s\") \\\n",
    "    .config(\"spark.executor.instances\", \"1\") \\\n",
    "    .config(\"spark.executor.memory\", \"5G\") \\\n",
    "    .config(\"spark.cores.max\", \"4\") \\\n",
    "    .getOrCreate()\n",
    "\n",
    "# RDD API\n",
    "spark_context = spark_session.sparkContext\n",
    "spark_context.setLogLevel(\"ERROR\")"
   ]
  },
  {
   "cell_type": "code",
   "execution_count": 93,
   "id": "fb7e8989-ae72-424b-bdd2-b8919161e3c7",
   "metadata": {},
   "outputs": [
    {
     "name": "stderr",
     "output_type": "stream",
     "text": [
      "                                                                                "
     ]
    }
   ],
   "source": [
    "# Loading the dataset without the corrupted values\n",
    "df = spark_session.read.option(\"mode\", \"DROPMALFORMED\").json(\"hdfs://192.168.2.47:9000/data-project/reddit_200k.json\")"
   ]
  },
  {
   "cell_type": "code",
   "execution_count": 94,
   "id": "1184958d-3892-466d-8efe-cef7168ea628",
   "metadata": {},
   "outputs": [],
   "source": [
    "lemmatizer = WordNetLemmatizer()\n",
    "stop_words = set(stopwords.words('english'))\n",
    "sia = SentimentIntensityAnalyzer()\n",
    "\n",
    "@pandas_udf(\"string\")\n",
    "def preprocess_text_udf(text_series: pd.Series) -> pd.Series:\n",
    "    def preprocess(text):\n",
    "        # Lowercase the text\n",
    "        text = text.lower()\n",
    "        \n",
    "        # Remove special characters and extra spaces\n",
    "        text = re.sub(r'\\W+', ' ', text)\n",
    "        \n",
    "        # Split text into words\n",
    "        words = text.split()\n",
    "    \n",
    "        # Remove stopwords\n",
    "        words = [w for w in words if w not in stop_words]\n",
    "    \n",
    "        # Lemmatize words\n",
    "        words = [lemmatizer.lemmatize(w) for w in words]\n",
    "    \n",
    "        out_text = ' '.join(words)\n",
    "    \n",
    "        return out_text\n",
    "\n",
    "    return text_series.apply(preprocess)\n",
    "\n",
    "@pandas_udf(\"float\")\n",
    "def sentiment_score_udf(text_series: pd.Series) -> pd.Series:\n",
    "    return text_series.apply(lambda text: sia.polarity_scores(text)['compound'])\n",
    "\n",
    "@pandas_udf(\"string\")\n",
    "def sentiment_label_udf(score_series: pd.Series) -> pd.Series:\n",
    "    def label(score):\n",
    "        if score > 0.05:\n",
    "            return 'positive'\n",
    "        elif score < -0.05:\n",
    "            return 'negative'\n",
    "        else:\n",
    "            return 'neutral'\n",
    "    return score_series.apply(label)"
   ]
  },
  {
   "cell_type": "code",
   "execution_count": 95,
   "id": "5a2fefd1-266e-4254-b84d-baa954bf8f02",
   "metadata": {},
   "outputs": [
    {
     "name": "stderr",
     "output_type": "stream",
     "text": [
      "[Stage 52:==================================================>       (7 + 1) / 8]"
     ]
    },
    {
     "name": "stdout",
     "output_type": "stream",
     "text": [
      "+-------------------+-------------------+---------------+\n",
      "|          subreddit|avg_sentiment_score|sentiment_label|\n",
      "+-------------------+-------------------+---------------+\n",
      "|         offmychest|             0.2077|       positive|\n",
      "|          AskReddit|             0.1279|       positive|\n",
      "|             videos|             0.0349|        neutral|\n",
      "|              DotA2|              0.383|       positive|\n",
      "|      todayilearned|             0.0851|       positive|\n",
      "|      AdviceAnimals|             0.0773|       positive|\n",
      "|     DestinyTheGame|             0.3123|       positive|\n",
      "|      relationships|             0.5021|       positive|\n",
      "|               pics|             0.1013|       positive|\n",
      "|            Fitness|             0.4082|       positive|\n",
      "|         reddit.com|             0.2181|       positive|\n",
      "|          worldnews|            -0.1139|       negative|\n",
      "|    TwoXChromosomes|             0.2917|       positive|\n",
      "|           politics|             0.0862|       positive|\n",
      "|               IAmA|             0.2309|       positive|\n",
      "|              trees|             0.4149|       positive|\n",
      "|relationship_advice|             0.5646|       positive|\n",
      "|    leagueoflegends|             0.3244|       positive|\n",
      "|  explainlikeimfive|             0.2599|       positive|\n",
      "|                WTF|            -0.0838|       negative|\n",
      "|            atheism|             0.2822|       positive|\n",
      "|             gaming|             0.3479|       positive|\n",
      "|               tifu|             0.0785|       positive|\n",
      "|                sex|             0.5024|       positive|\n",
      "|              funny|             0.1038|       positive|\n",
      "+-------------------+-------------------+---------------+\n",
      "\n"
     ]
    },
    {
     "name": "stderr",
     "output_type": "stream",
     "text": [
      "                                                                                "
     ]
    }
   ],
   "source": [
    "init_time = perf_counter()\n",
    "\n",
    "df_prep = df.drop('body', 'content', 'id', 'subreddit_id', 'title', 'author', 'content_len', 'summary', 'summary_len')\n",
    "\n",
    "k = 25 # number of subreddits to consider\n",
    "df_top = df_prep.select('subreddit') \\\n",
    "                .groupBy('subreddit').count() \\\n",
    "                .sort('count', ascending=False) \\\n",
    "                .limit(k)\n",
    "\n",
    "topk_subreddits = [df_top.collect()[i][0] for i in range(k)]\n",
    "\n",
    "df_topk = df_prep.filter(df_prep['subreddit'].isin(topk_subreddits))\n",
    "\n",
    "df_topk = df_topk.withColumn(\"clean_text\", preprocess_text_udf(df_topk['normalizedBody']))\n",
    "\n",
    "df_vader = df_topk.withColumn(\"sentiment_score\", sentiment_score_udf(df_topk['clean_text']))\n",
    "df_vader = df_vader.withColumn(\"sentiment_label\", sentiment_label_udf(df_vader['sentiment_score']))\n",
    "\n",
    "df_avg = df_vader.groupBy(\"subreddit\") \\\n",
    "                 .agg(F.round(F.avg(\"sentiment_score\"), 4).alias(\"avg_sentiment_score\")) \\\n",
    "                 .limit(k)\n",
    "\n",
    "df_avg = df_avg.withColumn(\"sentiment_label\", sentiment_label_udf(df_avg['avg_sentiment_score']))\n",
    "\n",
    "df_avg.show(k)\n",
    "\n",
    "end_time = perf_counter()\n",
    "\n",
    "elapsed_time_12 = end_time - init_time"
   ]
  },
  {
   "cell_type": "code",
   "execution_count": 96,
   "id": "11dc61a2-e48d-487d-b9c4-9780a1fe2ed1",
   "metadata": {},
   "outputs": [
    {
     "name": "stdout",
     "output_type": "stream",
     "text": [
      "Processing time using 1 node: 342.2870891590137\n"
     ]
    }
   ],
   "source": [
    "print(f\"Processing time using 1 node: {elapsed_time_12}\")"
   ]
  },
  {
   "cell_type": "code",
   "execution_count": 97,
   "id": "1680e2e7-6595-4eba-9658-1822bb34729a",
   "metadata": {},
   "outputs": [],
   "source": [
    "spark_session.stop()"
   ]
  },
  {
   "cell_type": "markdown",
   "id": "a901c4b4-6c00-492c-a239-4ef417390b17",
   "metadata": {
    "jp-MarkdownHeadingCollapsed": true
   },
   "source": [
    "## Test using:\n",
    "- 2 nodes\n",
    "- 4 cores per node\n",
    "- 5 GiB per executor"
   ]
  },
  {
   "cell_type": "code",
   "execution_count": 98,
   "id": "e1b4ef33-764a-4273-b63f-57b6c0046beb",
   "metadata": {},
   "outputs": [],
   "source": [
    "spark_session = SparkSession.builder \\\n",
    "    .master(\"spark://192.168.2.47:7077\") \\\n",
    "    .appName(\"manual_test\") \\\n",
    "    .config(\"spark.dynamicAllocation.enabled\", False) \\\n",
    "    .config(\"spark.dynamicAllocation.shuffleTracking.enabled\", True) \\\n",
    "    .config(\"spark.shuffle.service.enabled\", False) \\\n",
    "    .config(\"spark.dynamicAllocation.executorIdleTimeout\", \"30s\") \\\n",
    "    .config(\"spark.executor.instances\", \"2\") \\\n",
    "    .config(\"spark.executor.memory\", \"5G\") \\\n",
    "    .config(\"spark.cores.max\", \"8\") \\\n",
    "    .getOrCreate()\n",
    "\n",
    "# RDD API\n",
    "spark_context = spark_session.sparkContext\n",
    "spark_context.setLogLevel(\"ERROR\")"
   ]
  },
  {
   "cell_type": "code",
   "execution_count": 99,
   "id": "dfd3ec0d-d06e-489e-8b27-d7b782efdde2",
   "metadata": {},
   "outputs": [
    {
     "name": "stderr",
     "output_type": "stream",
     "text": [
      "                                                                                "
     ]
    }
   ],
   "source": [
    "# Loading the dataset without the corrupted values\n",
    "df = spark_session.read.option(\"mode\", \"DROPMALFORMED\").json(\"hdfs://192.168.2.47:9000/data-project/reddit_200k.json\")"
   ]
  },
  {
   "cell_type": "code",
   "execution_count": 100,
   "id": "66e495f8-206d-45ca-8ee2-aafe9c323954",
   "metadata": {},
   "outputs": [],
   "source": [
    "lemmatizer = WordNetLemmatizer()\n",
    "stop_words = set(stopwords.words('english'))\n",
    "sia = SentimentIntensityAnalyzer()\n",
    "\n",
    "@pandas_udf(\"string\")\n",
    "def preprocess_text_udf(text_series: pd.Series) -> pd.Series:\n",
    "    def preprocess(text):\n",
    "        # Lowercase the text\n",
    "        text = text.lower()\n",
    "        \n",
    "        # Remove special characters and extra spaces\n",
    "        text = re.sub(r'\\W+', ' ', text)\n",
    "        \n",
    "        # Split text into words\n",
    "        words = text.split()\n",
    "    \n",
    "        # Remove stopwords\n",
    "        words = [w for w in words if w not in stop_words]\n",
    "    \n",
    "        # Lemmatize words\n",
    "        words = [lemmatizer.lemmatize(w) for w in words]\n",
    "    \n",
    "        out_text = ' '.join(words)\n",
    "    \n",
    "        return out_text\n",
    "\n",
    "    return text_series.apply(preprocess)\n",
    "\n",
    "@pandas_udf(\"float\")\n",
    "def sentiment_score_udf(text_series: pd.Series) -> pd.Series:\n",
    "    return text_series.apply(lambda text: sia.polarity_scores(text)['compound'])\n",
    "\n",
    "@pandas_udf(\"string\")\n",
    "def sentiment_label_udf(score_series: pd.Series) -> pd.Series:\n",
    "    def label(score):\n",
    "        if score > 0.05:\n",
    "            return 'positive'\n",
    "        elif score < -0.05:\n",
    "            return 'negative'\n",
    "        else:\n",
    "            return 'neutral'\n",
    "    return score_series.apply(label)"
   ]
  },
  {
   "cell_type": "code",
   "execution_count": 101,
   "id": "81e07114-b28b-4ec7-8983-bc3d052f00aa",
   "metadata": {},
   "outputs": [
    {
     "name": "stderr",
     "output_type": "stream",
     "text": [
      "[Stage 52:==================================================>       (7 + 1) / 8]"
     ]
    },
    {
     "name": "stdout",
     "output_type": "stream",
     "text": [
      "+-------------------+-------------------+---------------+\n",
      "|          subreddit|avg_sentiment_score|sentiment_label|\n",
      "+-------------------+-------------------+---------------+\n",
      "|         offmychest|             0.2077|       positive|\n",
      "|          AskReddit|             0.1279|       positive|\n",
      "|             videos|             0.0349|        neutral|\n",
      "|              DotA2|              0.383|       positive|\n",
      "|      todayilearned|             0.0851|       positive|\n",
      "|      AdviceAnimals|             0.0773|       positive|\n",
      "|     DestinyTheGame|             0.3123|       positive|\n",
      "|      relationships|             0.5021|       positive|\n",
      "|               pics|             0.1013|       positive|\n",
      "|            Fitness|             0.4082|       positive|\n",
      "|         reddit.com|             0.2181|       positive|\n",
      "|          worldnews|            -0.1139|       negative|\n",
      "|    TwoXChromosomes|             0.2917|       positive|\n",
      "|           politics|             0.0862|       positive|\n",
      "|               IAmA|             0.2309|       positive|\n",
      "|              trees|             0.4149|       positive|\n",
      "|relationship_advice|             0.5646|       positive|\n",
      "|    leagueoflegends|             0.3244|       positive|\n",
      "|  explainlikeimfive|             0.2599|       positive|\n",
      "|                WTF|            -0.0838|       negative|\n",
      "|            atheism|             0.2822|       positive|\n",
      "|             gaming|             0.3479|       positive|\n",
      "|               tifu|             0.0785|       positive|\n",
      "|                sex|             0.5024|       positive|\n",
      "|              funny|             0.1038|       positive|\n",
      "+-------------------+-------------------+---------------+\n",
      "\n"
     ]
    },
    {
     "name": "stderr",
     "output_type": "stream",
     "text": [
      "                                                                                "
     ]
    }
   ],
   "source": [
    "init_time = perf_counter()\n",
    "\n",
    "df_prep = df.drop('body', 'content', 'id', 'subreddit_id', 'title', 'author', 'content_len', 'summary', 'summary_len')\n",
    "\n",
    "k = 25 # number of subreddits to consider\n",
    "df_top = df_prep.select('subreddit') \\\n",
    "                .groupBy('subreddit').count() \\\n",
    "                .sort('count', ascending=False) \\\n",
    "                .limit(k)\n",
    "\n",
    "topk_subreddits = [df_top.collect()[i][0] for i in range(k)]\n",
    "\n",
    "df_topk = df_prep.filter(df_prep['subreddit'].isin(topk_subreddits))\n",
    "\n",
    "df_topk = df_topk.withColumn(\"clean_text\", preprocess_text_udf(df_topk['normalizedBody']))\n",
    "\n",
    "df_vader = df_topk.withColumn(\"sentiment_score\", sentiment_score_udf(df_topk['clean_text']))\n",
    "df_vader = df_vader.withColumn(\"sentiment_label\", sentiment_label_udf(df_vader['sentiment_score']))\n",
    "\n",
    "df_avg = df_vader.groupBy(\"subreddit\") \\\n",
    "                 .agg(F.round(F.avg(\"sentiment_score\"), 4).alias(\"avg_sentiment_score\")) \\\n",
    "                 .limit(k)\n",
    "\n",
    "df_avg = df_avg.withColumn(\"sentiment_label\", sentiment_label_udf(df_avg['avg_sentiment_score']))\n",
    "\n",
    "df_avg.show(k)\n",
    "\n",
    "end_time = perf_counter()\n",
    "\n",
    "elapsed_time_22 = end_time - init_time"
   ]
  },
  {
   "cell_type": "code",
   "execution_count": 102,
   "id": "f67fcd91-4c80-45d7-8914-a9e338de18dd",
   "metadata": {},
   "outputs": [
    {
     "name": "stdout",
     "output_type": "stream",
     "text": [
      "Processing time using 2 nodes: 159.77766905602766\n"
     ]
    }
   ],
   "source": [
    "print(f\"Processing time using 2 nodes: {elapsed_time_22}\")"
   ]
  },
  {
   "cell_type": "code",
   "execution_count": 103,
   "id": "b96343d2-2b7f-4c77-a9de-82c29872dc44",
   "metadata": {},
   "outputs": [],
   "source": [
    "spark_session.stop()"
   ]
  },
  {
   "cell_type": "markdown",
   "id": "b4891921-af1b-462d-942a-6b5ad15a8cfd",
   "metadata": {
    "jp-MarkdownHeadingCollapsed": true
   },
   "source": [
    "## Test using:\n",
    "- 3 nodes\n",
    "- 4 cores per node\n",
    "- 5 GiB per executor"
   ]
  },
  {
   "cell_type": "code",
   "execution_count": 104,
   "id": "fc9b9eac-2b19-4ca4-beec-e3eb76d84154",
   "metadata": {},
   "outputs": [],
   "source": [
    "spark_session = SparkSession.builder \\\n",
    "    .master(\"spark://192.168.2.47:7077\") \\\n",
    "    .appName(\"manual_test\") \\\n",
    "    .config(\"spark.dynamicAllocation.enabled\", False) \\\n",
    "    .config(\"spark.dynamicAllocation.shuffleTracking.enabled\", True) \\\n",
    "    .config(\"spark.shuffle.service.enabled\", False) \\\n",
    "    .config(\"spark.dynamicAllocation.executorIdleTimeout\", \"30s\") \\\n",
    "    .config(\"spark.executor.instances\", \"3\") \\\n",
    "    .config(\"spark.executor.memory\", \"5G\") \\\n",
    "    .config(\"spark.cores.max\", \"12\") \\\n",
    "    .getOrCreate()\n",
    "\n",
    "# RDD API\n",
    "spark_context = spark_session.sparkContext\n",
    "spark_context.setLogLevel(\"ERROR\")"
   ]
  },
  {
   "cell_type": "code",
   "execution_count": 105,
   "id": "1e6060a2-ffb0-40b6-a5ae-126b32782674",
   "metadata": {},
   "outputs": [
    {
     "name": "stderr",
     "output_type": "stream",
     "text": [
      "                                                                                "
     ]
    }
   ],
   "source": [
    "# Loading the dataset without the corrupted values\n",
    "df = spark_session.read.option(\"mode\", \"DROPMALFORMED\").json(\"hdfs://192.168.2.47:9000/data-project/reddit_200k.json\")"
   ]
  },
  {
   "cell_type": "code",
   "execution_count": 106,
   "id": "a915aded-4c88-4d1a-8642-52b90378b3fd",
   "metadata": {},
   "outputs": [],
   "source": [
    "lemmatizer = WordNetLemmatizer()\n",
    "stop_words = set(stopwords.words('english'))\n",
    "sia = SentimentIntensityAnalyzer()\n",
    "\n",
    "@pandas_udf(\"string\")\n",
    "def preprocess_text_udf(text_series: pd.Series) -> pd.Series:\n",
    "    def preprocess(text):\n",
    "        # Lowercase the text\n",
    "        text = text.lower()\n",
    "        \n",
    "        # Remove special characters and extra spaces\n",
    "        text = re.sub(r'\\W+', ' ', text)\n",
    "        \n",
    "        # Split text into words\n",
    "        words = text.split()\n",
    "    \n",
    "        # Remove stopwords\n",
    "        words = [w for w in words if w not in stop_words]\n",
    "    \n",
    "        # Lemmatize words\n",
    "        words = [lemmatizer.lemmatize(w) for w in words]\n",
    "    \n",
    "        out_text = ' '.join(words)\n",
    "    \n",
    "        return out_text\n",
    "\n",
    "    return text_series.apply(preprocess)\n",
    "\n",
    "@pandas_udf(\"float\")\n",
    "def sentiment_score_udf(text_series: pd.Series) -> pd.Series:\n",
    "    return text_series.apply(lambda text: sia.polarity_scores(text)['compound'])\n",
    "\n",
    "@pandas_udf(\"string\")\n",
    "def sentiment_label_udf(score_series: pd.Series) -> pd.Series:\n",
    "    def label(score):\n",
    "        if score > 0.05:\n",
    "            return 'positive'\n",
    "        elif score < -0.05:\n",
    "            return 'negative'\n",
    "        else:\n",
    "            return 'neutral'\n",
    "    return score_series.apply(label)"
   ]
  },
  {
   "cell_type": "code",
   "execution_count": 107,
   "id": "b9b28e93-8e3b-4b20-8b3b-a6b4f83418e4",
   "metadata": {},
   "outputs": [
    {
     "name": "stderr",
     "output_type": "stream",
     "text": [
      "[Stage 52:==================================================>       (7 + 1) / 8]"
     ]
    },
    {
     "name": "stdout",
     "output_type": "stream",
     "text": [
      "+-------------------+-------------------+---------------+\n",
      "|          subreddit|avg_sentiment_score|sentiment_label|\n",
      "+-------------------+-------------------+---------------+\n",
      "|         offmychest|             0.2077|       positive|\n",
      "|          AskReddit|             0.1279|       positive|\n",
      "|             videos|             0.0349|        neutral|\n",
      "|              DotA2|              0.383|       positive|\n",
      "|      todayilearned|             0.0851|       positive|\n",
      "|      AdviceAnimals|             0.0773|       positive|\n",
      "|     DestinyTheGame|             0.3123|       positive|\n",
      "|      relationships|             0.5021|       positive|\n",
      "|               pics|             0.1013|       positive|\n",
      "|            Fitness|             0.4082|       positive|\n",
      "|         reddit.com|             0.2181|       positive|\n",
      "|          worldnews|            -0.1139|       negative|\n",
      "|    TwoXChromosomes|             0.2917|       positive|\n",
      "|           politics|             0.0862|       positive|\n",
      "|               IAmA|             0.2309|       positive|\n",
      "|              trees|             0.4149|       positive|\n",
      "|relationship_advice|             0.5646|       positive|\n",
      "|    leagueoflegends|             0.3244|       positive|\n",
      "|  explainlikeimfive|             0.2599|       positive|\n",
      "|                WTF|            -0.0838|       negative|\n",
      "|            atheism|             0.2822|       positive|\n",
      "|             gaming|             0.3479|       positive|\n",
      "|               tifu|             0.0785|       positive|\n",
      "|                sex|             0.5024|       positive|\n",
      "|              funny|             0.1038|       positive|\n",
      "+-------------------+-------------------+---------------+\n",
      "\n"
     ]
    },
    {
     "name": "stderr",
     "output_type": "stream",
     "text": [
      "                                                                                "
     ]
    }
   ],
   "source": [
    "init_time = perf_counter()\n",
    "\n",
    "df_prep = df.drop('body', 'content', 'id', 'subreddit_id', 'title', 'author', 'content_len', 'summary', 'summary_len')\n",
    "\n",
    "k = 25 # number of subreddits to consider\n",
    "df_top = df_prep.select('subreddit') \\\n",
    "                .groupBy('subreddit').count() \\\n",
    "                .sort('count', ascending=False) \\\n",
    "                .limit(k)\n",
    "\n",
    "topk_subreddits = [df_top.collect()[i][0] for i in range(k)]\n",
    "\n",
    "df_topk = df_prep.filter(df_prep['subreddit'].isin(topk_subreddits))\n",
    "\n",
    "df_topk = df_topk.withColumn(\"clean_text\", preprocess_text_udf(df_topk['normalizedBody']))\n",
    "\n",
    "df_vader = df_topk.withColumn(\"sentiment_score\", sentiment_score_udf(df_topk['clean_text']))\n",
    "df_vader = df_vader.withColumn(\"sentiment_label\", sentiment_label_udf(df_vader['sentiment_score']))\n",
    "\n",
    "df_avg = df_vader.groupBy(\"subreddit\") \\\n",
    "                 .agg(F.round(F.avg(\"sentiment_score\"), 4).alias(\"avg_sentiment_score\")) \\\n",
    "                 .limit(k)\n",
    "\n",
    "df_avg = df_avg.withColumn(\"sentiment_label\", sentiment_label_udf(df_avg['avg_sentiment_score']))\n",
    "\n",
    "df_avg.show(k)\n",
    "\n",
    "end_time = perf_counter()\n",
    "\n",
    "elapsed_time_32 = end_time - init_time"
   ]
  },
  {
   "cell_type": "code",
   "execution_count": 108,
   "id": "f20eec50-e4b0-4536-8ef1-91ee644dab9c",
   "metadata": {},
   "outputs": [
    {
     "name": "stdout",
     "output_type": "stream",
     "text": [
      "Processing time using 3 nodes: 90.342039183015\n"
     ]
    }
   ],
   "source": [
    "print(f\"Processing time using 3 nodes: {elapsed_time_32}\")"
   ]
  },
  {
   "cell_type": "code",
   "execution_count": 109,
   "id": "55d3bcdd-cca0-4fbe-9edb-d649c324e670",
   "metadata": {},
   "outputs": [],
   "source": [
    "spark_session.stop()"
   ]
  },
  {
   "cell_type": "markdown",
   "id": "aca189da-a393-41bc-b062-dc1b4bec0c5f",
   "metadata": {},
   "source": [
    "## Append results from 200k dataset to a list"
   ]
  },
  {
   "cell_type": "code",
   "execution_count": 110,
   "id": "0b6549ac-6b79-46e6-a1ed-085bb0906b9d",
   "metadata": {},
   "outputs": [],
   "source": [
    "times_200k = [elapsed_time_12, elapsed_time_22, elapsed_time_32]"
   ]
  },
  {
   "cell_type": "code",
   "execution_count": 111,
   "id": "0379e0f4-6f97-499a-8ae2-ba387d02edef",
   "metadata": {},
   "outputs": [
    {
     "name": "stdout",
     "output_type": "stream",
     "text": [
      "[342.2870891590137, 159.77766905602766, 90.342039183015]\n"
     ]
    }
   ],
   "source": [
    "print(times_200k)"
   ]
  },
  {
   "cell_type": "markdown",
   "id": "b5f29004-f80d-41d2-afb1-649d2186fa6f",
   "metadata": {
    "jp-MarkdownHeadingCollapsed": true
   },
   "source": [
    "# Tests with 500k dataset"
   ]
  },
  {
   "cell_type": "markdown",
   "id": "6b45ffe3-5ffe-4464-b42f-2ffaf93be1ae",
   "metadata": {
    "jp-MarkdownHeadingCollapsed": true
   },
   "source": [
    "## Test using:\n",
    "- 1 node\n",
    "- 4 cores per node\n",
    "- 5 GiB per executor"
   ]
  },
  {
   "cell_type": "code",
   "execution_count": 114,
   "id": "68fea371-077f-4d6b-afbf-d49204c87d64",
   "metadata": {},
   "outputs": [],
   "source": [
    "spark_session = SparkSession.builder \\\n",
    "    .master(\"spark://192.168.2.47:7077\") \\\n",
    "    .appName(\"manual_test\") \\\n",
    "    .config(\"spark.dynamicAllocation.enabled\", False) \\\n",
    "    .config(\"spark.dynamicAllocation.shuffleTracking.enabled\", True) \\\n",
    "    .config(\"spark.shuffle.service.enabled\", False) \\\n",
    "    .config(\"spark.dynamicAllocation.executorIdleTimeout\", \"30s\") \\\n",
    "    .config(\"spark.executor.instances\", \"1\") \\\n",
    "    .config(\"spark.executor.memory\", \"5G\") \\\n",
    "    .config(\"spark.cores.max\", \"4\") \\\n",
    "    .getOrCreate()\n",
    "\n",
    "# RDD API\n",
    "spark_context = spark_session.sparkContext\n",
    "spark_context.setLogLevel(\"ERROR\")"
   ]
  },
  {
   "cell_type": "code",
   "execution_count": 115,
   "id": "0cbf059c-5097-423a-898e-4376296d477b",
   "metadata": {},
   "outputs": [
    {
     "name": "stderr",
     "output_type": "stream",
     "text": [
      "                                                                                "
     ]
    }
   ],
   "source": [
    "# Loading the dataset without the corrupted values\n",
    "df = spark_session.read.option(\"mode\", \"DROPMALFORMED\").json(\"hdfs://192.168.2.47:9000/data-project/reddit_500k.json\")"
   ]
  },
  {
   "cell_type": "code",
   "execution_count": 116,
   "id": "ce73d07b-129c-4020-ab32-3fdf410ee456",
   "metadata": {},
   "outputs": [],
   "source": [
    "lemmatizer = WordNetLemmatizer()\n",
    "stop_words = set(stopwords.words('english'))\n",
    "sia = SentimentIntensityAnalyzer()\n",
    "\n",
    "@pandas_udf(\"string\")\n",
    "def preprocess_text_udf(text_series: pd.Series) -> pd.Series:\n",
    "    def preprocess(text):\n",
    "        # Lowercase the text\n",
    "        text = text.lower()\n",
    "        \n",
    "        # Remove special characters and extra spaces\n",
    "        text = re.sub(r'\\W+', ' ', text)\n",
    "        \n",
    "        # Split text into words\n",
    "        words = text.split()\n",
    "    \n",
    "        # Remove stopwords\n",
    "        words = [w for w in words if w not in stop_words]\n",
    "    \n",
    "        # Lemmatize words\n",
    "        words = [lemmatizer.lemmatize(w) for w in words]\n",
    "    \n",
    "        out_text = ' '.join(words)\n",
    "    \n",
    "        return out_text\n",
    "\n",
    "    return text_series.apply(preprocess)\n",
    "\n",
    "@pandas_udf(\"float\")\n",
    "def sentiment_score_udf(text_series: pd.Series) -> pd.Series:\n",
    "    return text_series.apply(lambda text: sia.polarity_scores(text)['compound'])\n",
    "\n",
    "@pandas_udf(\"string\")\n",
    "def sentiment_label_udf(score_series: pd.Series) -> pd.Series:\n",
    "    def label(score):\n",
    "        if score > 0.05:\n",
    "            return 'positive'\n",
    "        elif score < -0.05:\n",
    "            return 'negative'\n",
    "        else:\n",
    "            return 'neutral'\n",
    "    return score_series.apply(label)"
   ]
  },
  {
   "cell_type": "code",
   "execution_count": 117,
   "id": "efb0d042-72d8-4904-bc2d-ab77527a840a",
   "metadata": {},
   "outputs": [
    {
     "name": "stderr",
     "output_type": "stream",
     "text": [
      "[Stage 52:=====================================================>  (18 + 1) / 19]"
     ]
    },
    {
     "name": "stdout",
     "output_type": "stream",
     "text": [
      "+-------------------+-------------------+---------------+\n",
      "|          subreddit|avg_sentiment_score|sentiment_label|\n",
      "+-------------------+-------------------+---------------+\n",
      "|         offmychest|             0.2141|       positive|\n",
      "|          AskReddit|             0.1256|       positive|\n",
      "|             videos|             0.0422|        neutral|\n",
      "|              DotA2|             0.3998|       positive|\n",
      "|      todayilearned|             0.0623|       positive|\n",
      "|      AdviceAnimals|             0.0715|       positive|\n",
      "|     DestinyTheGame|             0.3092|       positive|\n",
      "|      relationships|             0.4976|       positive|\n",
      "|               pics|             0.1072|       positive|\n",
      "|            Fitness|             0.4108|       positive|\n",
      "|         reddit.com|             0.2059|       positive|\n",
      "|          worldnews|            -0.1014|       negative|\n",
      "|    TwoXChromosomes|             0.3029|       positive|\n",
      "|           politics|             0.0894|       positive|\n",
      "|               IAmA|             0.2257|       positive|\n",
      "|              trees|             0.4152|       positive|\n",
      "|relationship_advice|             0.5588|       positive|\n",
      "|    leagueoflegends|             0.3251|       positive|\n",
      "|  explainlikeimfive|             0.2779|       positive|\n",
      "|                WTF|            -0.1033|       negative|\n",
      "|            atheism|             0.2733|       positive|\n",
      "|             gaming|              0.343|       positive|\n",
      "|               tifu|             0.0837|       positive|\n",
      "|                sex|             0.4967|       positive|\n",
      "|              funny|             0.1277|       positive|\n",
      "+-------------------+-------------------+---------------+\n",
      "\n"
     ]
    },
    {
     "name": "stderr",
     "output_type": "stream",
     "text": [
      "                                                                                "
     ]
    }
   ],
   "source": [
    "init_time = perf_counter()\n",
    "\n",
    "df_prep = df.drop('body', 'content', 'id', 'subreddit_id', 'title', 'author', 'content_len', 'summary', 'summary_len')\n",
    "\n",
    "k = 25 # number of subreddits to consider\n",
    "df_top = df_prep.select('subreddit') \\\n",
    "                .groupBy('subreddit').count() \\\n",
    "                .sort('count', ascending=False) \\\n",
    "                .limit(k)\n",
    "\n",
    "topk_subreddits = [df_top.collect()[i][0] for i in range(k)]\n",
    "\n",
    "df_topk = df_prep.filter(df_prep['subreddit'].isin(topk_subreddits))\n",
    "\n",
    "df_topk = df_topk.withColumn(\"clean_text\", preprocess_text_udf(df_topk['normalizedBody']))\n",
    "\n",
    "df_vader = df_topk.withColumn(\"sentiment_score\", sentiment_score_udf(df_topk['clean_text']))\n",
    "df_vader = df_vader.withColumn(\"sentiment_label\", sentiment_label_udf(df_vader['sentiment_score']))\n",
    "\n",
    "df_avg = df_vader.groupBy(\"subreddit\") \\\n",
    "                 .agg(F.round(F.avg(\"sentiment_score\"), 4).alias(\"avg_sentiment_score\")) \\\n",
    "                 .limit(k)\n",
    "\n",
    "df_avg = df_avg.withColumn(\"sentiment_label\", sentiment_label_udf(df_avg['avg_sentiment_score']))\n",
    "\n",
    "df_avg.show(k)\n",
    "\n",
    "end_time = perf_counter()\n",
    "\n",
    "elapsed_time_13 = end_time - init_time"
   ]
  },
  {
   "cell_type": "code",
   "execution_count": 118,
   "id": "5e243665-433a-4886-82d5-d92c448bd696",
   "metadata": {},
   "outputs": [
    {
     "name": "stdout",
     "output_type": "stream",
     "text": [
      "Processing time using 1 node: 819.6431082779891\n"
     ]
    }
   ],
   "source": [
    "print(f\"Processing time using 1 node: {elapsed_time_13}\")"
   ]
  },
  {
   "cell_type": "code",
   "execution_count": 119,
   "id": "a9b34909-c843-40f8-93d5-ab0b083fa2fd",
   "metadata": {},
   "outputs": [],
   "source": [
    "spark_session.stop()"
   ]
  },
  {
   "cell_type": "markdown",
   "id": "239817b0-c0c3-4aea-aaf3-0250272024e0",
   "metadata": {
    "jp-MarkdownHeadingCollapsed": true
   },
   "source": [
    "## Test using:\n",
    "- 2 nodes\n",
    "- 4 cores per node\n",
    "- 5 GiB per executor"
   ]
  },
  {
   "cell_type": "code",
   "execution_count": 120,
   "id": "c7054430-172f-4a37-9091-58c6909e99f0",
   "metadata": {},
   "outputs": [],
   "source": [
    "spark_session = SparkSession.builder \\\n",
    "    .master(\"spark://192.168.2.47:7077\") \\\n",
    "    .appName(\"manual_test\") \\\n",
    "    .config(\"spark.dynamicAllocation.enabled\", False) \\\n",
    "    .config(\"spark.dynamicAllocation.shuffleTracking.enabled\", True) \\\n",
    "    .config(\"spark.shuffle.service.enabled\", False) \\\n",
    "    .config(\"spark.dynamicAllocation.executorIdleTimeout\", \"30s\") \\\n",
    "    .config(\"spark.executor.instances\", \"2\") \\\n",
    "    .config(\"spark.executor.memory\", \"5G\") \\\n",
    "    .config(\"spark.cores.max\", \"8\") \\\n",
    "    .getOrCreate()\n",
    "\n",
    "# RDD API\n",
    "spark_context = spark_session.sparkContext\n",
    "spark_context.setLogLevel(\"ERROR\")"
   ]
  },
  {
   "cell_type": "code",
   "execution_count": 121,
   "id": "716614b2-ed94-4371-b81b-3973523949b0",
   "metadata": {},
   "outputs": [
    {
     "name": "stderr",
     "output_type": "stream",
     "text": [
      "                                                                                "
     ]
    }
   ],
   "source": [
    "# Loading the dataset without the corrupted values\n",
    "df = spark_session.read.option(\"mode\", \"DROPMALFORMED\").json(\"hdfs://192.168.2.47:9000/data-project/reddit_500k.json\")"
   ]
  },
  {
   "cell_type": "code",
   "execution_count": 122,
   "id": "62be0954-6369-4352-991f-c1acc14c2796",
   "metadata": {},
   "outputs": [],
   "source": [
    "lemmatizer = WordNetLemmatizer()\n",
    "stop_words = set(stopwords.words('english'))\n",
    "sia = SentimentIntensityAnalyzer()\n",
    "\n",
    "@pandas_udf(\"string\")\n",
    "def preprocess_text_udf(text_series: pd.Series) -> pd.Series:\n",
    "    def preprocess(text):\n",
    "        # Lowercase the text\n",
    "        text = text.lower()\n",
    "        \n",
    "        # Remove special characters and extra spaces\n",
    "        text = re.sub(r'\\W+', ' ', text)\n",
    "        \n",
    "        # Split text into words\n",
    "        words = text.split()\n",
    "    \n",
    "        # Remove stopwords\n",
    "        words = [w for w in words if w not in stop_words]\n",
    "    \n",
    "        # Lemmatize words\n",
    "        words = [lemmatizer.lemmatize(w) for w in words]\n",
    "    \n",
    "        out_text = ' '.join(words)\n",
    "    \n",
    "        return out_text\n",
    "\n",
    "    return text_series.apply(preprocess)\n",
    "\n",
    "@pandas_udf(\"float\")\n",
    "def sentiment_score_udf(text_series: pd.Series) -> pd.Series:\n",
    "    return text_series.apply(lambda text: sia.polarity_scores(text)['compound'])\n",
    "\n",
    "@pandas_udf(\"string\")\n",
    "def sentiment_label_udf(score_series: pd.Series) -> pd.Series:\n",
    "    def label(score):\n",
    "        if score > 0.05:\n",
    "            return 'positive'\n",
    "        elif score < -0.05:\n",
    "            return 'negative'\n",
    "        else:\n",
    "            return 'neutral'\n",
    "    return score_series.apply(label)"
   ]
  },
  {
   "cell_type": "code",
   "execution_count": 123,
   "id": "2c913db6-7265-44e9-a1f3-b704b52873a5",
   "metadata": {},
   "outputs": [
    {
     "name": "stderr",
     "output_type": "stream",
     "text": [
      "[Stage 52:=====================================================>  (18 + 1) / 19]"
     ]
    },
    {
     "name": "stdout",
     "output_type": "stream",
     "text": [
      "+-------------------+-------------------+---------------+\n",
      "|          subreddit|avg_sentiment_score|sentiment_label|\n",
      "+-------------------+-------------------+---------------+\n",
      "|         offmychest|             0.2141|       positive|\n",
      "|          AskReddit|             0.1256|       positive|\n",
      "|             videos|             0.0422|        neutral|\n",
      "|              DotA2|             0.3998|       positive|\n",
      "|      todayilearned|             0.0623|       positive|\n",
      "|      AdviceAnimals|             0.0715|       positive|\n",
      "|     DestinyTheGame|             0.3092|       positive|\n",
      "|      relationships|             0.4976|       positive|\n",
      "|               pics|             0.1072|       positive|\n",
      "|            Fitness|             0.4108|       positive|\n",
      "|         reddit.com|             0.2059|       positive|\n",
      "|          worldnews|            -0.1014|       negative|\n",
      "|    TwoXChromosomes|             0.3029|       positive|\n",
      "|           politics|             0.0894|       positive|\n",
      "|               IAmA|             0.2257|       positive|\n",
      "|              trees|             0.4152|       positive|\n",
      "|relationship_advice|             0.5588|       positive|\n",
      "|    leagueoflegends|             0.3251|       positive|\n",
      "|  explainlikeimfive|             0.2779|       positive|\n",
      "|                WTF|            -0.1033|       negative|\n",
      "|            atheism|             0.2733|       positive|\n",
      "|             gaming|              0.343|       positive|\n",
      "|               tifu|             0.0837|       positive|\n",
      "|                sex|             0.4967|       positive|\n",
      "|              funny|             0.1277|       positive|\n",
      "+-------------------+-------------------+---------------+\n",
      "\n"
     ]
    },
    {
     "name": "stderr",
     "output_type": "stream",
     "text": [
      "                                                                                "
     ]
    }
   ],
   "source": [
    "init_time = perf_counter()\n",
    "\n",
    "df_prep = df.drop('body', 'content', 'id', 'subreddit_id', 'title', 'author', 'content_len', 'summary', 'summary_len')\n",
    "\n",
    "k = 25 # number of subreddits to consider\n",
    "df_top = df_prep.select('subreddit') \\\n",
    "                .groupBy('subreddit').count() \\\n",
    "                .sort('count', ascending=False) \\\n",
    "                .limit(k)\n",
    "\n",
    "topk_subreddits = [df_top.collect()[i][0] for i in range(k)]\n",
    "\n",
    "df_topk = df_prep.filter(df_prep['subreddit'].isin(topk_subreddits))\n",
    "\n",
    "df_topk = df_topk.withColumn(\"clean_text\", preprocess_text_udf(df_topk['normalizedBody']))\n",
    "\n",
    "df_vader = df_topk.withColumn(\"sentiment_score\", sentiment_score_udf(df_topk['clean_text']))\n",
    "df_vader = df_vader.withColumn(\"sentiment_label\", sentiment_label_udf(df_vader['sentiment_score']))\n",
    "\n",
    "df_avg = df_vader.groupBy(\"subreddit\") \\\n",
    "                 .agg(F.round(F.avg(\"sentiment_score\"), 4).alias(\"avg_sentiment_score\")) \\\n",
    "                 .limit(k)\n",
    "\n",
    "df_avg = df_avg.withColumn(\"sentiment_label\", sentiment_label_udf(df_avg['avg_sentiment_score']))\n",
    "\n",
    "df_avg.show(k)\n",
    "\n",
    "end_time = perf_counter()\n",
    "\n",
    "elapsed_time_23 = end_time - init_time"
   ]
  },
  {
   "cell_type": "code",
   "execution_count": 124,
   "id": "81c096f8-c51b-443a-8a1a-1888b16f4b43",
   "metadata": {},
   "outputs": [
    {
     "name": "stdout",
     "output_type": "stream",
     "text": [
      "Processing time using 2 nodes: 392.5954315380077\n"
     ]
    }
   ],
   "source": [
    "print(f\"Processing time using 2 nodes: {elapsed_time_23}\")"
   ]
  },
  {
   "cell_type": "code",
   "execution_count": 125,
   "id": "672fee65-2358-425e-864b-bc75984262d3",
   "metadata": {},
   "outputs": [],
   "source": [
    "spark_session.stop()"
   ]
  },
  {
   "cell_type": "markdown",
   "id": "6cd571fd-c975-4061-8757-bed8c8beb6c7",
   "metadata": {
    "jp-MarkdownHeadingCollapsed": true
   },
   "source": [
    "## Test using:\n",
    "- 3 nodes\n",
    "- 4 cores per node\n",
    "- 5 GiB per executor"
   ]
  },
  {
   "cell_type": "code",
   "execution_count": 126,
   "id": "fc1194da-565c-4355-bd51-a9c33edb1cae",
   "metadata": {},
   "outputs": [],
   "source": [
    "spark_session = SparkSession.builder \\\n",
    "    .master(\"spark://192.168.2.47:7077\") \\\n",
    "    .appName(\"manual_test\") \\\n",
    "    .config(\"spark.dynamicAllocation.enabled\", False) \\\n",
    "    .config(\"spark.dynamicAllocation.shuffleTracking.enabled\", True) \\\n",
    "    .config(\"spark.shuffle.service.enabled\", False) \\\n",
    "    .config(\"spark.dynamicAllocation.executorIdleTimeout\", \"30s\") \\\n",
    "    .config(\"spark.executor.instances\", \"3\") \\\n",
    "    .config(\"spark.executor.memory\", \"5G\") \\\n",
    "    .config(\"spark.cores.max\", \"12\") \\\n",
    "    .getOrCreate()\n",
    "\n",
    "# RDD API\n",
    "spark_context = spark_session.sparkContext\n",
    "spark_context.setLogLevel(\"ERROR\")"
   ]
  },
  {
   "cell_type": "code",
   "execution_count": 127,
   "id": "02613dae-00a3-4d03-931b-c2dd5bfd89d6",
   "metadata": {},
   "outputs": [
    {
     "name": "stderr",
     "output_type": "stream",
     "text": [
      "                                                                                "
     ]
    }
   ],
   "source": [
    "# Loading the dataset without the corrupted values\n",
    "df = spark_session.read.option(\"mode\", \"DROPMALFORMED\").json(\"hdfs://192.168.2.47:9000/data-project/reddit_500k.json\")"
   ]
  },
  {
   "cell_type": "code",
   "execution_count": 128,
   "id": "4ed6ec99-bc44-4007-acbc-9391407d9146",
   "metadata": {},
   "outputs": [],
   "source": [
    "lemmatizer = WordNetLemmatizer()\n",
    "stop_words = set(stopwords.words('english'))\n",
    "sia = SentimentIntensityAnalyzer()\n",
    "\n",
    "@pandas_udf(\"string\")\n",
    "def preprocess_text_udf(text_series: pd.Series) -> pd.Series:\n",
    "    def preprocess(text):\n",
    "        # Lowercase the text\n",
    "        text = text.lower()\n",
    "        \n",
    "        # Remove special characters and extra spaces\n",
    "        text = re.sub(r'\\W+', ' ', text)\n",
    "        \n",
    "        # Split text into words\n",
    "        words = text.split()\n",
    "    \n",
    "        # Remove stopwords\n",
    "        words = [w for w in words if w not in stop_words]\n",
    "    \n",
    "        # Lemmatize words\n",
    "        words = [lemmatizer.lemmatize(w) for w in words]\n",
    "    \n",
    "        out_text = ' '.join(words)\n",
    "    \n",
    "        return out_text\n",
    "\n",
    "    return text_series.apply(preprocess)\n",
    "\n",
    "@pandas_udf(\"float\")\n",
    "def sentiment_score_udf(text_series: pd.Series) -> pd.Series:\n",
    "    return text_series.apply(lambda text: sia.polarity_scores(text)['compound'])\n",
    "\n",
    "@pandas_udf(\"string\")\n",
    "def sentiment_label_udf(score_series: pd.Series) -> pd.Series:\n",
    "    def label(score):\n",
    "        if score > 0.05:\n",
    "            return 'positive'\n",
    "        elif score < -0.05:\n",
    "            return 'negative'\n",
    "        else:\n",
    "            return 'neutral'\n",
    "    return score_series.apply(label)"
   ]
  },
  {
   "cell_type": "code",
   "execution_count": 129,
   "id": "303a8cc0-eb04-43da-966b-9b61703a4921",
   "metadata": {},
   "outputs": [
    {
     "name": "stderr",
     "output_type": "stream",
     "text": [
      "[Stage 54:>                                                         (0 + 1) / 1]"
     ]
    },
    {
     "name": "stdout",
     "output_type": "stream",
     "text": [
      "+-------------------+-------------------+---------------+\n",
      "|          subreddit|avg_sentiment_score|sentiment_label|\n",
      "+-------------------+-------------------+---------------+\n",
      "|         offmychest|             0.2141|       positive|\n",
      "|          AskReddit|             0.1256|       positive|\n",
      "|             videos|             0.0422|        neutral|\n",
      "|              DotA2|             0.3998|       positive|\n",
      "|      todayilearned|             0.0623|       positive|\n",
      "|      AdviceAnimals|             0.0715|       positive|\n",
      "|     DestinyTheGame|             0.3092|       positive|\n",
      "|      relationships|             0.4976|       positive|\n",
      "|               pics|             0.1072|       positive|\n",
      "|            Fitness|             0.4108|       positive|\n",
      "|         reddit.com|             0.2059|       positive|\n",
      "|          worldnews|            -0.1014|       negative|\n",
      "|    TwoXChromosomes|             0.3029|       positive|\n",
      "|           politics|             0.0894|       positive|\n",
      "|               IAmA|             0.2257|       positive|\n",
      "|              trees|             0.4152|       positive|\n",
      "|relationship_advice|             0.5588|       positive|\n",
      "|    leagueoflegends|             0.3251|       positive|\n",
      "|  explainlikeimfive|             0.2779|       positive|\n",
      "|                WTF|            -0.1033|       negative|\n",
      "|            atheism|             0.2733|       positive|\n",
      "|             gaming|              0.343|       positive|\n",
      "|               tifu|             0.0837|       positive|\n",
      "|                sex|             0.4967|       positive|\n",
      "|              funny|             0.1277|       positive|\n",
      "+-------------------+-------------------+---------------+\n",
      "\n"
     ]
    },
    {
     "name": "stderr",
     "output_type": "stream",
     "text": [
      "                                                                                "
     ]
    }
   ],
   "source": [
    "init_time = perf_counter()\n",
    "\n",
    "df_prep = df.drop('body', 'content', 'id', 'subreddit_id', 'title', 'author', 'content_len', 'summary', 'summary_len')\n",
    "\n",
    "k = 25 # number of subreddits to consider\n",
    "df_top = df_prep.select('subreddit') \\\n",
    "                .groupBy('subreddit').count() \\\n",
    "                .sort('count', ascending=False) \\\n",
    "                .limit(k)\n",
    "\n",
    "topk_subreddits = [df_top.collect()[i][0] for i in range(k)]\n",
    "\n",
    "df_topk = df_prep.filter(df_prep['subreddit'].isin(topk_subreddits))\n",
    "\n",
    "df_topk = df_topk.withColumn(\"clean_text\", preprocess_text_udf(df_topk['normalizedBody']))\n",
    "\n",
    "df_vader = df_topk.withColumn(\"sentiment_score\", sentiment_score_udf(df_topk['clean_text']))\n",
    "df_vader = df_vader.withColumn(\"sentiment_label\", sentiment_label_udf(df_vader['sentiment_score']))\n",
    "\n",
    "df_avg = df_vader.groupBy(\"subreddit\") \\\n",
    "                 .agg(F.round(F.avg(\"sentiment_score\"), 4).alias(\"avg_sentiment_score\")) \\\n",
    "                 .limit(k)\n",
    "\n",
    "df_avg = df_avg.withColumn(\"sentiment_label\", sentiment_label_udf(df_avg['avg_sentiment_score']))\n",
    "\n",
    "df_avg.show(k)\n",
    "\n",
    "end_time = perf_counter()\n",
    "\n",
    "elapsed_time_33 = end_time - init_time"
   ]
  },
  {
   "cell_type": "code",
   "execution_count": 130,
   "id": "2bc54d7e-1c47-4409-8245-6e7a7c89e817",
   "metadata": {},
   "outputs": [
    {
     "name": "stdout",
     "output_type": "stream",
     "text": [
      "Processing time using 3 nodes: 206.61554143298417\n"
     ]
    }
   ],
   "source": [
    "print(f\"Processing time using 3 nodes: {elapsed_time_33}\")"
   ]
  },
  {
   "cell_type": "code",
   "execution_count": 131,
   "id": "bde63674-faa8-47ec-920a-f81d1cd60d7f",
   "metadata": {},
   "outputs": [],
   "source": [
    "spark_session.stop()"
   ]
  },
  {
   "cell_type": "markdown",
   "id": "badf2907-f174-4f5b-9e69-d79b9a8de4b3",
   "metadata": {},
   "source": [
    "## Append results from 500k dataset to a list"
   ]
  },
  {
   "cell_type": "code",
   "execution_count": 132,
   "id": "14d614d4-2eab-4263-8f2f-d5f774e98a84",
   "metadata": {},
   "outputs": [],
   "source": [
    "times_500k = [elapsed_time_13, elapsed_time_23, elapsed_time_33]"
   ]
  },
  {
   "cell_type": "code",
   "execution_count": 133,
   "id": "a6eb2393-3230-4b89-b588-e46444a77af6",
   "metadata": {},
   "outputs": [
    {
     "name": "stdout",
     "output_type": "stream",
     "text": [
      "[819.6431082779891, 392.5954315380077, 206.61554143298417]\n"
     ]
    }
   ],
   "source": [
    "print(times_500k)"
   ]
  },
  {
   "cell_type": "markdown",
   "id": "9bffdc42-4fec-452b-94ea-8eb1a9870a5e",
   "metadata": {
    "jp-MarkdownHeadingCollapsed": true
   },
   "source": [
    "# Tests with the complete dataset"
   ]
  },
  {
   "cell_type": "markdown",
   "id": "c16cd128-aeaa-4896-ab5e-06095ebfa24e",
   "metadata": {
    "jp-MarkdownHeadingCollapsed": true
   },
   "source": [
    "## Test using:\n",
    "- 1 node\n",
    "- 4 cores per node\n",
    "- 5 GiB per executor"
   ]
  },
  {
   "cell_type": "code",
   "execution_count": 2,
   "id": "fa6865a1-6e27-4354-8eec-6fe86c4c2b04",
   "metadata": {},
   "outputs": [
    {
     "name": "stderr",
     "output_type": "stream",
     "text": [
      "Setting default log level to \"WARN\".\n",
      "To adjust logging level use sc.setLogLevel(newLevel). For SparkR, use setLogLevel(newLevel).\n",
      "25/03/21 12:44:53 WARN NativeCodeLoader: Unable to load native-hadoop library for your platform... using builtin-java classes where applicable\n"
     ]
    }
   ],
   "source": [
    "spark_session = SparkSession.builder \\\n",
    "    .master(\"spark://192.168.2.47:7077\") \\\n",
    "    .appName(\"manual_test\") \\\n",
    "    .config(\"spark.dynamicAllocation.enabled\", False) \\\n",
    "    .config(\"spark.dynamicAllocation.shuffleTracking.enabled\", True) \\\n",
    "    .config(\"spark.shuffle.service.enabled\", False) \\\n",
    "    .config(\"spark.dynamicAllocation.executorIdleTimeout\", \"30s\") \\\n",
    "    .config(\"spark.executor.instances\", \"1\") \\\n",
    "    .config(\"spark.executor.memory\", \"5G\") \\\n",
    "    .config(\"spark.cores.max\", \"4\") \\\n",
    "    .getOrCreate()\n",
    "\n",
    "# RDD API\n",
    "spark_context = spark_session.sparkContext\n",
    "spark_context.setLogLevel(\"ERROR\")"
   ]
  },
  {
   "cell_type": "code",
   "execution_count": 3,
   "id": "59330819-e72a-483b-983c-44319a7c3e3d",
   "metadata": {},
   "outputs": [
    {
     "name": "stderr",
     "output_type": "stream",
     "text": [
      "                                                                                "
     ]
    }
   ],
   "source": [
    "# Loading the dataset without the corrupted values\n",
    "df = spark_session.read.option(\"mode\", \"DROPMALFORMED\").json(\"hdfs://192.168.2.47:9000/data-project/corpus-webis-tldr-17.json\")"
   ]
  },
  {
   "cell_type": "code",
   "execution_count": 4,
   "id": "156bf5b2-2eff-4d85-ad7e-73c0b9461f72",
   "metadata": {},
   "outputs": [],
   "source": [
    "lemmatizer = WordNetLemmatizer()\n",
    "stop_words = set(stopwords.words('english'))\n",
    "sia = SentimentIntensityAnalyzer()\n",
    "\n",
    "@pandas_udf(\"string\")\n",
    "def preprocess_text_udf(text_series: pd.Series) -> pd.Series:\n",
    "    def preprocess(text):\n",
    "        # Lowercase the text\n",
    "        text = text.lower()\n",
    "        \n",
    "        # Remove special characters and extra spaces\n",
    "        text = re.sub(r'\\W+', ' ', text)\n",
    "        \n",
    "        # Split text into words\n",
    "        words = text.split()\n",
    "    \n",
    "        # Remove stopwords\n",
    "        words = [w for w in words if w not in stop_words]\n",
    "    \n",
    "        # Lemmatize words\n",
    "        words = [lemmatizer.lemmatize(w) for w in words]\n",
    "    \n",
    "        out_text = ' '.join(words)\n",
    "    \n",
    "        return out_text\n",
    "\n",
    "    return text_series.apply(preprocess)\n",
    "\n",
    "@pandas_udf(\"float\")\n",
    "def sentiment_score_udf(text_series: pd.Series) -> pd.Series:\n",
    "    return text_series.apply(lambda text: sia.polarity_scores(text)['compound'])\n",
    "\n",
    "@pandas_udf(\"string\")\n",
    "def sentiment_label_udf(score_series: pd.Series) -> pd.Series:\n",
    "    def label(score):\n",
    "        if score > 0.05:\n",
    "            return 'positive'\n",
    "        elif score < -0.05:\n",
    "            return 'negative'\n",
    "        else:\n",
    "            return 'neutral'\n",
    "    return score_series.apply(label)"
   ]
  },
  {
   "cell_type": "code",
   "execution_count": 5,
   "id": "0fcdee43-5725-4e62-bcd2-78d9f9cf3981",
   "metadata": {},
   "outputs": [
    {
     "name": "stderr",
     "output_type": "stream",
     "text": [
      "[Stage 52:=====================================================>(146 + 1) / 147]"
     ]
    },
    {
     "name": "stdout",
     "output_type": "stream",
     "text": [
      "+-------------------+-------------------+---------------+\n",
      "|          subreddit|avg_sentiment_score|sentiment_label|\n",
      "+-------------------+-------------------+---------------+\n",
      "|         offmychest|              0.198|       positive|\n",
      "|          AskReddit|             0.1232|       positive|\n",
      "|             videos|             0.0226|        neutral|\n",
      "|              DotA2|             0.3761|       positive|\n",
      "|      todayilearned|             0.0659|       positive|\n",
      "|      AdviceAnimals|              0.098|       positive|\n",
      "|     DestinyTheGame|             0.3073|       positive|\n",
      "|      relationships|              0.496|       positive|\n",
      "|               pics|             0.1108|       positive|\n",
      "|            Fitness|             0.4145|       positive|\n",
      "|         reddit.com|             0.1892|       positive|\n",
      "|    TwoXChromosomes|             0.3106|       positive|\n",
      "|          worldnews|            -0.0973|       negative|\n",
      "|           politics|             0.0745|       positive|\n",
      "|               IAmA|             0.2358|       positive|\n",
      "|              trees|             0.4134|       positive|\n",
      "|relationship_advice|             0.5632|       positive|\n",
      "|    leagueoflegends|             0.3344|       positive|\n",
      "|  explainlikeimfive|             0.2691|       positive|\n",
      "|                WTF|            -0.1121|       negative|\n",
      "|            atheism|             0.2702|       positive|\n",
      "|             gaming|             0.3343|       positive|\n",
      "|               tifu|             0.0718|       positive|\n",
      "|                sex|             0.5052|       positive|\n",
      "|              funny|             0.1142|       positive|\n",
      "+-------------------+-------------------+---------------+\n",
      "\n"
     ]
    },
    {
     "name": "stderr",
     "output_type": "stream",
     "text": [
      "                                                                                "
     ]
    }
   ],
   "source": [
    "init_time = perf_counter()\n",
    "\n",
    "df_prep = df.drop('body', 'content', 'id', 'subreddit_id', 'title', 'author', 'content_len', 'summary', 'summary_len')\n",
    "\n",
    "k = 25 # number of subreddits to consider\n",
    "df_top = df_prep.select('subreddit') \\\n",
    "                .groupBy('subreddit').count() \\\n",
    "                .sort('count', ascending=False) \\\n",
    "                .limit(k)\n",
    "\n",
    "topk_subreddits = [df_top.collect()[i][0] for i in range(k)]\n",
    "\n",
    "df_topk = df_prep.filter(df_prep['subreddit'].isin(topk_subreddits))\n",
    "\n",
    "df_topk = df_topk.withColumn(\"clean_text\", preprocess_text_udf(df_topk['normalizedBody']))\n",
    "\n",
    "df_vader = df_topk.withColumn(\"sentiment_score\", sentiment_score_udf(df_topk['clean_text']))\n",
    "df_vader = df_vader.withColumn(\"sentiment_label\", sentiment_label_udf(df_vader['sentiment_score']))\n",
    "\n",
    "df_avg = df_vader.groupBy(\"subreddit\") \\\n",
    "                 .agg(F.round(F.avg(\"sentiment_score\"), 4).alias(\"avg_sentiment_score\")) \\\n",
    "                 .limit(k)\n",
    "\n",
    "df_avg = df_avg.withColumn(\"sentiment_label\", sentiment_label_udf(df_avg['avg_sentiment_score']))\n",
    "\n",
    "df_avg.show(k)\n",
    "\n",
    "end_time = perf_counter()\n",
    "\n",
    "elapsed_time_1f = end_time - init_time"
   ]
  },
  {
   "cell_type": "code",
   "execution_count": 6,
   "id": "314b38f2-f7b1-44d7-ac4b-243992c9b68c",
   "metadata": {},
   "outputs": [
    {
     "name": "stdout",
     "output_type": "stream",
     "text": [
      "Processing time using 1 node: 6752.757486785005\n"
     ]
    }
   ],
   "source": [
    "print(f\"Processing time using 1 node: {elapsed_time_1f}\")"
   ]
  },
  {
   "cell_type": "code",
   "execution_count": 7,
   "id": "49a811bb-6d9f-4dee-b1f0-0c47410ac161",
   "metadata": {},
   "outputs": [],
   "source": [
    "spark_session.stop()"
   ]
  },
  {
   "cell_type": "markdown",
   "id": "1227e39d-c873-4917-8838-6006c6eea8ff",
   "metadata": {
    "jp-MarkdownHeadingCollapsed": true
   },
   "source": [
    "## Test using:\n",
    "- 2 nodes\n",
    "- 4 cores per node\n",
    "- 5 GiB per executor"
   ]
  },
  {
   "cell_type": "code",
   "execution_count": 10,
   "id": "810b881c-5186-4fdd-87c6-099de321f5e0",
   "metadata": {},
   "outputs": [],
   "source": [
    "spark_session = SparkSession.builder \\\n",
    "    .master(\"spark://192.168.2.47:7077\") \\\n",
    "    .appName(\"manual_test\") \\\n",
    "    .config(\"spark.dynamicAllocation.enabled\", False) \\\n",
    "    .config(\"spark.dynamicAllocation.shuffleTracking.enabled\", True) \\\n",
    "    .config(\"spark.shuffle.service.enabled\", False) \\\n",
    "    .config(\"spark.dynamicAllocation.executorIdleTimeout\", \"30s\") \\\n",
    "    .config(\"spark.executor.instances\", \"2\") \\\n",
    "    .config(\"spark.executor.memory\", \"5G\") \\\n",
    "    .config(\"spark.cores.max\", \"8\") \\\n",
    "    .getOrCreate()\n",
    "\n",
    "# RDD API\n",
    "spark_context = spark_session.sparkContext\n",
    "spark_context.setLogLevel(\"ERROR\")"
   ]
  },
  {
   "cell_type": "code",
   "execution_count": 11,
   "id": "b16cfd5b-787d-41e0-b721-9569531d9261",
   "metadata": {},
   "outputs": [
    {
     "name": "stderr",
     "output_type": "stream",
     "text": [
      "                                                                                "
     ]
    }
   ],
   "source": [
    "# Loading the dataset without the corrupted values\n",
    "df = spark_session.read.option(\"mode\", \"DROPMALFORMED\").json(\"hdfs://192.168.2.47:9000/data-project/corpus-webis-tldr-17.json\")"
   ]
  },
  {
   "cell_type": "code",
   "execution_count": 12,
   "id": "582cc721-5ce4-41c6-9280-0ccf82582a2d",
   "metadata": {},
   "outputs": [],
   "source": [
    "lemmatizer = WordNetLemmatizer()\n",
    "stop_words = set(stopwords.words('english'))\n",
    "sia = SentimentIntensityAnalyzer()\n",
    "\n",
    "@pandas_udf(\"string\")\n",
    "def preprocess_text_udf(text_series: pd.Series) -> pd.Series:\n",
    "    def preprocess(text):\n",
    "        # Lowercase the text\n",
    "        text = text.lower()\n",
    "        \n",
    "        # Remove special characters and extra spaces\n",
    "        text = re.sub(r'\\W+', ' ', text)\n",
    "        \n",
    "        # Split text into words\n",
    "        words = text.split()\n",
    "    \n",
    "        # Remove stopwords\n",
    "        words = [w for w in words if w not in stop_words]\n",
    "    \n",
    "        # Lemmatize words\n",
    "        words = [lemmatizer.lemmatize(w) for w in words]\n",
    "    \n",
    "        out_text = ' '.join(words)\n",
    "    \n",
    "        return out_text\n",
    "\n",
    "    return text_series.apply(preprocess)\n",
    "\n",
    "@pandas_udf(\"float\")\n",
    "def sentiment_score_udf(text_series: pd.Series) -> pd.Series:\n",
    "    return text_series.apply(lambda text: sia.polarity_scores(text)['compound'])\n",
    "\n",
    "@pandas_udf(\"string\")\n",
    "def sentiment_label_udf(score_series: pd.Series) -> pd.Series:\n",
    "    def label(score):\n",
    "        if score > 0.05:\n",
    "            return 'positive'\n",
    "        elif score < -0.05:\n",
    "            return 'negative'\n",
    "        else:\n",
    "            return 'neutral'\n",
    "    return score_series.apply(label)"
   ]
  },
  {
   "cell_type": "code",
   "execution_count": 13,
   "id": "225ec4af-f3c1-4905-8a8c-cc2cc4041b90",
   "metadata": {},
   "outputs": [
    {
     "name": "stderr",
     "output_type": "stream",
     "text": [
      "[Stage 52:=====================================================>(146 + 1) / 147]"
     ]
    },
    {
     "name": "stdout",
     "output_type": "stream",
     "text": [
      "+-------------------+-------------------+---------------+\n",
      "|          subreddit|avg_sentiment_score|sentiment_label|\n",
      "+-------------------+-------------------+---------------+\n",
      "|         offmychest|              0.198|       positive|\n",
      "|          AskReddit|             0.1232|       positive|\n",
      "|             videos|             0.0226|        neutral|\n",
      "|              DotA2|             0.3761|       positive|\n",
      "|      todayilearned|             0.0659|       positive|\n",
      "|      AdviceAnimals|              0.098|       positive|\n",
      "|     DestinyTheGame|             0.3073|       positive|\n",
      "|      relationships|              0.496|       positive|\n",
      "|               pics|             0.1108|       positive|\n",
      "|            Fitness|             0.4145|       positive|\n",
      "|         reddit.com|             0.1892|       positive|\n",
      "|    TwoXChromosomes|             0.3106|       positive|\n",
      "|          worldnews|            -0.0973|       negative|\n",
      "|           politics|             0.0745|       positive|\n",
      "|               IAmA|             0.2358|       positive|\n",
      "|              trees|             0.4134|       positive|\n",
      "|relationship_advice|             0.5632|       positive|\n",
      "|    leagueoflegends|             0.3344|       positive|\n",
      "|  explainlikeimfive|             0.2691|       positive|\n",
      "|                WTF|            -0.1121|       negative|\n",
      "|            atheism|             0.2702|       positive|\n",
      "|             gaming|             0.3343|       positive|\n",
      "|               tifu|             0.0718|       positive|\n",
      "|                sex|             0.5052|       positive|\n",
      "|              funny|             0.1142|       positive|\n",
      "+-------------------+-------------------+---------------+\n",
      "\n"
     ]
    },
    {
     "name": "stderr",
     "output_type": "stream",
     "text": [
      "                                                                                "
     ]
    }
   ],
   "source": [
    "init_time = perf_counter()\n",
    "\n",
    "df_prep = df.drop('body', 'content', 'id', 'subreddit_id', 'title', 'author', 'content_len', 'summary', 'summary_len')\n",
    "\n",
    "k = 25 # number of subreddits to consider\n",
    "df_top = df_prep.select('subreddit') \\\n",
    "                .groupBy('subreddit').count() \\\n",
    "                .sort('count', ascending=False) \\\n",
    "                .limit(k)\n",
    "\n",
    "topk_subreddits = [df_top.collect()[i][0] for i in range(k)]\n",
    "\n",
    "df_topk = df_prep.filter(df_prep['subreddit'].isin(topk_subreddits))\n",
    "\n",
    "df_topk = df_topk.withColumn(\"clean_text\", preprocess_text_udf(df_topk['normalizedBody']))\n",
    "\n",
    "df_vader = df_topk.withColumn(\"sentiment_score\", sentiment_score_udf(df_topk['clean_text']))\n",
    "df_vader = df_vader.withColumn(\"sentiment_label\", sentiment_label_udf(df_vader['sentiment_score']))\n",
    "\n",
    "df_avg = df_vader.groupBy(\"subreddit\") \\\n",
    "                 .agg(F.round(F.avg(\"sentiment_score\"), 4).alias(\"avg_sentiment_score\")) \\\n",
    "                 .limit(k)\n",
    "\n",
    "df_avg = df_avg.withColumn(\"sentiment_label\", sentiment_label_udf(df_avg['avg_sentiment_score']))\n",
    "\n",
    "df_avg.show(k)\n",
    "\n",
    "end_time = perf_counter()\n",
    "\n",
    "elapsed_time_2f = end_time - init_time"
   ]
  },
  {
   "cell_type": "code",
   "execution_count": 14,
   "id": "391700cb-2f42-49c3-96d4-cba8be1e5f69",
   "metadata": {},
   "outputs": [
    {
     "name": "stdout",
     "output_type": "stream",
     "text": [
      "Processing time using 2 nodes: 3292.280422616983\n"
     ]
    }
   ],
   "source": [
    "print(f\"Processing time using 2 nodes: {elapsed_time_2f}\")"
   ]
  },
  {
   "cell_type": "code",
   "execution_count": 15,
   "id": "eae07c3b-fa1c-401e-a12e-25e762047008",
   "metadata": {},
   "outputs": [],
   "source": [
    "spark_session.stop()"
   ]
  },
  {
   "cell_type": "markdown",
   "id": "7d57b217-303f-4a88-9451-ec3f47b516cd",
   "metadata": {
    "jp-MarkdownHeadingCollapsed": true
   },
   "source": [
    "## Test using:\n",
    "- 3 nodes\n",
    "- 4 cores per node\n",
    "- 5 GiB per executor"
   ]
  },
  {
   "cell_type": "code",
   "execution_count": 16,
   "id": "b0ef70b6-10b2-4a50-9094-d3784343092e",
   "metadata": {},
   "outputs": [],
   "source": [
    "spark_session = SparkSession.builder \\\n",
    "    .master(\"spark://192.168.2.47:7077\") \\\n",
    "    .appName(\"manual_test\") \\\n",
    "    .config(\"spark.dynamicAllocation.enabled\", False) \\\n",
    "    .config(\"spark.dynamicAllocation.shuffleTracking.enabled\", True) \\\n",
    "    .config(\"spark.shuffle.service.enabled\", False) \\\n",
    "    .config(\"spark.dynamicAllocation.executorIdleTimeout\", \"30s\") \\\n",
    "    .config(\"spark.executor.instances\", \"3\") \\\n",
    "    .config(\"spark.executor.memory\", \"5G\") \\\n",
    "    .config(\"spark.cores.max\", \"12\") \\\n",
    "    .getOrCreate()\n",
    "\n",
    "# RDD API\n",
    "spark_context = spark_session.sparkContext\n",
    "spark_context.setLogLevel(\"ERROR\")"
   ]
  },
  {
   "cell_type": "code",
   "execution_count": 17,
   "id": "3650111d-f5dd-4c56-9fd9-5b55cfad4546",
   "metadata": {},
   "outputs": [
    {
     "name": "stderr",
     "output_type": "stream",
     "text": [
      "                                                                                "
     ]
    }
   ],
   "source": [
    "# Loading the dataset without the corrupted values\n",
    "df = spark_session.read.option(\"mode\", \"DROPMALFORMED\").json(\"hdfs://192.168.2.47:9000/data-project/corpus-webis-tldr-17.json\")"
   ]
  },
  {
   "cell_type": "code",
   "execution_count": 18,
   "id": "97bbfb9c-bbca-445c-9ae6-4f3a3531abe6",
   "metadata": {},
   "outputs": [],
   "source": [
    "lemmatizer = WordNetLemmatizer()\n",
    "stop_words = set(stopwords.words('english'))\n",
    "sia = SentimentIntensityAnalyzer()\n",
    "\n",
    "@pandas_udf(\"string\")\n",
    "def preprocess_text_udf(text_series: pd.Series) -> pd.Series:\n",
    "    def preprocess(text):\n",
    "        # Lowercase the text\n",
    "        text = text.lower()\n",
    "        \n",
    "        # Remove special characters and extra spaces\n",
    "        text = re.sub(r'\\W+', ' ', text)\n",
    "        \n",
    "        # Split text into words\n",
    "        words = text.split()\n",
    "    \n",
    "        # Remove stopwords\n",
    "        words = [w for w in words if w not in stop_words]\n",
    "    \n",
    "        # Lemmatize words\n",
    "        words = [lemmatizer.lemmatize(w) for w in words]\n",
    "    \n",
    "        out_text = ' '.join(words)\n",
    "    \n",
    "        return out_text\n",
    "\n",
    "    return text_series.apply(preprocess)\n",
    "\n",
    "@pandas_udf(\"float\")\n",
    "def sentiment_score_udf(text_series: pd.Series) -> pd.Series:\n",
    "    return text_series.apply(lambda text: sia.polarity_scores(text)['compound'])\n",
    "\n",
    "@pandas_udf(\"string\")\n",
    "def sentiment_label_udf(score_series: pd.Series) -> pd.Series:\n",
    "    def label(score):\n",
    "        if score > 0.05:\n",
    "            return 'positive'\n",
    "        elif score < -0.05:\n",
    "            return 'negative'\n",
    "        else:\n",
    "            return 'neutral'\n",
    "    return score_series.apply(label)"
   ]
  },
  {
   "cell_type": "code",
   "execution_count": 19,
   "id": "b73e6b9a-f798-4a2a-8f31-fd0ac35d9667",
   "metadata": {},
   "outputs": [
    {
     "name": "stderr",
     "output_type": "stream",
     "text": [
      "[Stage 52:=====================================================>(146 + 1) / 147]"
     ]
    },
    {
     "name": "stdout",
     "output_type": "stream",
     "text": [
      "+-------------------+-------------------+---------------+\n",
      "|          subreddit|avg_sentiment_score|sentiment_label|\n",
      "+-------------------+-------------------+---------------+\n",
      "|         offmychest|              0.198|       positive|\n",
      "|          AskReddit|             0.1232|       positive|\n",
      "|             videos|             0.0226|        neutral|\n",
      "|              DotA2|             0.3761|       positive|\n",
      "|      todayilearned|             0.0659|       positive|\n",
      "|      AdviceAnimals|              0.098|       positive|\n",
      "|     DestinyTheGame|             0.3073|       positive|\n",
      "|      relationships|              0.496|       positive|\n",
      "|               pics|             0.1108|       positive|\n",
      "|            Fitness|             0.4145|       positive|\n",
      "|         reddit.com|             0.1892|       positive|\n",
      "|    TwoXChromosomes|             0.3106|       positive|\n",
      "|          worldnews|            -0.0973|       negative|\n",
      "|           politics|             0.0745|       positive|\n",
      "|               IAmA|             0.2358|       positive|\n",
      "|              trees|             0.4134|       positive|\n",
      "|relationship_advice|             0.5632|       positive|\n",
      "|    leagueoflegends|             0.3344|       positive|\n",
      "|  explainlikeimfive|             0.2691|       positive|\n",
      "|                WTF|            -0.1121|       negative|\n",
      "|            atheism|             0.2702|       positive|\n",
      "|             gaming|             0.3343|       positive|\n",
      "|               tifu|             0.0718|       positive|\n",
      "|                sex|             0.5052|       positive|\n",
      "|              funny|             0.1142|       positive|\n",
      "+-------------------+-------------------+---------------+\n",
      "\n"
     ]
    },
    {
     "name": "stderr",
     "output_type": "stream",
     "text": [
      "                                                                                "
     ]
    }
   ],
   "source": [
    "init_time = perf_counter()\n",
    "\n",
    "df_prep = df.drop('body', 'content', 'id', 'subreddit_id', 'title', 'author', 'content_len', 'summary', 'summary_len')\n",
    "\n",
    "k = 25 # number of subreddits to consider\n",
    "df_top = df_prep.select('subreddit') \\\n",
    "                .groupBy('subreddit').count() \\\n",
    "                .sort('count', ascending=False) \\\n",
    "                .limit(k)\n",
    "\n",
    "topk_subreddits = [df_top.collect()[i][0] for i in range(k)]\n",
    "\n",
    "df_topk = df_prep.filter(df_prep['subreddit'].isin(topk_subreddits))\n",
    "\n",
    "df_topk = df_topk.withColumn(\"clean_text\", preprocess_text_udf(df_topk['normalizedBody']))\n",
    "\n",
    "df_vader = df_topk.withColumn(\"sentiment_score\", sentiment_score_udf(df_topk['clean_text']))\n",
    "df_vader = df_vader.withColumn(\"sentiment_label\", sentiment_label_udf(df_vader['sentiment_score']))\n",
    "\n",
    "df_avg = df_vader.groupBy(\"subreddit\") \\\n",
    "                 .agg(F.round(F.avg(\"sentiment_score\"), 4).alias(\"avg_sentiment_score\")) \\\n",
    "                 .limit(k)\n",
    "\n",
    "df_avg = df_avg.withColumn(\"sentiment_label\", sentiment_label_udf(df_avg['avg_sentiment_score']))\n",
    "\n",
    "df_avg.show(k)\n",
    "\n",
    "end_time = perf_counter()\n",
    "\n",
    "elapsed_time_3f = end_time - init_time"
   ]
  },
  {
   "cell_type": "code",
   "execution_count": 20,
   "id": "609486c0-a00b-4bbd-99fd-ca93509c24f1",
   "metadata": {},
   "outputs": [
    {
     "name": "stdout",
     "output_type": "stream",
     "text": [
      "Processing time using 3 nodes: 1561.5872052760096\n"
     ]
    }
   ],
   "source": [
    "print(f\"Processing time using 3 nodes: {elapsed_time_3f}\")"
   ]
  },
  {
   "cell_type": "code",
   "execution_count": 21,
   "id": "29e5c7cf-dd01-4bcb-a784-0c11d8fe6b35",
   "metadata": {},
   "outputs": [],
   "source": [
    "spark_session.stop()"
   ]
  },
  {
   "cell_type": "markdown",
   "id": "483a6c21-d0ab-4e0a-9f04-ad843f3f1123",
   "metadata": {},
   "source": [
    "## Append results from the complete dataset to a list"
   ]
  },
  {
   "cell_type": "code",
   "execution_count": 11,
   "id": "b9375470-5a33-4a06-b32c-cb615551f051",
   "metadata": {},
   "outputs": [],
   "source": [
    "times_full = [elapsed_time_1f, elapsed_time_2f, elapsed_time_3f]"
   ]
  },
  {
   "cell_type": "code",
   "execution_count": 12,
   "id": "7c428de8-6bf3-45b9-a409-5f6c59549716",
   "metadata": {},
   "outputs": [
    {
     "name": "stdout",
     "output_type": "stream",
     "text": [
      "[6752.757486785005, 3292.280422616983, 1561.5872052760096]\n"
     ]
    }
   ],
   "source": [
    "print(times_full)"
   ]
  },
  {
   "cell_type": "markdown",
   "id": "65661c35-d13f-41c1-a122-38d70a24eff5",
   "metadata": {},
   "source": [
    "# Plot results"
   ]
  },
  {
   "cell_type": "code",
   "execution_count": 18,
   "id": "5dcf1fe1-8df0-4a07-bab6-236f71042184",
   "metadata": {},
   "outputs": [
    {
     "data": {
      "image/png": "[encoded data removed]",
      "text/plain": [
       "<Figure size 800x500 with 1 Axes>"
      ]
     },
     "metadata": {},
     "output_type": "display_data"
    }
   ],
   "source": [
    "import matplotlib.pyplot as plt\n",
    "\n",
    "# Dataset categories\n",
    "dataset_sizes = [\"50K\", \"100K\", \"200K\", \"500k\", \"Complete\"]\n",
    "\n",
    "# Reorganize data by node count\n",
    "compute_time_1_node = [times_50k[0], times_100k[0], times_200k[0], times_500k[0], times_full[0]]\n",
    "compute_time_2_nodes = [times_50k[1], times_100k[1], times_200k[1], times_500k[1], times_full[1]]\n",
    "compute_time_3_nodes = [times_50k[2], times_100k[2], times_200k[2], times_500k[2], times_full[2]]\n",
    "\n",
    "# X positions for categorical plotting\n",
    "x_positions = range(len(dataset_sizes))\n",
    "\n",
    "# Plot the data\n",
    "plt.figure(figsize=(8, 5))\n",
    "plt.plot(x_positions, compute_time_1_node, marker='o', linestyle='-', label=\"1 Node\")\n",
    "plt.plot(x_positions, compute_time_2_nodes, marker='s', linestyle='-', label=\"2 Nodes\")\n",
    "plt.plot(x_positions, compute_time_3_nodes, marker='^', linestyle='-', label=\"3 Nodes\")\n",
    "\n",
    "# Set categorical x-axis labels\n",
    "plt.xticks(x_positions, dataset_sizes)\n",
    "\n",
    "# Labels and title\n",
    "plt.xlabel(\"Dataset Size\")\n",
    "plt.ylabel(\"Compute Time (seconds)\")\n",
    "plt.title(\"Spark Scalability: Compute Time vs Dataset Size\")\n",
    "plt.legend()\n",
    "plt.grid(True)\n",
    "\n",
    "# Show the plot\n",
    "plt.show()\n"
   ]
  }
 ],
 "metadata": {
  "kernelspec": {
   "display_name": "Python 3 (ipykernel)",
   "language": "python",
   "name": "python3"
  },
  "language_info": {
   "codemirror_mode": {
    "name": "ipython",
    "version": 3
   },
   "file_extension": ".py",
   "mimetype": "text/x-python",
   "name": "python",
   "nbconvert_exporter": "python",
   "pygments_lexer": "ipython3",
   "version": "3.8.10"
  }
 },
 "nbformat": 4,
 "nbformat_minor": 5
}
