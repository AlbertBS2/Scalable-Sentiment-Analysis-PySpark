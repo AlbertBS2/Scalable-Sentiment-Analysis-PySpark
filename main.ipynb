{
 "cells": [
  {
   "cell_type": "code",
   "execution_count": 1,
   "id": "16a8c061-1eee-4db9-a5f9-c9f9c7760aaa",
   "metadata": {},
   "outputs": [],
   "source": [
    "from pyspark.sql import SparkSession\n",
    "import pyspark.sql.functions as F"
   ]
  },
  {
   "cell_type": "code",
   "execution_count": 2,
   "id": "07a8fb69-5e2c-49b9-81b3-5d2e4b89642a",
   "metadata": {},
   "outputs": [
    {
     "name": "stderr",
     "output_type": "stream",
     "text": [
      "Setting default log level to \"WARN\".\n",
      "To adjust logging level use sc.setLogLevel(newLevel). For SparkR, use setLogLevel(newLevel).\n",
      "25/03/19 00:38:10 WARN NativeCodeLoader: Unable to load native-hadoop library for your platform... using builtin-java classes where applicable\n",
      "25/03/19 00:38:11 WARN StandaloneSchedulerBackend: Dynamic allocation enabled without spark.executor.cores explicitly set, you may get more executors allocated than expected. It's recommended to set spark.executor.cores explicitly. Please check SPARK-30299 for more details.\n"
     ]
    }
   ],
   "source": [
    "spark_session = SparkSession.builder \\\n",
    "    .master(\"spark://192.168.2.47:7077\") \\\n",
    "    .appName(\"Group40_Project\") \\\n",
    "    .config(\"spark.dynamicAllocation.enabled\", True) \\\n",
    "    .config(\"spark.dynamicAllocation.shuffleTracking.enabled\", True) \\\n",
    "    .config(\"spark.shuffle.service.enabled\", False) \\\n",
    "    .config(\"spark.dynamicAllocation.executorIdleTimeout\", \"30s\") \\\n",
    "    .config(\"spark.executor.memory\", \"5G\") \\\n",
    "    .config(\"spark.cores.max\", 12) \\\n",
    "    .getOrCreate()"
   ]
  },
  {
   "cell_type": "markdown",
   "id": "97b415ed-b32f-4a04-a9d9-39cf82c94e66",
   "metadata": {},
   "source": [
    "## Loading the data as a DataFrame"
   ]
  },
  {
   "cell_type": "code",
   "execution_count": 3,
   "id": "75c8b41e-5663-45ce-8ced-9babe456699e",
   "metadata": {},
   "outputs": [
    {
     "name": "stderr",
     "output_type": "stream",
     "text": [
      "                                                                                "
     ]
    }
   ],
   "source": [
    "# Loading the dataset without the corrupted values\n",
    "df = spark_session.read.option(\"mode\", \"DROPMALFORMED\").json(\"hdfs://192.168.2.47:9000/data-project/corpus-webis-tldr-17.json\")"
   ]
  },
  {
   "cell_type": "code",
   "execution_count": 4,
   "id": "d7767fb4-349a-417d-a005-18e0f3d83dd7",
   "metadata": {},
   "outputs": [
    {
     "name": "stdout",
     "output_type": "stream",
     "text": [
      "root\n",
      " |-- author: string (nullable = true)\n",
      " |-- body: string (nullable = true)\n",
      " |-- content: string (nullable = true)\n",
      " |-- content_len: long (nullable = true)\n",
      " |-- id: string (nullable = true)\n",
      " |-- normalizedBody: string (nullable = true)\n",
      " |-- subreddit: string (nullable = true)\n",
      " |-- subreddit_id: string (nullable = true)\n",
      " |-- summary: string (nullable = true)\n",
      " |-- summary_len: long (nullable = true)\n",
      " |-- title: string (nullable = true)\n",
      "\n"
     ]
    }
   ],
   "source": [
    "df.printSchema()"
   ]
  },
  {
   "cell_type": "code",
   "execution_count": 5,
   "id": "800af0cc-d5f7-45ea-840d-63c98e73ec42",
   "metadata": {},
   "outputs": [
    {
     "name": "stdout",
     "output_type": "stream",
     "text": [
      "+------------------+--------------------+--------------------+-----------+-------+--------------------+--------------------+------------+--------------------+-----------+--------+\n",
      "|            author|                body|             content|content_len|     id|      normalizedBody|           subreddit|subreddit_id|             summary|summary_len|   title|\n",
      "+------------------+--------------------+--------------------+-----------+-------+--------------------+--------------------+------------+--------------------+-----------+--------+\n",
      "|  raysofdarkmatter|I think it should...|I think it should...|        178|c69al3r|I think it should...|                math|    t5_2qh0n|Shifting seasonal...|          8|    NULL|\n",
      "|           Stork13|Art is about the ...|Art is about the ...|        148|c6a9nxd|Art is about the ...|               funny|    t5_2qh33|Personal opinions...|          4|    NULL|\n",
      "|     Cloud_dreamer|Ask me what I thi...|Ask me what I thi...|         76|c6acx4l|Ask me what I thi...|         Borderlands|    t5_2r8cd|insults and slack...|         73|    NULL|\n",
      "|     NightlyReaper|In Mechwarrior On...|In Mechwarrior On...|        213|c8onqew|In Mechwarrior On...|            gamingpc|    t5_2sq2y|Yes, Joysticks in...|         19|    NULL|\n",
      "|    NuffZetPand0ra|You are talking a...|You are talking a...|        404|c6acxvc|You are talking a...|              Diablo|    t5_2qore|Class only items ...|          7|D2 help?|\n",
      "|beatlecreedcabaret|All but one of my...|All but one of my...|        130|c6ahuc4|All but one of my...|   RedditLaqueristas|    t5_2se5q|      OPI Nail Envy!|          3|    NULL|\n",
      "|      nobodysdiary|I could give a sh...|I could give a sh...|        156|c6aggux|I could give a sh...|               apple|    t5_2qh1f|I don't drive lik...|         18|    NULL|\n",
      "|          chrom_ed|So you're saying ...|So you're saying ...|        134|c6agxtv|So you're saying ...|               apple|    t5_2qh1f|you don't seem to...|          9|    NULL|\n",
      "|      gadzookfilms|I love this idea ...|I love this idea ...|        126|c6asb7p|I love this idea ...|RedditFilmsProduc...|    t5_2v33h|How we make money...|          9|    NULL|\n",
      "|      iamacannibal|Theres an entire ...|Theres an entire ...|        181|c6aveyw|Theres an entire ...|       AbandonedPorn|    t5_2sh6t|I'll try and get ...|         25|    NULL|\n",
      "+------------------+--------------------+--------------------+-----------+-------+--------------------+--------------------+------------+--------------------+-----------+--------+\n",
      "only showing top 10 rows\n",
      "\n"
     ]
    }
   ],
   "source": [
    "df.show(10)"
   ]
  },
  {
   "cell_type": "code",
   "execution_count": 6,
   "id": "4e6bc83d-c1ea-40e8-a38f-28ed117dedfd",
   "metadata": {},
   "outputs": [],
   "source": [
    "df_prep = df.drop('body', 'content', 'id', 'subreddit_id', 'title', 'author', 'content_len', 'summary', 'summary_len')\n",
    "#df_prep = df_prep.withColumn(\"content_len\", F.col(\"content_len\").cast(\"int\"))\n",
    "#df_prep = df_prep.withColumn(\"summary_len\", F.col(\"summary_len\").cast(\"int\"))"
   ]
  },
  {
   "cell_type": "code",
   "execution_count": 7,
   "id": "3e2d5cb7-2554-4e2f-8cb8-97f1d2ae7d96",
   "metadata": {},
   "outputs": [
    {
     "name": "stdout",
     "output_type": "stream",
     "text": [
      "root\n",
      " |-- normalizedBody: string (nullable = true)\n",
      " |-- subreddit: string (nullable = true)\n",
      "\n"
     ]
    }
   ],
   "source": [
    "df_prep.printSchema()"
   ]
  },
  {
   "cell_type": "code",
   "execution_count": 8,
   "id": "14f33371-d100-4238-b6e9-0bd410ca88c3",
   "metadata": {},
   "outputs": [
    {
     "name": "stdout",
     "output_type": "stream",
     "text": [
      "+--------------------+--------------------+\n",
      "|      normalizedBody|           subreddit|\n",
      "+--------------------+--------------------+\n",
      "|I think it should...|                math|\n",
      "|Art is about the ...|               funny|\n",
      "|Ask me what I thi...|         Borderlands|\n",
      "|In Mechwarrior On...|            gamingpc|\n",
      "|You are talking a...|              Diablo|\n",
      "|All but one of my...|   RedditLaqueristas|\n",
      "|I could give a sh...|               apple|\n",
      "|So you're saying ...|               apple|\n",
      "|I love this idea ...|RedditFilmsProduc...|\n",
      "|Theres an entire ...|       AbandonedPorn|\n",
      "+--------------------+--------------------+\n",
      "only showing top 10 rows\n",
      "\n"
     ]
    }
   ],
   "source": [
    "df_prep.show(10)"
   ]
  },
  {
   "cell_type": "markdown",
   "id": "f16a8819-564d-4804-8f0c-e3337c396c73",
   "metadata": {},
   "source": [
    "## Preprocessing texts"
   ]
  },
  {
   "cell_type": "code",
   "execution_count": 9,
   "id": "ae32511c-e940-4b02-a285-88317bef3ee4",
   "metadata": {},
   "outputs": [
    {
     "name": "stderr",
     "output_type": "stream",
     "text": [
      "[nltk_data] Downloading package stopwords to /home/ubuntu/nltk_data...\n",
      "[nltk_data]   Package stopwords is already up-to-date!\n",
      "[nltk_data] Downloading package wordnet to /home/ubuntu/nltk_data...\n",
      "[nltk_data]   Package wordnet is already up-to-date!\n"
     ]
    },
    {
     "data": {
      "text/plain": [
       "True"
      ]
     },
     "execution_count": 9,
     "metadata": {},
     "output_type": "execute_result"
    }
   ],
   "source": [
    "import re\n",
    "import nltk\n",
    "from nltk.corpus import stopwords\n",
    "from nltk.stem import WordNetLemmatizer\n",
    "\n",
    "nltk.download('stopwords')\n",
    "nltk.download('wordnet')"
   ]
  },
  {
   "cell_type": "code",
   "execution_count": 10,
   "id": "5e7e7730-627f-4fd1-9aa3-180db13e8613",
   "metadata": {},
   "outputs": [],
   "source": [
    "def preprocess_text(text):\n",
    "    # Lowercase the text\n",
    "    text = text.lower()\n",
    "    \n",
    "    # Remove special characters and extra spaces\n",
    "    text = re.sub(r'\\W+', ' ', text)\n",
    "    \n",
    "    # Lowercase and split text into words\n",
    "    words = text.split()\n",
    "\n",
    "    # Remove stopwords\n",
    "    stop_words = stopwords.words('english')\n",
    "    words = [w for w in words if w not in stop_words]\n",
    "\n",
    "    # Lemmatize words\n",
    "    lemmatizer = WordNetLemmatizer()\n",
    "    words = [lemmatizer.lemmatize(w) for w in words]\n",
    "\n",
    "    out_text = ' '.join(words)\n",
    "\n",
    "    return out_text"
   ]
  },
  {
   "cell_type": "code",
   "execution_count": 11,
   "id": "ea236cd4-7925-4396-b236-e512037dc611",
   "metadata": {},
   "outputs": [
    {
     "data": {
      "text/plain": [
       "'sample text check word removed'"
      ]
     },
     "execution_count": 11,
     "metadata": {},
     "output_type": "execute_result"
    }
   ],
   "source": [
    "t = preprocess_text(\"This is a sample text to check which words are removed or not.\")\n",
    "t"
   ]
  },
  {
   "cell_type": "code",
   "execution_count": 12,
   "id": "94c251ed-090b-4310-a917-c9837834d1be",
   "metadata": {},
   "outputs": [
    {
     "name": "stderr",
     "output_type": "stream",
     "text": [
      "                                                                                "
     ]
    },
    {
     "name": "stdout",
     "output_type": "stream",
     "text": [
      "+-------------------+------+\n",
      "|          subreddit| count|\n",
      "+-------------------+------+\n",
      "|          AskReddit|589947|\n",
      "|      relationships|352049|\n",
      "|    leagueoflegends|109307|\n",
      "|               tifu| 52219|\n",
      "|relationship_advice| 50416|\n",
      "|              trees| 47286|\n",
      "|             gaming| 43851|\n",
      "|            atheism| 43268|\n",
      "|      AdviceAnimals| 40783|\n",
      "|              funny| 40171|\n",
      "+-------------------+------+\n",
      "only showing top 10 rows\n",
      "\n"
     ]
    }
   ],
   "source": [
    "df_prep.select('subreddit') \\\n",
    "       .groupBy('subreddit').count() \\\n",
    "       .sort('count', ascending=False) \\\n",
    "       .show(10)"
   ]
  },
  {
   "cell_type": "code",
   "execution_count": 13,
   "id": "75977473-f36c-4625-8f44-670c2fbb1aa4",
   "metadata": {},
   "outputs": [],
   "source": [
    "top10_subreddits = ['AskReddit', 'relationships', 'leagueoflegends', 'tifu', 'relationship_advice', 'trees', 'gaming', 'atheism', 'AdviceAnimals', 'funny']"
   ]
  },
  {
   "cell_type": "code",
   "execution_count": 14,
   "id": "96694bfd-6f6f-43b0-ba62-bc29b2ee6251",
   "metadata": {},
   "outputs": [],
   "source": [
    "df_top10_sr = df_prep.filter(df_prep['subreddit'].isin(top10_subreddits))"
   ]
  },
  {
   "cell_type": "code",
   "execution_count": 15,
   "id": "28a0f46e-03c0-4656-bdc4-1f51d1d9d632",
   "metadata": {},
   "outputs": [
    {
     "name": "stdout",
     "output_type": "stream",
     "text": [
      "+--------------------+---------------+\n",
      "|      normalizedBody|      subreddit|\n",
      "+--------------------+---------------+\n",
      "|Art is about the ...|          funny|\n",
      "|FALSE. Evidence: ...|        atheism|\n",
      "|Yeah, but most fo...|      AskReddit|\n",
      "|Didn't they lose ...|leagueoflegends|\n",
      "|You probably won'...|      AskReddit|\n",
      "|This picture does...|          trees|\n",
      "|I want to say thi...|      AskReddit|\n",
      "|I take a beta blo...|      AskReddit|\n",
      "|About two months ...|      AskReddit|\n",
      "|While I was under...|      AskReddit|\n",
      "+--------------------+---------------+\n",
      "only showing top 10 rows\n",
      "\n"
     ]
    }
   ],
   "source": [
    "df_top10_sr.show(10)"
   ]
  },
  {
   "cell_type": "code",
   "execution_count": 16,
   "id": "5e3c8163-2da7-4fbf-8727-7bb5b37d71df",
   "metadata": {},
   "outputs": [],
   "source": [
    "from pyspark.sql.functions import udf"
   ]
  },
  {
   "cell_type": "code",
   "execution_count": 17,
   "id": "0e702d7d-4995-43a7-bb4c-7eb5f013b670",
   "metadata": {},
   "outputs": [],
   "source": [
    "preprocess_text_udf = udf(preprocess_text, \"string\")"
   ]
  },
  {
   "cell_type": "code",
   "execution_count": 18,
   "id": "0f809ffd-0566-4a2c-96ac-f19acf93724e",
   "metadata": {},
   "outputs": [],
   "source": [
    "df_top10_sr = df_top10_sr.withColumn(\"clean_text\", preprocess_text_udf(df_top10_sr['normalizedBody']))"
   ]
  },
  {
   "cell_type": "code",
   "execution_count": 19,
   "id": "8a5ea465-f6e3-40dd-a871-ddd9bf2d6216",
   "metadata": {},
   "outputs": [
    {
     "name": "stderr",
     "output_type": "stream",
     "text": [
      "[Stage 7:>                                                          (0 + 1) / 1]"
     ]
    },
    {
     "name": "stdout",
     "output_type": "stream",
     "text": [
      "+--------------------+---------------+--------------------+\n",
      "|      normalizedBody|      subreddit|          clean_text|\n",
      "+--------------------+---------------+--------------------+\n",
      "|Art is about the ...|          funny|art hardest thing...|\n",
      "|FALSE. Evidence: ...|        atheism|false evidence wo...|\n",
      "|Yeah, but most fo...|      AskReddit|yeah folk think a...|\n",
      "|Didn't they lose ...|leagueoflegends|lose 6 game row c...|\n",
      "|You probably won'...|      AskReddit|probably come as ...|\n",
      "|This picture does...|          trees|picture follow we...|\n",
      "|I want to say thi...|      AskReddit|want say two week...|\n",
      "|I take a beta blo...|      AskReddit|take beta blocker...|\n",
      "|About two months ...|      AskReddit|two month ago viv...|\n",
      "|While I was under...|      AskReddit|spinal surgery ye...|\n",
      "+--------------------+---------------+--------------------+\n",
      "only showing top 10 rows\n",
      "\n"
     ]
    },
    {
     "name": "stderr",
     "output_type": "stream",
     "text": [
      "                                                                                "
     ]
    }
   ],
   "source": [
    "df_top10_sr.show(10)"
   ]
  },
  {
   "cell_type": "markdown",
   "id": "f979f6bc-4600-4aac-b919-339e49c1c45e",
   "metadata": {},
   "source": [
    "## Rule based sentiment analysis with VADER"
   ]
  },
  {
   "cell_type": "code",
   "execution_count": 20,
   "id": "84bbf5d3-a00f-4721-888c-d1de060dc93e",
   "metadata": {},
   "outputs": [
    {
     "name": "stderr",
     "output_type": "stream",
     "text": [
      "[nltk_data] Downloading package vader_lexicon to\n",
      "[nltk_data]     /home/ubuntu/nltk_data...\n",
      "[nltk_data]   Package vader_lexicon is already up-to-date!\n"
     ]
    },
    {
     "data": {
      "text/plain": [
       "True"
      ]
     },
     "execution_count": 20,
     "metadata": {},
     "output_type": "execute_result"
    }
   ],
   "source": [
    "from nltk.sentiment import SentimentIntensityAnalyzer\n",
    "nltk.download('vader_lexicon')"
   ]
  },
  {
   "cell_type": "code",
   "execution_count": 21,
   "id": "d458a8cc-6af2-44d3-a744-cc1df41e4e3c",
   "metadata": {},
   "outputs": [],
   "source": [
    "sia = SentimentIntensityAnalyzer()"
   ]
  },
  {
   "cell_type": "code",
   "execution_count": 22,
   "id": "16a428a4-092f-4ba3-b30c-6d0a8c56b332",
   "metadata": {},
   "outputs": [],
   "source": [
    "def sentiment_score(text):\n",
    "    return sia.polarity_scores(text)['compound']\n",
    "\n",
    "def sentiment_label(score):\n",
    "    if score > 0.05:\n",
    "        return 'positive'\n",
    "    elif score < -0.05:\n",
    "        return 'negative'\n",
    "    else:\n",
    "        return 'neutral'"
   ]
  },
  {
   "cell_type": "code",
   "execution_count": 23,
   "id": "3cd9820c-1753-4f5d-8dc1-c10469b9e563",
   "metadata": {},
   "outputs": [],
   "source": [
    "sentiment_score_udf = udf(sentiment_score, \"float\")\n",
    "sentiment_label_udf = udf(sentiment_label, \"string\")"
   ]
  },
  {
   "cell_type": "code",
   "execution_count": 24,
   "id": "1ee4a871-a404-442f-bd3c-9b300d1e3736",
   "metadata": {},
   "outputs": [],
   "source": [
    "df_vader = df_top10_sr.withColumn(\"sentiment_score\", sentiment_score_udf(df_top10_sr['clean_text']))\n",
    "df_vader = df_vader.withColumn(\"sentiment_label\", sentiment_label_udf(df_vader['sentiment_score']))"
   ]
  },
  {
   "cell_type": "code",
   "execution_count": 25,
   "id": "78d69743-a2dd-441d-9e16-991a58cacaab",
   "metadata": {},
   "outputs": [
    {
     "name": "stderr",
     "output_type": "stream",
     "text": [
      "[Stage 8:>                                                          (0 + 1) / 1]"
     ]
    },
    {
     "name": "stdout",
     "output_type": "stream",
     "text": [
      "+--------------------+---------+--------------------+---------------+---------------+\n",
      "|      normalizedBody|subreddit|          clean_text|sentiment_score|sentiment_label|\n",
      "+--------------------+---------+--------------------+---------------+---------------+\n",
      "|Art is about the ...|    funny|art hardest thing...|          0.128|       positive|\n",
      "|FALSE. Evidence: ...|  atheism|false evidence wo...|        -0.9607|       negative|\n",
      "+--------------------+---------+--------------------+---------------+---------------+\n",
      "only showing top 2 rows\n",
      "\n"
     ]
    },
    {
     "name": "stderr",
     "output_type": "stream",
     "text": [
      "                                                                                "
     ]
    }
   ],
   "source": [
    "df_vader.show(2)"
   ]
  },
  {
   "cell_type": "code",
   "execution_count": 26,
   "id": "1b4eedbb-d6f7-4491-a164-93cefe056348",
   "metadata": {},
   "outputs": [],
   "source": [
    "df_vader.createTempView('vader')"
   ]
  },
  {
   "cell_type": "code",
   "execution_count": 27,
   "id": "11b716ae-7106-448b-aeab-8d6d11e358a1",
   "metadata": {},
   "outputs": [
    {
     "name": "stderr",
     "output_type": "stream",
     "text": [
      "[Stage 9:======================================================>(146 + 1) / 147]"
     ]
    },
    {
     "name": "stdout",
     "output_type": "stream",
     "text": [
      "+-------------------+------------------------------+\n",
      "|          subreddit|round(avg(sentiment_score), 4)|\n",
      "+-------------------+------------------------------+\n",
      "|          AskReddit|                        0.1232|\n",
      "|      AdviceAnimals|                         0.098|\n",
      "|      relationships|                         0.496|\n",
      "|              trees|                        0.4134|\n",
      "|relationship_advice|                        0.5632|\n",
      "|    leagueoflegends|                        0.3344|\n",
      "|            atheism|                        0.2702|\n",
      "|             gaming|                        0.3343|\n",
      "|               tifu|                        0.0718|\n",
      "|              funny|                        0.1142|\n",
      "+-------------------+------------------------------+\n",
      "\n"
     ]
    },
    {
     "name": "stderr",
     "output_type": "stream",
     "text": [
      "                                                                                "
     ]
    }
   ],
   "source": [
    "spark_session.sql(\n",
    "    \"\"\"\n",
    "    SELECT subreddit, ROUND(AVG(sentiment_score), 4)\n",
    "    FROM vader\n",
    "    GROUP BY subreddit\n",
    "    LIMIT 10\n",
    "    \"\"\"\n",
    ").show()"
   ]
  },
  {
   "cell_type": "code",
   "execution_count": null,
   "id": "5bc8595b-3f47-46a8-aaec-07f80280e2cf",
   "metadata": {},
   "outputs": [],
   "source": []
  },
  {
   "cell_type": "code",
   "execution_count": null,
   "id": "6ed178be-58a5-4eca-a5f3-1fa5a47db3f0",
   "metadata": {},
   "outputs": [],
   "source": []
  },
  {
   "cell_type": "code",
   "execution_count": null,
   "id": "cb6832b5-39cf-43bb-b2c3-b102176a26b8",
   "metadata": {},
   "outputs": [],
   "source": []
  },
  {
   "cell_type": "code",
   "execution_count": null,
   "id": "477d48de-7bd4-449c-a6ea-6e804ddb9394",
   "metadata": {
    "scrolled": true
   },
   "outputs": [],
   "source": [
    "df_prep.createTempView(\"reddit\")"
   ]
  },
  {
   "cell_type": "code",
   "execution_count": 10,
   "id": "15594052-a853-488b-a30a-17a54fb099ce",
   "metadata": {},
   "outputs": [
    {
     "name": "stderr",
     "output_type": "stream",
     "text": [
      "[Stage 3:======================================================>(146 + 1) / 147]"
     ]
    },
    {
     "name": "stdout",
     "output_type": "stream",
     "text": [
      "+--------------------+--------------------------+\n",
      "|           subreddit|round(avg(content_len), 2)|\n",
      "+--------------------+--------------------------+\n",
      "|               anime|                    235.91|\n",
      "|          MensRights|                    289.63|\n",
      "|              travel|                    263.82|\n",
      "|londonfootballmeetup|                     284.5|\n",
      "|               HPMOR|                    285.16|\n",
      "|     youtubecomments|                    157.13|\n",
      "|        SaltLakeCity|                    190.72|\n",
      "| UnresolvedMysteries|                    391.01|\n",
      "|          MLBTheShow|                    215.68|\n",
      "|           metro2033|                    101.63|\n",
      "+--------------------+--------------------------+\n",
      "only showing top 10 rows\n",
      "\n"
     ]
    },
    {
     "name": "stderr",
     "output_type": "stream",
     "text": [
      "                                                                                "
     ]
    }
   ],
   "source": [
    "spark_session.sql(\n",
    "    \"\"\"\n",
    "    SELECT subreddit, ROUND(AVG(content_len), 2)\n",
    "    FROM reddit\n",
    "    GROUP BY subreddit\n",
    "    \"\"\"\n",
    ").show(10)"
   ]
  }
 ],
 "metadata": {
  "kernelspec": {
   "display_name": "Python 3 (ipykernel)",
   "language": "python",
   "name": "python3"
  },
  "language_info": {
   "codemirror_mode": {
    "name": "ipython",
    "version": 3
   },
   "file_extension": ".py",
   "mimetype": "text/x-python",
   "name": "python",
   "nbconvert_exporter": "python",
   "pygments_lexer": "ipython3",
   "version": "3.8.10"
  }
 },
 "nbformat": 4,
 "nbformat_minor": 5
}
